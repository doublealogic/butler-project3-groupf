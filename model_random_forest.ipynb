{
 "cells": [
  {
   "cell_type": "code",
   "execution_count": 1,
   "metadata": {},
   "outputs": [
    {
     "name": "stdout",
     "output_type": "stream",
     "text": [
      "Requirement already up-to-date: sklearn in c:\\users\\bever\\anaconda3\\envs\\pythondata\\lib\\site-packages (0.0)\n",
      "Requirement already satisfied, skipping upgrade: scikit-learn in c:\\users\\bever\\anaconda3\\envs\\pythondata\\lib\\site-packages (from sklearn) (0.23.1)\n",
      "Requirement already satisfied, skipping upgrade: joblib>=0.11 in c:\\users\\bever\\anaconda3\\envs\\pythondata\\lib\\site-packages (from scikit-learn->sklearn) (0.16.0)\n",
      "Requirement already satisfied, skipping upgrade: numpy>=1.13.3 in c:\\users\\bever\\anaconda3\\envs\\pythondata\\lib\\site-packages (from scikit-learn->sklearn) (1.17.0)\n",
      "Requirement already satisfied, skipping upgrade: scipy>=0.19.1 in c:\\users\\bever\\anaconda3\\envs\\pythondata\\lib\\site-packages (from scikit-learn->sklearn) (1.5.0)\n",
      "Requirement already satisfied, skipping upgrade: threadpoolctl>=2.0.0 in c:\\users\\bever\\anaconda3\\envs\\pythondata\\lib\\site-packages (from scikit-learn->sklearn) (2.1.0)\n"
     ]
    }
   ],
   "source": [
    "# Update sklearn to prevent version mismatches\n",
    "!pip install sklearn --upgrade"
   ]
  },
  {
   "cell_type": "code",
   "execution_count": 2,
   "metadata": {},
   "outputs": [
    {
     "name": "stdout",
     "output_type": "stream",
     "text": [
      "Requirement already satisfied: joblib in c:\\users\\bever\\anaconda3\\envs\\pythondata\\lib\\site-packages (0.16.0)\n"
     ]
    }
   ],
   "source": [
    "# install joblib. This will be used to save your model. \n",
    "# Restart your kernel after installing \n",
    "!pip install joblib"
   ]
  },
  {
   "cell_type": "code",
   "execution_count": 3,
   "metadata": {},
   "outputs": [],
   "source": [
    "%matplotlib inline"
   ]
  },
  {
   "cell_type": "code",
   "execution_count": 4,
   "metadata": {},
   "outputs": [],
   "source": [
    "import os\n",
    "import joblib\n",
    "import pandas as pd\n",
    "import seaborn as sns\n",
    "from sklearn.model_selection import train_test_split\n",
    "from sklearn.preprocessing import MinMaxScaler\n",
    "from sklearn.ensemble import RandomForestClassifier\n",
    "from sklearn.model_selection import GridSearchCV\n",
    "from sklearn.metrics import classification_report\n",
    "import matplotlib.pyplot as plt"
   ]
  },
  {
   "cell_type": "markdown",
   "metadata": {},
   "source": [
    "# Read the CSV and Perform Basic Data Cleaning"
   ]
  },
  {
   "cell_type": "markdown",
   "metadata": {},
   "source": [
    "## Dataset\n",
    "https://www.kaggle.com/uciml/mushroom-classification"
   ]
  },
  {
   "cell_type": "markdown",
   "metadata": {},
   "source": [
    "## Website with further information about the data\n",
    "https://archive.ics.uci.edu/ml/datasets/Mushroom"
   ]
  },
  {
   "cell_type": "markdown",
   "metadata": {},
   "source": [
    "## Context\n",
    "Although this dataset was originally contributed to the UCI Machine Learning repository nearly 30 years ago, mushroom hunting (otherwise known as \"shrooming\") is enjoying new peaks in popularity. Learn which features spell certain death and which are most palatable in this dataset of mushroom characteristics. And how certain can your model be?\n",
    "\n",
    "## Content\n",
    "This dataset includes descriptions of hypothetical samples corresponding to 23 species of gilled mushrooms in the Agaricus and Lepiota Family Mushroom drawn from The Audubon Society Field Guide to North American Mushrooms (1981). Each species is identified as definitely edible, definitely poisonous, or of unknown edibility and not recommended. This latter class was combined with the poisonous one. The Guide clearly states that there is no simple rule for determining the edibility of a mushroom; no rule like \"leaflets three, let it be'' for Poisonous Oak and Ivy.\n",
    "\n",
    "Time period: Donated to UCI ML 27 April 1987"
   ]
  },
  {
   "cell_type": "markdown",
   "metadata": {},
   "source": [
    "## Read the csv file"
   ]
  },
  {
   "cell_type": "code",
   "execution_count": 5,
   "metadata": {},
   "outputs": [
    {
     "data": {
      "text/html": [
       "<div>\n",
       "<style scoped>\n",
       "    .dataframe tbody tr th:only-of-type {\n",
       "        vertical-align: middle;\n",
       "    }\n",
       "\n",
       "    .dataframe tbody tr th {\n",
       "        vertical-align: top;\n",
       "    }\n",
       "\n",
       "    .dataframe thead th {\n",
       "        text-align: right;\n",
       "    }\n",
       "</style>\n",
       "<table border=\"1\" class=\"dataframe\">\n",
       "  <thead>\n",
       "    <tr style=\"text-align: right;\">\n",
       "      <th></th>\n",
       "      <th>class</th>\n",
       "      <th>cap-shape</th>\n",
       "      <th>cap-surface</th>\n",
       "      <th>cap-color</th>\n",
       "      <th>bruises</th>\n",
       "      <th>odor</th>\n",
       "      <th>gill-attachment</th>\n",
       "      <th>gill-spacing</th>\n",
       "      <th>gill-size</th>\n",
       "      <th>gill-color</th>\n",
       "      <th>...</th>\n",
       "      <th>stalk-surface-below-ring</th>\n",
       "      <th>stalk-color-above-ring</th>\n",
       "      <th>stalk-color-below-ring</th>\n",
       "      <th>veil-type</th>\n",
       "      <th>veil-color</th>\n",
       "      <th>ring-number</th>\n",
       "      <th>ring-type</th>\n",
       "      <th>spore-print-color</th>\n",
       "      <th>population</th>\n",
       "      <th>habitat</th>\n",
       "    </tr>\n",
       "  </thead>\n",
       "  <tbody>\n",
       "    <tr>\n",
       "      <th>0</th>\n",
       "      <td>p</td>\n",
       "      <td>x</td>\n",
       "      <td>s</td>\n",
       "      <td>n</td>\n",
       "      <td>t</td>\n",
       "      <td>p</td>\n",
       "      <td>f</td>\n",
       "      <td>c</td>\n",
       "      <td>n</td>\n",
       "      <td>k</td>\n",
       "      <td>...</td>\n",
       "      <td>s</td>\n",
       "      <td>w</td>\n",
       "      <td>w</td>\n",
       "      <td>p</td>\n",
       "      <td>w</td>\n",
       "      <td>o</td>\n",
       "      <td>p</td>\n",
       "      <td>k</td>\n",
       "      <td>s</td>\n",
       "      <td>u</td>\n",
       "    </tr>\n",
       "    <tr>\n",
       "      <th>1</th>\n",
       "      <td>e</td>\n",
       "      <td>x</td>\n",
       "      <td>s</td>\n",
       "      <td>y</td>\n",
       "      <td>t</td>\n",
       "      <td>a</td>\n",
       "      <td>f</td>\n",
       "      <td>c</td>\n",
       "      <td>b</td>\n",
       "      <td>k</td>\n",
       "      <td>...</td>\n",
       "      <td>s</td>\n",
       "      <td>w</td>\n",
       "      <td>w</td>\n",
       "      <td>p</td>\n",
       "      <td>w</td>\n",
       "      <td>o</td>\n",
       "      <td>p</td>\n",
       "      <td>n</td>\n",
       "      <td>n</td>\n",
       "      <td>g</td>\n",
       "    </tr>\n",
       "    <tr>\n",
       "      <th>2</th>\n",
       "      <td>e</td>\n",
       "      <td>b</td>\n",
       "      <td>s</td>\n",
       "      <td>w</td>\n",
       "      <td>t</td>\n",
       "      <td>l</td>\n",
       "      <td>f</td>\n",
       "      <td>c</td>\n",
       "      <td>b</td>\n",
       "      <td>n</td>\n",
       "      <td>...</td>\n",
       "      <td>s</td>\n",
       "      <td>w</td>\n",
       "      <td>w</td>\n",
       "      <td>p</td>\n",
       "      <td>w</td>\n",
       "      <td>o</td>\n",
       "      <td>p</td>\n",
       "      <td>n</td>\n",
       "      <td>n</td>\n",
       "      <td>m</td>\n",
       "    </tr>\n",
       "    <tr>\n",
       "      <th>3</th>\n",
       "      <td>p</td>\n",
       "      <td>x</td>\n",
       "      <td>y</td>\n",
       "      <td>w</td>\n",
       "      <td>t</td>\n",
       "      <td>p</td>\n",
       "      <td>f</td>\n",
       "      <td>c</td>\n",
       "      <td>n</td>\n",
       "      <td>n</td>\n",
       "      <td>...</td>\n",
       "      <td>s</td>\n",
       "      <td>w</td>\n",
       "      <td>w</td>\n",
       "      <td>p</td>\n",
       "      <td>w</td>\n",
       "      <td>o</td>\n",
       "      <td>p</td>\n",
       "      <td>k</td>\n",
       "      <td>s</td>\n",
       "      <td>u</td>\n",
       "    </tr>\n",
       "    <tr>\n",
       "      <th>4</th>\n",
       "      <td>e</td>\n",
       "      <td>x</td>\n",
       "      <td>s</td>\n",
       "      <td>g</td>\n",
       "      <td>f</td>\n",
       "      <td>n</td>\n",
       "      <td>f</td>\n",
       "      <td>w</td>\n",
       "      <td>b</td>\n",
       "      <td>k</td>\n",
       "      <td>...</td>\n",
       "      <td>s</td>\n",
       "      <td>w</td>\n",
       "      <td>w</td>\n",
       "      <td>p</td>\n",
       "      <td>w</td>\n",
       "      <td>o</td>\n",
       "      <td>e</td>\n",
       "      <td>n</td>\n",
       "      <td>a</td>\n",
       "      <td>g</td>\n",
       "    </tr>\n",
       "  </tbody>\n",
       "</table>\n",
       "<p>5 rows × 23 columns</p>\n",
       "</div>"
      ],
      "text/plain": [
       "  class cap-shape cap-surface cap-color bruises odor gill-attachment  \\\n",
       "0     p         x           s         n       t    p               f   \n",
       "1     e         x           s         y       t    a               f   \n",
       "2     e         b           s         w       t    l               f   \n",
       "3     p         x           y         w       t    p               f   \n",
       "4     e         x           s         g       f    n               f   \n",
       "\n",
       "  gill-spacing gill-size gill-color  ... stalk-surface-below-ring  \\\n",
       "0            c         n          k  ...                        s   \n",
       "1            c         b          k  ...                        s   \n",
       "2            c         b          n  ...                        s   \n",
       "3            c         n          n  ...                        s   \n",
       "4            w         b          k  ...                        s   \n",
       "\n",
       "  stalk-color-above-ring stalk-color-below-ring veil-type veil-color  \\\n",
       "0                      w                      w         p          w   \n",
       "1                      w                      w         p          w   \n",
       "2                      w                      w         p          w   \n",
       "3                      w                      w         p          w   \n",
       "4                      w                      w         p          w   \n",
       "\n",
       "  ring-number ring-type spore-print-color population habitat  \n",
       "0           o         p                 k          s       u  \n",
       "1           o         p                 n          n       g  \n",
       "2           o         p                 n          n       m  \n",
       "3           o         p                 k          s       u  \n",
       "4           o         e                 n          a       g  \n",
       "\n",
       "[5 rows x 23 columns]"
      ]
     },
     "execution_count": 5,
     "metadata": {},
     "output_type": "execute_result"
    }
   ],
   "source": [
    "df = pd.read_csv(os.path.join(\"data\", \"mushrooms.csv\"))\n",
    "df.head()"
   ]
  },
  {
   "cell_type": "markdown",
   "metadata": {},
   "source": [
    "## Check for Null Values"
   ]
  },
  {
   "cell_type": "code",
   "execution_count": 6,
   "metadata": {},
   "outputs": [
    {
     "data": {
      "text/plain": [
       "class                       0\n",
       "cap-shape                   0\n",
       "cap-surface                 0\n",
       "cap-color                   0\n",
       "bruises                     0\n",
       "odor                        0\n",
       "gill-attachment             0\n",
       "gill-spacing                0\n",
       "gill-size                   0\n",
       "gill-color                  0\n",
       "stalk-shape                 0\n",
       "stalk-root                  0\n",
       "stalk-surface-above-ring    0\n",
       "stalk-surface-below-ring    0\n",
       "stalk-color-above-ring      0\n",
       "stalk-color-below-ring      0\n",
       "veil-type                   0\n",
       "veil-color                  0\n",
       "ring-number                 0\n",
       "ring-type                   0\n",
       "spore-print-color           0\n",
       "population                  0\n",
       "habitat                     0\n",
       "dtype: int64"
      ]
     },
     "execution_count": 6,
     "metadata": {},
     "output_type": "execute_result"
    }
   ],
   "source": [
    "df.isnull().sum()"
   ]
  },
  {
   "cell_type": "code",
   "execution_count": 7,
   "metadata": {},
   "outputs": [
    {
     "data": {
      "text/html": [
       "<div>\n",
       "<style scoped>\n",
       "    .dataframe tbody tr th:only-of-type {\n",
       "        vertical-align: middle;\n",
       "    }\n",
       "\n",
       "    .dataframe tbody tr th {\n",
       "        vertical-align: top;\n",
       "    }\n",
       "\n",
       "    .dataframe thead th {\n",
       "        text-align: right;\n",
       "    }\n",
       "</style>\n",
       "<table border=\"1\" class=\"dataframe\">\n",
       "  <thead>\n",
       "    <tr style=\"text-align: right;\">\n",
       "      <th></th>\n",
       "      <th>class</th>\n",
       "      <th>cap-shape</th>\n",
       "      <th>cap-surface</th>\n",
       "      <th>cap-color</th>\n",
       "      <th>bruises</th>\n",
       "      <th>odor</th>\n",
       "      <th>gill-attachment</th>\n",
       "      <th>gill-spacing</th>\n",
       "      <th>gill-size</th>\n",
       "      <th>gill-color</th>\n",
       "      <th>...</th>\n",
       "      <th>stalk-surface-below-ring</th>\n",
       "      <th>stalk-color-above-ring</th>\n",
       "      <th>stalk-color-below-ring</th>\n",
       "      <th>veil-type</th>\n",
       "      <th>veil-color</th>\n",
       "      <th>ring-number</th>\n",
       "      <th>ring-type</th>\n",
       "      <th>spore-print-color</th>\n",
       "      <th>population</th>\n",
       "      <th>habitat</th>\n",
       "    </tr>\n",
       "  </thead>\n",
       "  <tbody>\n",
       "    <tr>\n",
       "      <th>0</th>\n",
       "      <td>p</td>\n",
       "      <td>x</td>\n",
       "      <td>s</td>\n",
       "      <td>n</td>\n",
       "      <td>t</td>\n",
       "      <td>p</td>\n",
       "      <td>f</td>\n",
       "      <td>c</td>\n",
       "      <td>n</td>\n",
       "      <td>k</td>\n",
       "      <td>...</td>\n",
       "      <td>s</td>\n",
       "      <td>w</td>\n",
       "      <td>w</td>\n",
       "      <td>p</td>\n",
       "      <td>w</td>\n",
       "      <td>o</td>\n",
       "      <td>p</td>\n",
       "      <td>k</td>\n",
       "      <td>s</td>\n",
       "      <td>u</td>\n",
       "    </tr>\n",
       "    <tr>\n",
       "      <th>1</th>\n",
       "      <td>e</td>\n",
       "      <td>x</td>\n",
       "      <td>s</td>\n",
       "      <td>y</td>\n",
       "      <td>t</td>\n",
       "      <td>a</td>\n",
       "      <td>f</td>\n",
       "      <td>c</td>\n",
       "      <td>b</td>\n",
       "      <td>k</td>\n",
       "      <td>...</td>\n",
       "      <td>s</td>\n",
       "      <td>w</td>\n",
       "      <td>w</td>\n",
       "      <td>p</td>\n",
       "      <td>w</td>\n",
       "      <td>o</td>\n",
       "      <td>p</td>\n",
       "      <td>n</td>\n",
       "      <td>n</td>\n",
       "      <td>g</td>\n",
       "    </tr>\n",
       "    <tr>\n",
       "      <th>2</th>\n",
       "      <td>e</td>\n",
       "      <td>b</td>\n",
       "      <td>s</td>\n",
       "      <td>w</td>\n",
       "      <td>t</td>\n",
       "      <td>l</td>\n",
       "      <td>f</td>\n",
       "      <td>c</td>\n",
       "      <td>b</td>\n",
       "      <td>n</td>\n",
       "      <td>...</td>\n",
       "      <td>s</td>\n",
       "      <td>w</td>\n",
       "      <td>w</td>\n",
       "      <td>p</td>\n",
       "      <td>w</td>\n",
       "      <td>o</td>\n",
       "      <td>p</td>\n",
       "      <td>n</td>\n",
       "      <td>n</td>\n",
       "      <td>m</td>\n",
       "    </tr>\n",
       "    <tr>\n",
       "      <th>3</th>\n",
       "      <td>p</td>\n",
       "      <td>x</td>\n",
       "      <td>y</td>\n",
       "      <td>w</td>\n",
       "      <td>t</td>\n",
       "      <td>p</td>\n",
       "      <td>f</td>\n",
       "      <td>c</td>\n",
       "      <td>n</td>\n",
       "      <td>n</td>\n",
       "      <td>...</td>\n",
       "      <td>s</td>\n",
       "      <td>w</td>\n",
       "      <td>w</td>\n",
       "      <td>p</td>\n",
       "      <td>w</td>\n",
       "      <td>o</td>\n",
       "      <td>p</td>\n",
       "      <td>k</td>\n",
       "      <td>s</td>\n",
       "      <td>u</td>\n",
       "    </tr>\n",
       "    <tr>\n",
       "      <th>4</th>\n",
       "      <td>e</td>\n",
       "      <td>x</td>\n",
       "      <td>s</td>\n",
       "      <td>g</td>\n",
       "      <td>f</td>\n",
       "      <td>n</td>\n",
       "      <td>f</td>\n",
       "      <td>w</td>\n",
       "      <td>b</td>\n",
       "      <td>k</td>\n",
       "      <td>...</td>\n",
       "      <td>s</td>\n",
       "      <td>w</td>\n",
       "      <td>w</td>\n",
       "      <td>p</td>\n",
       "      <td>w</td>\n",
       "      <td>o</td>\n",
       "      <td>e</td>\n",
       "      <td>n</td>\n",
       "      <td>a</td>\n",
       "      <td>g</td>\n",
       "    </tr>\n",
       "  </tbody>\n",
       "</table>\n",
       "<p>5 rows × 23 columns</p>\n",
       "</div>"
      ],
      "text/plain": [
       "  class cap-shape cap-surface cap-color bruises odor gill-attachment  \\\n",
       "0     p         x           s         n       t    p               f   \n",
       "1     e         x           s         y       t    a               f   \n",
       "2     e         b           s         w       t    l               f   \n",
       "3     p         x           y         w       t    p               f   \n",
       "4     e         x           s         g       f    n               f   \n",
       "\n",
       "  gill-spacing gill-size gill-color  ... stalk-surface-below-ring  \\\n",
       "0            c         n          k  ...                        s   \n",
       "1            c         b          k  ...                        s   \n",
       "2            c         b          n  ...                        s   \n",
       "3            c         n          n  ...                        s   \n",
       "4            w         b          k  ...                        s   \n",
       "\n",
       "  stalk-color-above-ring stalk-color-below-ring veil-type veil-color  \\\n",
       "0                      w                      w         p          w   \n",
       "1                      w                      w         p          w   \n",
       "2                      w                      w         p          w   \n",
       "3                      w                      w         p          w   \n",
       "4                      w                      w         p          w   \n",
       "\n",
       "  ring-number ring-type spore-print-color population habitat  \n",
       "0           o         p                 k          s       u  \n",
       "1           o         p                 n          n       g  \n",
       "2           o         p                 n          n       m  \n",
       "3           o         p                 k          s       u  \n",
       "4           o         e                 n          a       g  \n",
       "\n",
       "[5 rows x 23 columns]"
      ]
     },
     "execution_count": 7,
     "metadata": {},
     "output_type": "execute_result"
    }
   ],
   "source": [
    "# Output the data\n",
    "df.head()"
   ]
  },
  {
   "cell_type": "code",
   "execution_count": 8,
   "metadata": {},
   "outputs": [],
   "source": [
    "## Since There are no null values we don't have anything we need to get rid of due to null values"
   ]
  },
  {
   "cell_type": "markdown",
   "metadata": {},
   "source": [
    "## Feature Attribute Information:\n",
    "\n",
    "1. cap-shape: bell=b,conical=c,convex=x,flat=f, knobbed=k,sunken=s\n",
    "2. cap-surface: fibrous=f,grooves=g,scaly=y,smooth=s\n",
    "3. cap-color: brown=n,buff=b,cinnamon=c,gray=g,green=r, pink=p,purple=u,red=e,white=w,yellow=y\n",
    "4. bruises?: bruises=t,no=f\n",
    "5. odor: almond=a,anise=l,creosote=c,fishy=y,foul=f, musty=m,none=n,pungent=p,spicy=s\n",
    "6. gill-attachment: attached=a,descending=d,free=f,notched=n\n",
    "7. gill-spacing: close=c,crowded=w,distant=d\n",
    "8. gill-size: broad=b,narrow=n\n",
    "9. gill-color: black=k,brown=n,buff=b,chocolate=h,gray=g, green=r,orange=o,pink=p,purple=u,red=e, white=w,yellow=y\n",
    "10. stalk-shape: enlarging=e,tapering=t\n",
    "11. stalk-root: bulbous=b,club=c,cup=u,equal=e, rhizomorphs=z,rooted=r,missing=?\n",
    "12. stalk-surface-above-ring: fibrous=f,scaly=y,silky=k,smooth=s\n",
    "13. stalk-surface-below-ring: fibrous=f,scaly=y,silky=k,smooth=s\n",
    "14. stalk-color-above-ring: brown=n,buff=b,cinnamon=c,gray=g,orange=o, pink=p,red=e,white=w,yellow=y\n",
    "15. stalk-color-below-ring: brown=n,buff=b,cinnamon=c,gray=g,orange=o, pink=p,red=e,white=w,yellow=y\n",
    "16. veil-type: partial=p,universal=u\n",
    "17. veil-color: brown=n,orange=o,white=w,yellow=y\n",
    "18. ring-number: none=n,one=o,two=t\n",
    "19. ring-type: cobwebby=c,evanescent=e,flaring=f,large=l, none=n,pendant=p,sheathing=s,zone=z\n",
    "20. spore-print-color: black=k,brown=n,buff=b,chocolate=h,green=r, orange=o,purple=u,white=w,yellow=y\n",
    "21. population: abundant=a,clustered=c,numerous=n, scattered=s,several=v,solitary=y\n",
    "22. habitat: grasses=g,leaves=l,meadows=m,paths=p, urban=u,waste=w,woods=d"
   ]
  },
  {
   "cell_type": "markdown",
   "metadata": {},
   "source": [
    "# Target Data\n",
    "class:edible=e, poisonous=p"
   ]
  },
  {
   "cell_type": "markdown",
   "metadata": {},
   "source": [
    "# Mushroom Diagram\n",
    "![Mushroom Diagram](images/structure-mushroom.jpg)\n"
   ]
  },
  {
   "cell_type": "markdown",
   "metadata": {},
   "source": [
    "## Mushroom Parts\n",
    "Cap: The cap is the top of the mushroom (and often looks sort of like a small umbrella). Mushroom caps can come in a variety of colors but most often are brown, white, or yellow.\n",
    "\n",
    "Gills, Pores, or Teeth: These structures appear under the mushroom's cap. They look similar to a fish's gills.\n",
    "\n",
    "Ring: The ring (sometimes called the annulus) is the remaining structure of the partial veil after the gills have pushed through.\n",
    "\n",
    "Stem or Stipe: The stem is the tall structure that holds the cap high above the ground.\n",
    "\n",
    "Volva: The volva is the protective veil that remains after the mushroom sprouted up from the ground. As the fungus grows, it breaks through the volva.\n",
    "\n",
    "Spores: Microscopic seeds acting as reproductive agents; they are usually released into the air and fall on a substrate to produce a new mushroom.\n",
    "\n",
    "(resource:http://www.visualdictionaryonline.com/plants-gardening/plants/mushroom/structure-mushroom.php)"
   ]
  },
  {
   "cell_type": "markdown",
   "metadata": {},
   "source": [
    "# Change class\n",
    "class:edible=e, poisonous=p"
   ]
  },
  {
   "cell_type": "code",
   "execution_count": 9,
   "metadata": {},
   "outputs": [
    {
     "data": {
      "text/plain": [
       "0       p\n",
       "1       e\n",
       "2       e\n",
       "3       p\n",
       "4       e\n",
       "       ..\n",
       "8119    e\n",
       "8120    e\n",
       "8121    e\n",
       "8122    p\n",
       "8123    e\n",
       "Name: class, Length: 8124, dtype: object"
      ]
     },
     "execution_count": 9,
     "metadata": {},
     "output_type": "execute_result"
    }
   ],
   "source": [
    "df['class']"
   ]
  },
  {
   "cell_type": "code",
   "execution_count": 10,
   "metadata": {},
   "outputs": [
    {
     "data": {
      "text/plain": [
       "0       poisonous\n",
       "1          edible\n",
       "2          edible\n",
       "3       poisonous\n",
       "4          edible\n",
       "          ...    \n",
       "8119       edible\n",
       "8120       edible\n",
       "8121       edible\n",
       "8122    poisonous\n",
       "8123       edible\n",
       "Name: class, Length: 8124, dtype: object"
      ]
     },
     "execution_count": 10,
     "metadata": {},
     "output_type": "execute_result"
    }
   ],
   "source": [
    "df['class'] = df['class'].replace(['e','p'],['edible','poisonous'])\n",
    "df['class']"
   ]
  },
  {
   "cell_type": "markdown",
   "metadata": {},
   "source": [
    "# Change cap-shape\n",
    "cap-shape: bell=b,conical=c,convex=x,flat=f, knobbed=k,sunken=s"
   ]
  },
  {
   "cell_type": "code",
   "execution_count": 11,
   "metadata": {},
   "outputs": [
    {
     "data": {
      "text/plain": [
       "0       x\n",
       "1       x\n",
       "2       b\n",
       "3       x\n",
       "4       x\n",
       "       ..\n",
       "8119    k\n",
       "8120    x\n",
       "8121    f\n",
       "8122    k\n",
       "8123    x\n",
       "Name: cap-shape, Length: 8124, dtype: object"
      ]
     },
     "execution_count": 11,
     "metadata": {},
     "output_type": "execute_result"
    }
   ],
   "source": [
    "df['cap-shape']"
   ]
  },
  {
   "cell_type": "code",
   "execution_count": 12,
   "metadata": {},
   "outputs": [
    {
     "data": {
      "text/plain": [
       "0        convex\n",
       "1        convex\n",
       "2          bell\n",
       "3        convex\n",
       "4        convex\n",
       "         ...   \n",
       "8119    knobbed\n",
       "8120     convex\n",
       "8121       flat\n",
       "8122    knobbed\n",
       "8123     convex\n",
       "Name: cap-shape, Length: 8124, dtype: object"
      ]
     },
     "execution_count": 12,
     "metadata": {},
     "output_type": "execute_result"
    }
   ],
   "source": [
    "\n",
    "df['cap-shape'] = df['cap-shape'].replace(['b','c','x','f','k','s'],['bell','conical','convex','flat', 'knobbed', 'sunken' ])\n",
    "df['cap-shape']"
   ]
  },
  {
   "cell_type": "markdown",
   "metadata": {},
   "source": [
    "# Mushroom cap shape\n",
    "![Mushroom cap shape](images/mushroom-cap-shapes.jpg)\n",
    "\n",
    "\n",
    "(resource:https://midwestmycology.org/mushroom-cap-shapes/)"
   ]
  },
  {
   "cell_type": "markdown",
   "metadata": {},
   "source": [
    "# Change cap-surface\n",
    "cap-surface: fibrous=f,grooves=g,scaly=y,smooth=s"
   ]
  },
  {
   "cell_type": "code",
   "execution_count": 13,
   "metadata": {},
   "outputs": [
    {
     "data": {
      "text/plain": [
       "0       s\n",
       "1       s\n",
       "2       s\n",
       "3       y\n",
       "4       s\n",
       "       ..\n",
       "8119    s\n",
       "8120    s\n",
       "8121    s\n",
       "8122    y\n",
       "8123    s\n",
       "Name: cap-surface, Length: 8124, dtype: object"
      ]
     },
     "execution_count": 13,
     "metadata": {},
     "output_type": "execute_result"
    }
   ],
   "source": [
    "df['cap-surface']"
   ]
  },
  {
   "cell_type": "code",
   "execution_count": 14,
   "metadata": {},
   "outputs": [
    {
     "data": {
      "text/plain": [
       "0       smooth\n",
       "1       smooth\n",
       "2       smooth\n",
       "3        scaly\n",
       "4       smooth\n",
       "         ...  \n",
       "8119    smooth\n",
       "8120    smooth\n",
       "8121    smooth\n",
       "8122     scaly\n",
       "8123    smooth\n",
       "Name: cap-surface, Length: 8124, dtype: object"
      ]
     },
     "execution_count": 14,
     "metadata": {},
     "output_type": "execute_result"
    }
   ],
   "source": [
    "\n",
    "df['cap-surface'] = df['cap-surface'].replace(['f','g','y','s'],['fibrous','grooves','scaly','smooth'])\n",
    "df['cap-surface']"
   ]
  },
  {
   "cell_type": "markdown",
   "metadata": {},
   "source": [
    "\n",
    "# Mushroom cap surface\n",
    "![Mushroom cap surface](images/mushroom-cap-surface.jpg)\n",
    "\n",
    "\n",
    "(resource:https://datascienceplus.com/mushrooms-classification-part-1/)\n"
   ]
  },
  {
   "cell_type": "markdown",
   "metadata": {},
   "source": [
    "# Change cap-color\n",
    "cap-color: brown=n,buff=b,cinnamon=c,gray=g,green=r, pink=p,purple=u,red=e,white=w,yellow=y"
   ]
  },
  {
   "cell_type": "code",
   "execution_count": 15,
   "metadata": {},
   "outputs": [
    {
     "data": {
      "text/plain": [
       "0       n\n",
       "1       y\n",
       "2       w\n",
       "3       w\n",
       "4       g\n",
       "       ..\n",
       "8119    n\n",
       "8120    n\n",
       "8121    n\n",
       "8122    n\n",
       "8123    n\n",
       "Name: cap-color, Length: 8124, dtype: object"
      ]
     },
     "execution_count": 15,
     "metadata": {},
     "output_type": "execute_result"
    }
   ],
   "source": [
    "df['cap-color']"
   ]
  },
  {
   "cell_type": "code",
   "execution_count": 16,
   "metadata": {},
   "outputs": [
    {
     "data": {
      "text/plain": [
       "0        brown\n",
       "1       yellow\n",
       "2        white\n",
       "3        white\n",
       "4         gray\n",
       "         ...  \n",
       "8119     brown\n",
       "8120     brown\n",
       "8121     brown\n",
       "8122     brown\n",
       "8123     brown\n",
       "Name: cap-color, Length: 8124, dtype: object"
      ]
     },
     "execution_count": 16,
     "metadata": {},
     "output_type": "execute_result"
    }
   ],
   "source": [
    "df['cap-color'] = df['cap-color'].replace(['n','b','c','g','r','p','u','e','w','y'],['brown','buff','cinnamon','gray','green', 'pink','purple','red','white','yellow'])\n",
    "df['cap-color']"
   ]
  },
  {
   "cell_type": "markdown",
   "metadata": {},
   "source": [
    "# Change bruises\n",
    "bruises: bruises=t,no=f"
   ]
  },
  {
   "cell_type": "code",
   "execution_count": 17,
   "metadata": {},
   "outputs": [
    {
     "data": {
      "text/plain": [
       "0       t\n",
       "1       t\n",
       "2       t\n",
       "3       t\n",
       "4       f\n",
       "       ..\n",
       "8119    f\n",
       "8120    f\n",
       "8121    f\n",
       "8122    f\n",
       "8123    f\n",
       "Name: bruises, Length: 8124, dtype: object"
      ]
     },
     "execution_count": 17,
     "metadata": {},
     "output_type": "execute_result"
    }
   ],
   "source": [
    "df['bruises']"
   ]
  },
  {
   "cell_type": "code",
   "execution_count": 18,
   "metadata": {},
   "outputs": [
    {
     "data": {
      "text/plain": [
       "0       bruises\n",
       "1       bruises\n",
       "2       bruises\n",
       "3       bruises\n",
       "4            no\n",
       "         ...   \n",
       "8119         no\n",
       "8120         no\n",
       "8121         no\n",
       "8122         no\n",
       "8123         no\n",
       "Name: bruises, Length: 8124, dtype: object"
      ]
     },
     "execution_count": 18,
     "metadata": {},
     "output_type": "execute_result"
    }
   ],
   "source": [
    "df['bruises'] = df['bruises'].replace(['t','f'],['bruises','no'])\n",
    "df['bruises']"
   ]
  },
  {
   "cell_type": "markdown",
   "metadata": {},
   "source": [
    "# Change gill-attachment\n",
    "gill-attachment: attached=a,descending=d,free=f,notched=n"
   ]
  },
  {
   "cell_type": "code",
   "execution_count": 19,
   "metadata": {},
   "outputs": [
    {
     "data": {
      "text/plain": [
       "0       f\n",
       "1       f\n",
       "2       f\n",
       "3       f\n",
       "4       f\n",
       "       ..\n",
       "8119    a\n",
       "8120    a\n",
       "8121    a\n",
       "8122    f\n",
       "8123    a\n",
       "Name: gill-attachment, Length: 8124, dtype: object"
      ]
     },
     "execution_count": 19,
     "metadata": {},
     "output_type": "execute_result"
    }
   ],
   "source": [
    "df['gill-attachment']"
   ]
  },
  {
   "cell_type": "code",
   "execution_count": 20,
   "metadata": {},
   "outputs": [
    {
     "data": {
      "text/plain": [
       "0           free\n",
       "1           free\n",
       "2           free\n",
       "3           free\n",
       "4           free\n",
       "          ...   \n",
       "8119    attached\n",
       "8120    attached\n",
       "8121    attached\n",
       "8122        free\n",
       "8123    attached\n",
       "Name: gill-attachment, Length: 8124, dtype: object"
      ]
     },
     "execution_count": 20,
     "metadata": {},
     "output_type": "execute_result"
    }
   ],
   "source": [
    "df['gill-attachment'] = df['gill-attachment'].replace(['a','d','f','n'],['attached','descending','free','notched'])\n",
    "df['gill-attachment']"
   ]
  },
  {
   "cell_type": "markdown",
   "metadata": {},
   "source": [
    "# Change order\n",
    "odor: almond=a,anise=l,creosote=c,fishy=y,foul=f, musty=m,none=n,pungent=p,spicy=s"
   ]
  },
  {
   "cell_type": "code",
   "execution_count": 21,
   "metadata": {},
   "outputs": [
    {
     "data": {
      "text/plain": [
       "0       p\n",
       "1       a\n",
       "2       l\n",
       "3       p\n",
       "4       n\n",
       "       ..\n",
       "8119    n\n",
       "8120    n\n",
       "8121    n\n",
       "8122    y\n",
       "8123    n\n",
       "Name: odor, Length: 8124, dtype: object"
      ]
     },
     "execution_count": 21,
     "metadata": {},
     "output_type": "execute_result"
    }
   ],
   "source": [
    "df['odor']"
   ]
  },
  {
   "cell_type": "code",
   "execution_count": 22,
   "metadata": {},
   "outputs": [
    {
     "data": {
      "text/plain": [
       "0       pungent\n",
       "1        almond\n",
       "2         anise\n",
       "3       pungent\n",
       "4          none\n",
       "         ...   \n",
       "8119       none\n",
       "8120       none\n",
       "8121       none\n",
       "8122      fishy\n",
       "8123       none\n",
       "Name: odor, Length: 8124, dtype: object"
      ]
     },
     "execution_count": 22,
     "metadata": {},
     "output_type": "execute_result"
    }
   ],
   "source": [
    "df['odor'] = df['odor'].replace(['a','l','c','y','f','m','n','p','s'],['almond','anise','creosote','fishy','foul','musty','none','pungent','spicy'])\n",
    "df['odor']"
   ]
  },
  {
   "cell_type": "markdown",
   "metadata": {},
   "source": [
    "# Change gill-spacing\n",
    "gill-spacing: close=c,crowded=w,distant=d"
   ]
  },
  {
   "cell_type": "code",
   "execution_count": 23,
   "metadata": {},
   "outputs": [
    {
     "data": {
      "text/plain": [
       "0       c\n",
       "1       c\n",
       "2       c\n",
       "3       c\n",
       "4       w\n",
       "       ..\n",
       "8119    c\n",
       "8120    c\n",
       "8121    c\n",
       "8122    c\n",
       "8123    c\n",
       "Name: gill-spacing, Length: 8124, dtype: object"
      ]
     },
     "execution_count": 23,
     "metadata": {},
     "output_type": "execute_result"
    }
   ],
   "source": [
    "df['gill-spacing']"
   ]
  },
  {
   "cell_type": "code",
   "execution_count": 24,
   "metadata": {},
   "outputs": [
    {
     "data": {
      "text/plain": [
       "0         close\n",
       "1         close\n",
       "2         close\n",
       "3         close\n",
       "4       crowded\n",
       "         ...   \n",
       "8119      close\n",
       "8120      close\n",
       "8121      close\n",
       "8122      close\n",
       "8123      close\n",
       "Name: gill-spacing, Length: 8124, dtype: object"
      ]
     },
     "execution_count": 24,
     "metadata": {},
     "output_type": "execute_result"
    }
   ],
   "source": [
    "df['gill-spacing'] = df['gill-spacing'].replace(['c','w','d'],['close','crowded','distant'])\n",
    "df['gill-spacing']"
   ]
  },
  {
   "cell_type": "markdown",
   "metadata": {},
   "source": [
    "# Change gill-size\n",
    "gill-size: broad=b,narrow=n"
   ]
  },
  {
   "cell_type": "code",
   "execution_count": 25,
   "metadata": {},
   "outputs": [
    {
     "data": {
      "text/plain": [
       "0       n\n",
       "1       b\n",
       "2       b\n",
       "3       n\n",
       "4       b\n",
       "       ..\n",
       "8119    b\n",
       "8120    b\n",
       "8121    b\n",
       "8122    n\n",
       "8123    b\n",
       "Name: gill-size, Length: 8124, dtype: object"
      ]
     },
     "execution_count": 25,
     "metadata": {},
     "output_type": "execute_result"
    }
   ],
   "source": [
    "df['gill-size']"
   ]
  },
  {
   "cell_type": "code",
   "execution_count": 26,
   "metadata": {},
   "outputs": [
    {
     "data": {
      "text/plain": [
       "0       narrow\n",
       "1        broad\n",
       "2        broad\n",
       "3       narrow\n",
       "4        broad\n",
       "         ...  \n",
       "8119     broad\n",
       "8120     broad\n",
       "8121     broad\n",
       "8122    narrow\n",
       "8123     broad\n",
       "Name: gill-size, Length: 8124, dtype: object"
      ]
     },
     "execution_count": 26,
     "metadata": {},
     "output_type": "execute_result"
    }
   ],
   "source": [
    "df['gill-size'] = df['gill-size'].replace(['b','n'],['broad','narrow'])\n",
    "df['gill-size']"
   ]
  },
  {
   "cell_type": "markdown",
   "metadata": {},
   "source": [
    "# Change gill-color\n",
    "gill-color: black=k,brown=n,buff=b,chocolate=h,gray=g, green=r,orange=o,pink=p,purple=u,red=e, white=w,yellow=y"
   ]
  },
  {
   "cell_type": "code",
   "execution_count": 27,
   "metadata": {},
   "outputs": [
    {
     "data": {
      "text/plain": [
       "0       k\n",
       "1       k\n",
       "2       n\n",
       "3       n\n",
       "4       k\n",
       "       ..\n",
       "8119    y\n",
       "8120    y\n",
       "8121    n\n",
       "8122    b\n",
       "8123    y\n",
       "Name: gill-color, Length: 8124, dtype: object"
      ]
     },
     "execution_count": 27,
     "metadata": {},
     "output_type": "execute_result"
    }
   ],
   "source": [
    "df['gill-color']"
   ]
  },
  {
   "cell_type": "code",
   "execution_count": 28,
   "metadata": {},
   "outputs": [
    {
     "data": {
      "text/plain": [
       "0        black\n",
       "1        black\n",
       "2        brown\n",
       "3        brown\n",
       "4        black\n",
       "         ...  \n",
       "8119    yellow\n",
       "8120    yellow\n",
       "8121     brown\n",
       "8122      buff\n",
       "8123    yellow\n",
       "Name: gill-color, Length: 8124, dtype: object"
      ]
     },
     "execution_count": 28,
     "metadata": {},
     "output_type": "execute_result"
    }
   ],
   "source": [
    "df['gill-color'] = df['gill-color'].replace(['k','n','b','h','g','r','o','p','u','e','w','y'],['black','brown','buff','chocolate','gray', 'green','orange','pink','purple','red', 'white','yellow'])\n",
    "df['gill-color']"
   ]
  },
  {
   "cell_type": "markdown",
   "metadata": {},
   "source": [
    "# Change stalk-shape\n",
    "stalk-shape: enlarging=e,tapering=t"
   ]
  },
  {
   "cell_type": "code",
   "execution_count": 29,
   "metadata": {},
   "outputs": [
    {
     "data": {
      "text/plain": [
       "0       e\n",
       "1       e\n",
       "2       e\n",
       "3       e\n",
       "4       t\n",
       "       ..\n",
       "8119    e\n",
       "8120    e\n",
       "8121    e\n",
       "8122    t\n",
       "8123    e\n",
       "Name: stalk-shape, Length: 8124, dtype: object"
      ]
     },
     "execution_count": 29,
     "metadata": {},
     "output_type": "execute_result"
    }
   ],
   "source": [
    "df['stalk-shape']"
   ]
  },
  {
   "cell_type": "code",
   "execution_count": 30,
   "metadata": {},
   "outputs": [
    {
     "data": {
      "text/plain": [
       "0       enlarging\n",
       "1       enlarging\n",
       "2       enlarging\n",
       "3       enlarging\n",
       "4        tapering\n",
       "          ...    \n",
       "8119    enlarging\n",
       "8120    enlarging\n",
       "8121    enlarging\n",
       "8122     tapering\n",
       "8123    enlarging\n",
       "Name: stalk-shape, Length: 8124, dtype: object"
      ]
     },
     "execution_count": 30,
     "metadata": {},
     "output_type": "execute_result"
    }
   ],
   "source": [
    "df['stalk-shape'] = df['stalk-shape'].replace(['e','t'],['enlarging','tapering'])\n",
    "df['stalk-shape']"
   ]
  },
  {
   "cell_type": "markdown",
   "metadata": {},
   "source": [
    "# Change stalk-root\n",
    "stalk-root: bulbous=b,club=c,cup=u,equal=e, rhizomorphs=z,rooted=r,missing=?"
   ]
  },
  {
   "cell_type": "code",
   "execution_count": 31,
   "metadata": {},
   "outputs": [
    {
     "data": {
      "text/plain": [
       "0       e\n",
       "1       c\n",
       "2       c\n",
       "3       e\n",
       "4       e\n",
       "       ..\n",
       "8119    ?\n",
       "8120    ?\n",
       "8121    ?\n",
       "8122    ?\n",
       "8123    ?\n",
       "Name: stalk-root, Length: 8124, dtype: object"
      ]
     },
     "execution_count": 31,
     "metadata": {},
     "output_type": "execute_result"
    }
   ],
   "source": [
    "df['stalk-root']"
   ]
  },
  {
   "cell_type": "code",
   "execution_count": 32,
   "metadata": {},
   "outputs": [
    {
     "data": {
      "text/plain": [
       "0         equal\n",
       "1          club\n",
       "2          club\n",
       "3         equal\n",
       "4         equal\n",
       "         ...   \n",
       "8119    missing\n",
       "8120    missing\n",
       "8121    missing\n",
       "8122    missing\n",
       "8123    missing\n",
       "Name: stalk-root, Length: 8124, dtype: object"
      ]
     },
     "execution_count": 32,
     "metadata": {},
     "output_type": "execute_result"
    }
   ],
   "source": [
    "df['stalk-root'] = df['stalk-root'].replace(['b','c','u','e','z','r','?'],['bulbous','club','cup','equal', 'rhizomorphs','rooted','missing'])\n",
    "df['stalk-root']"
   ]
  },
  {
   "cell_type": "markdown",
   "metadata": {},
   "source": [
    "# Change stalk-surface-above-ring\n",
    "stalk-surface-above-ring: fibrous=f,scaly=y,silky=k,smooth=s"
   ]
  },
  {
   "cell_type": "code",
   "execution_count": 33,
   "metadata": {},
   "outputs": [
    {
     "data": {
      "text/plain": [
       "0       s\n",
       "1       s\n",
       "2       s\n",
       "3       s\n",
       "4       s\n",
       "       ..\n",
       "8119    s\n",
       "8120    s\n",
       "8121    s\n",
       "8122    s\n",
       "8123    s\n",
       "Name: stalk-surface-above-ring, Length: 8124, dtype: object"
      ]
     },
     "execution_count": 33,
     "metadata": {},
     "output_type": "execute_result"
    }
   ],
   "source": [
    "df['stalk-surface-above-ring']"
   ]
  },
  {
   "cell_type": "code",
   "execution_count": 34,
   "metadata": {},
   "outputs": [
    {
     "data": {
      "text/plain": [
       "0       smooth\n",
       "1       smooth\n",
       "2       smooth\n",
       "3       smooth\n",
       "4       smooth\n",
       "         ...  \n",
       "8119    smooth\n",
       "8120    smooth\n",
       "8121    smooth\n",
       "8122    smooth\n",
       "8123    smooth\n",
       "Name: stalk-surface-above-ring, Length: 8124, dtype: object"
      ]
     },
     "execution_count": 34,
     "metadata": {},
     "output_type": "execute_result"
    }
   ],
   "source": [
    "df['stalk-surface-above-ring'] = df['stalk-surface-above-ring'].replace(['f','y','k','s'],['fibrous','scaly','silky','smooth'])\n",
    "df['stalk-surface-above-ring']"
   ]
  },
  {
   "cell_type": "markdown",
   "metadata": {},
   "source": [
    "# Change stalk-surface-below-ring\n",
    "stalk-surface-below-ring: fibrous=f,scaly=y,silky=k,smooth=s\n"
   ]
  },
  {
   "cell_type": "code",
   "execution_count": 35,
   "metadata": {},
   "outputs": [
    {
     "data": {
      "text/plain": [
       "0       s\n",
       "1       s\n",
       "2       s\n",
       "3       s\n",
       "4       s\n",
       "       ..\n",
       "8119    s\n",
       "8120    s\n",
       "8121    s\n",
       "8122    k\n",
       "8123    s\n",
       "Name: stalk-surface-below-ring, Length: 8124, dtype: object"
      ]
     },
     "execution_count": 35,
     "metadata": {},
     "output_type": "execute_result"
    }
   ],
   "source": [
    "df['stalk-surface-below-ring']"
   ]
  },
  {
   "cell_type": "code",
   "execution_count": 36,
   "metadata": {},
   "outputs": [
    {
     "data": {
      "text/plain": [
       "0       smooth\n",
       "1       smooth\n",
       "2       smooth\n",
       "3       smooth\n",
       "4       smooth\n",
       "         ...  \n",
       "8119    smooth\n",
       "8120    smooth\n",
       "8121    smooth\n",
       "8122     silky\n",
       "8123    smooth\n",
       "Name: stalk-surface-below-ring, Length: 8124, dtype: object"
      ]
     },
     "execution_count": 36,
     "metadata": {},
     "output_type": "execute_result"
    }
   ],
   "source": [
    "# stalk-surface-below-ring: fibrous=f,scaly=y,silky=k,smooth=s\n",
    "df['stalk-surface-below-ring'] = df['stalk-surface-below-ring'].replace(['f','y','k','s'],['fibrous','scaly','silky','smooth'])\n",
    "df['stalk-surface-below-ring']"
   ]
  },
  {
   "cell_type": "code",
   "execution_count": 37,
   "metadata": {},
   "outputs": [],
   "source": [
    "# Change stalk-color-above-ring\n",
    "# stalk-color-above-ring: brown=n,buff=b,cinnamon=c,gray=g,orange=o, pink=p,red=e,white=w,yellow=y"
   ]
  },
  {
   "cell_type": "code",
   "execution_count": 38,
   "metadata": {},
   "outputs": [
    {
     "data": {
      "text/plain": [
       "0       w\n",
       "1       w\n",
       "2       w\n",
       "3       w\n",
       "4       w\n",
       "       ..\n",
       "8119    o\n",
       "8120    o\n",
       "8121    o\n",
       "8122    w\n",
       "8123    o\n",
       "Name: stalk-color-above-ring, Length: 8124, dtype: object"
      ]
     },
     "execution_count": 38,
     "metadata": {},
     "output_type": "execute_result"
    }
   ],
   "source": [
    "df['stalk-color-above-ring']"
   ]
  },
  {
   "cell_type": "code",
   "execution_count": 39,
   "metadata": {},
   "outputs": [
    {
     "data": {
      "text/plain": [
       "0        white\n",
       "1        white\n",
       "2        white\n",
       "3        white\n",
       "4        white\n",
       "         ...  \n",
       "8119    orange\n",
       "8120    orange\n",
       "8121    orange\n",
       "8122     white\n",
       "8123    orange\n",
       "Name: stalk-color-above-ring, Length: 8124, dtype: object"
      ]
     },
     "execution_count": 39,
     "metadata": {},
     "output_type": "execute_result"
    }
   ],
   "source": [
    "df['stalk-color-above-ring'] = df['stalk-color-above-ring'].replace(['n','b','c','g','o','p','e','w','y'],['brown','buff','cinnamon','gray','orange','pink','red','white','yellow'])\n",
    "df['stalk-color-above-ring']"
   ]
  },
  {
   "cell_type": "markdown",
   "metadata": {},
   "source": [
    "# Change stalk-color-below-ring\n",
    "stalk-color-below-ring: brown=n,buff=b,cinnamon=c,gray=g,orange=o, pink=p,red=e,white=w,yellow=y"
   ]
  },
  {
   "cell_type": "code",
   "execution_count": 40,
   "metadata": {},
   "outputs": [
    {
     "data": {
      "text/plain": [
       "0       w\n",
       "1       w\n",
       "2       w\n",
       "3       w\n",
       "4       w\n",
       "       ..\n",
       "8119    o\n",
       "8120    o\n",
       "8121    o\n",
       "8122    w\n",
       "8123    o\n",
       "Name: stalk-color-below-ring, Length: 8124, dtype: object"
      ]
     },
     "execution_count": 40,
     "metadata": {},
     "output_type": "execute_result"
    }
   ],
   "source": [
    "df['stalk-color-below-ring']"
   ]
  },
  {
   "cell_type": "code",
   "execution_count": 41,
   "metadata": {},
   "outputs": [
    {
     "data": {
      "text/plain": [
       "0        white\n",
       "1        white\n",
       "2        white\n",
       "3        white\n",
       "4        white\n",
       "         ...  \n",
       "8119    orange\n",
       "8120    orange\n",
       "8121    orange\n",
       "8122     white\n",
       "8123    orange\n",
       "Name: stalk-color-below-ring, Length: 8124, dtype: object"
      ]
     },
     "execution_count": 41,
     "metadata": {},
     "output_type": "execute_result"
    }
   ],
   "source": [
    "df['stalk-color-below-ring'] = df['stalk-color-below-ring'].replace(['n','b','c','g','o','p','e','w','y'],['brown','buff','cinnamon','gray','orange','pink','red','white','yellow'])\n",
    "df['stalk-color-below-ring']"
   ]
  },
  {
   "cell_type": "markdown",
   "metadata": {},
   "source": [
    "# Change Veil-type\n",
    "veil-type: partial=p,universal=u"
   ]
  },
  {
   "cell_type": "code",
   "execution_count": 42,
   "metadata": {},
   "outputs": [
    {
     "data": {
      "text/plain": [
       "0       p\n",
       "1       p\n",
       "2       p\n",
       "3       p\n",
       "4       p\n",
       "       ..\n",
       "8119    p\n",
       "8120    p\n",
       "8121    p\n",
       "8122    p\n",
       "8123    p\n",
       "Name: veil-type, Length: 8124, dtype: object"
      ]
     },
     "execution_count": 42,
     "metadata": {},
     "output_type": "execute_result"
    }
   ],
   "source": [
    "df['veil-type']"
   ]
  },
  {
   "cell_type": "code",
   "execution_count": 43,
   "metadata": {},
   "outputs": [
    {
     "data": {
      "text/plain": [
       "0       partial\n",
       "1       partial\n",
       "2       partial\n",
       "3       partial\n",
       "4       partial\n",
       "         ...   \n",
       "8119    partial\n",
       "8120    partial\n",
       "8121    partial\n",
       "8122    partial\n",
       "8123    partial\n",
       "Name: veil-type, Length: 8124, dtype: object"
      ]
     },
     "execution_count": 43,
     "metadata": {},
     "output_type": "execute_result"
    }
   ],
   "source": [
    "df['veil-type'] = df['veil-type'].replace(['p','u'],['partial','universal'])\n",
    "df['veil-type']"
   ]
  },
  {
   "cell_type": "markdown",
   "metadata": {},
   "source": [
    "# Change veil-color\n",
    "veil-color: brown=n,orange=o,white=w,yellow=y"
   ]
  },
  {
   "cell_type": "code",
   "execution_count": 44,
   "metadata": {},
   "outputs": [
    {
     "data": {
      "text/plain": [
       "0       w\n",
       "1       w\n",
       "2       w\n",
       "3       w\n",
       "4       w\n",
       "       ..\n",
       "8119    o\n",
       "8120    n\n",
       "8121    o\n",
       "8122    w\n",
       "8123    o\n",
       "Name: veil-color, Length: 8124, dtype: object"
      ]
     },
     "execution_count": 44,
     "metadata": {},
     "output_type": "execute_result"
    }
   ],
   "source": [
    "df['veil-color']"
   ]
  },
  {
   "cell_type": "code",
   "execution_count": 45,
   "metadata": {},
   "outputs": [
    {
     "data": {
      "text/plain": [
       "0        white\n",
       "1        white\n",
       "2        white\n",
       "3        white\n",
       "4        white\n",
       "         ...  \n",
       "8119    orange\n",
       "8120         n\n",
       "8121    orange\n",
       "8122     white\n",
       "8123    orange\n",
       "Name: veil-color, Length: 8124, dtype: object"
      ]
     },
     "execution_count": 45,
     "metadata": {},
     "output_type": "execute_result"
    }
   ],
   "source": [
    "df['veil-color'] = df['veil-color'].replace(['b','o','w','y'],['brown','orange','white','yellow'])\n",
    "df['veil-color']"
   ]
  },
  {
   "cell_type": "markdown",
   "metadata": {},
   "source": [
    "# Change ring-number\n",
    "ring-number: none=n,one=o,two=t"
   ]
  },
  {
   "cell_type": "code",
   "execution_count": 46,
   "metadata": {},
   "outputs": [
    {
     "data": {
      "text/plain": [
       "0       o\n",
       "1       o\n",
       "2       o\n",
       "3       o\n",
       "4       o\n",
       "       ..\n",
       "8119    o\n",
       "8120    o\n",
       "8121    o\n",
       "8122    o\n",
       "8123    o\n",
       "Name: ring-number, Length: 8124, dtype: object"
      ]
     },
     "execution_count": 46,
     "metadata": {},
     "output_type": "execute_result"
    }
   ],
   "source": [
    "df['ring-number']"
   ]
  },
  {
   "cell_type": "code",
   "execution_count": 47,
   "metadata": {},
   "outputs": [
    {
     "data": {
      "text/plain": [
       "0       one\n",
       "1       one\n",
       "2       one\n",
       "3       one\n",
       "4       one\n",
       "       ... \n",
       "8119    one\n",
       "8120    one\n",
       "8121    one\n",
       "8122    one\n",
       "8123    one\n",
       "Name: ring-number, Length: 8124, dtype: object"
      ]
     },
     "execution_count": 47,
     "metadata": {},
     "output_type": "execute_result"
    }
   ],
   "source": [
    "df['ring-number'] = df['ring-number'].replace(['n','o','t'],['none','one','two'])\n",
    "df['ring-number']"
   ]
  },
  {
   "cell_type": "markdown",
   "metadata": {},
   "source": [
    "# Change ring-type\n",
    "ring-type: cobwebby=c,evanescent=e,flaring=f,large=l, none=n,pendant=p,sheathing=s,zone=z"
   ]
  },
  {
   "cell_type": "code",
   "execution_count": 48,
   "metadata": {},
   "outputs": [
    {
     "data": {
      "text/plain": [
       "0       p\n",
       "1       p\n",
       "2       p\n",
       "3       p\n",
       "4       e\n",
       "       ..\n",
       "8119    p\n",
       "8120    p\n",
       "8121    p\n",
       "8122    e\n",
       "8123    p\n",
       "Name: ring-type, Length: 8124, dtype: object"
      ]
     },
     "execution_count": 48,
     "metadata": {},
     "output_type": "execute_result"
    }
   ],
   "source": [
    "df['ring-type']"
   ]
  },
  {
   "cell_type": "code",
   "execution_count": 49,
   "metadata": {},
   "outputs": [
    {
     "data": {
      "text/plain": [
       "0          pendant\n",
       "1          pendant\n",
       "2          pendant\n",
       "3          pendant\n",
       "4       evanescent\n",
       "           ...    \n",
       "8119       pendant\n",
       "8120       pendant\n",
       "8121       pendant\n",
       "8122    evanescent\n",
       "8123       pendant\n",
       "Name: ring-type, Length: 8124, dtype: object"
      ]
     },
     "execution_count": 49,
     "metadata": {},
     "output_type": "execute_result"
    }
   ],
   "source": [
    "df['ring-type'] = df['ring-type'].replace(['c','e','f','l','n','p','s','z'],['cobwebby','evanescent','flaring','large','none','pendant','sheathing','zone'])\n",
    "df['ring-type']"
   ]
  },
  {
   "cell_type": "markdown",
   "metadata": {},
   "source": [
    "# Change spore-print-color\n",
    "spore-print-color: black=k,brown=n,buff=b,chocolate=h,green=r, orange=o,purple=u,white=w,yellow=y"
   ]
  },
  {
   "cell_type": "code",
   "execution_count": 50,
   "metadata": {},
   "outputs": [
    {
     "data": {
      "text/plain": [
       "0       k\n",
       "1       n\n",
       "2       n\n",
       "3       k\n",
       "4       n\n",
       "       ..\n",
       "8119    b\n",
       "8120    b\n",
       "8121    b\n",
       "8122    w\n",
       "8123    o\n",
       "Name: spore-print-color, Length: 8124, dtype: object"
      ]
     },
     "execution_count": 50,
     "metadata": {},
     "output_type": "execute_result"
    }
   ],
   "source": [
    "df['spore-print-color']"
   ]
  },
  {
   "cell_type": "code",
   "execution_count": 51,
   "metadata": {},
   "outputs": [
    {
     "data": {
      "text/plain": [
       "0        black\n",
       "1        brown\n",
       "2        brown\n",
       "3        black\n",
       "4        brown\n",
       "         ...  \n",
       "8119      buff\n",
       "8120      buff\n",
       "8121      buff\n",
       "8122     white\n",
       "8123    orange\n",
       "Name: spore-print-color, Length: 8124, dtype: object"
      ]
     },
     "execution_count": 51,
     "metadata": {},
     "output_type": "execute_result"
    }
   ],
   "source": [
    "df['spore-print-color'] = df['spore-print-color'].replace(['k','n','b','h','r','o','u','w','y'],['black','brown','buff','chocolate','green','orange','purple','white','yellow'])\n",
    "df['spore-print-color']"
   ]
  },
  {
   "cell_type": "markdown",
   "metadata": {},
   "source": [
    "# Change population\n",
    "population: abundant=a,clustered=c,numerous=n, scattered=s,several=v,solitary=y"
   ]
  },
  {
   "cell_type": "code",
   "execution_count": 52,
   "metadata": {},
   "outputs": [
    {
     "data": {
      "text/plain": [
       "0       s\n",
       "1       n\n",
       "2       n\n",
       "3       s\n",
       "4       a\n",
       "       ..\n",
       "8119    c\n",
       "8120    v\n",
       "8121    c\n",
       "8122    v\n",
       "8123    c\n",
       "Name: population, Length: 8124, dtype: object"
      ]
     },
     "execution_count": 52,
     "metadata": {},
     "output_type": "execute_result"
    }
   ],
   "source": [
    "df['population']"
   ]
  },
  {
   "cell_type": "code",
   "execution_count": 53,
   "metadata": {},
   "outputs": [
    {
     "data": {
      "text/plain": [
       "0       scattered\n",
       "1        numerous\n",
       "2        numerous\n",
       "3       scattered\n",
       "4        abundant\n",
       "          ...    \n",
       "8119    clustered\n",
       "8120      several\n",
       "8121    clustered\n",
       "8122      several\n",
       "8123    clustered\n",
       "Name: population, Length: 8124, dtype: object"
      ]
     },
     "execution_count": 53,
     "metadata": {},
     "output_type": "execute_result"
    }
   ],
   "source": [
    "df['population'] = df['population'].replace(['a','c','n','s','v','y'],['abundant','clustered','numerous','scattered','several','solitary'])\n",
    "df['population']"
   ]
  },
  {
   "cell_type": "markdown",
   "metadata": {},
   "source": [
    "# Change habitat\n",
    "habitat: grasses=g,leaves=l,meadows=m,paths=p, urban=u,waste=w,woods=d"
   ]
  },
  {
   "cell_type": "code",
   "execution_count": 54,
   "metadata": {},
   "outputs": [
    {
     "data": {
      "text/plain": [
       "0       u\n",
       "1       g\n",
       "2       m\n",
       "3       u\n",
       "4       g\n",
       "       ..\n",
       "8119    l\n",
       "8120    l\n",
       "8121    l\n",
       "8122    l\n",
       "8123    l\n",
       "Name: habitat, Length: 8124, dtype: object"
      ]
     },
     "execution_count": 54,
     "metadata": {},
     "output_type": "execute_result"
    }
   ],
   "source": [
    "df['habitat']"
   ]
  },
  {
   "cell_type": "code",
   "execution_count": 55,
   "metadata": {},
   "outputs": [
    {
     "data": {
      "text/plain": [
       "0         urban\n",
       "1       grasses\n",
       "2       meadows\n",
       "3         urban\n",
       "4       grasses\n",
       "         ...   \n",
       "8119     leaves\n",
       "8120     leaves\n",
       "8121     leaves\n",
       "8122     leaves\n",
       "8123     leaves\n",
       "Name: habitat, Length: 8124, dtype: object"
      ]
     },
     "execution_count": 55,
     "metadata": {},
     "output_type": "execute_result"
    }
   ],
   "source": [
    "df['habitat'] = df['habitat'].replace(['g','l','m','p','u','w','d'],['grasses','leaves','meadows','paths','urban','waste','woods'])\n",
    "df['habitat']"
   ]
  },
  {
   "cell_type": "code",
   "execution_count": 56,
   "metadata": {},
   "outputs": [
    {
     "data": {
      "text/html": [
       "<div>\n",
       "<style scoped>\n",
       "    .dataframe tbody tr th:only-of-type {\n",
       "        vertical-align: middle;\n",
       "    }\n",
       "\n",
       "    .dataframe tbody tr th {\n",
       "        vertical-align: top;\n",
       "    }\n",
       "\n",
       "    .dataframe thead th {\n",
       "        text-align: right;\n",
       "    }\n",
       "</style>\n",
       "<table border=\"1\" class=\"dataframe\">\n",
       "  <thead>\n",
       "    <tr style=\"text-align: right;\">\n",
       "      <th></th>\n",
       "      <th>class</th>\n",
       "      <th>cap-shape</th>\n",
       "      <th>cap-surface</th>\n",
       "      <th>cap-color</th>\n",
       "      <th>bruises</th>\n",
       "      <th>odor</th>\n",
       "      <th>gill-attachment</th>\n",
       "      <th>gill-spacing</th>\n",
       "      <th>gill-size</th>\n",
       "      <th>gill-color</th>\n",
       "      <th>...</th>\n",
       "      <th>stalk-surface-below-ring</th>\n",
       "      <th>stalk-color-above-ring</th>\n",
       "      <th>stalk-color-below-ring</th>\n",
       "      <th>veil-type</th>\n",
       "      <th>veil-color</th>\n",
       "      <th>ring-number</th>\n",
       "      <th>ring-type</th>\n",
       "      <th>spore-print-color</th>\n",
       "      <th>population</th>\n",
       "      <th>habitat</th>\n",
       "    </tr>\n",
       "  </thead>\n",
       "  <tbody>\n",
       "    <tr>\n",
       "      <th>0</th>\n",
       "      <td>poisonous</td>\n",
       "      <td>convex</td>\n",
       "      <td>smooth</td>\n",
       "      <td>brown</td>\n",
       "      <td>bruises</td>\n",
       "      <td>pungent</td>\n",
       "      <td>free</td>\n",
       "      <td>close</td>\n",
       "      <td>narrow</td>\n",
       "      <td>black</td>\n",
       "      <td>...</td>\n",
       "      <td>smooth</td>\n",
       "      <td>white</td>\n",
       "      <td>white</td>\n",
       "      <td>partial</td>\n",
       "      <td>white</td>\n",
       "      <td>one</td>\n",
       "      <td>pendant</td>\n",
       "      <td>black</td>\n",
       "      <td>scattered</td>\n",
       "      <td>urban</td>\n",
       "    </tr>\n",
       "    <tr>\n",
       "      <th>1</th>\n",
       "      <td>edible</td>\n",
       "      <td>convex</td>\n",
       "      <td>smooth</td>\n",
       "      <td>yellow</td>\n",
       "      <td>bruises</td>\n",
       "      <td>almond</td>\n",
       "      <td>free</td>\n",
       "      <td>close</td>\n",
       "      <td>broad</td>\n",
       "      <td>black</td>\n",
       "      <td>...</td>\n",
       "      <td>smooth</td>\n",
       "      <td>white</td>\n",
       "      <td>white</td>\n",
       "      <td>partial</td>\n",
       "      <td>white</td>\n",
       "      <td>one</td>\n",
       "      <td>pendant</td>\n",
       "      <td>brown</td>\n",
       "      <td>numerous</td>\n",
       "      <td>grasses</td>\n",
       "    </tr>\n",
       "    <tr>\n",
       "      <th>2</th>\n",
       "      <td>edible</td>\n",
       "      <td>bell</td>\n",
       "      <td>smooth</td>\n",
       "      <td>white</td>\n",
       "      <td>bruises</td>\n",
       "      <td>anise</td>\n",
       "      <td>free</td>\n",
       "      <td>close</td>\n",
       "      <td>broad</td>\n",
       "      <td>brown</td>\n",
       "      <td>...</td>\n",
       "      <td>smooth</td>\n",
       "      <td>white</td>\n",
       "      <td>white</td>\n",
       "      <td>partial</td>\n",
       "      <td>white</td>\n",
       "      <td>one</td>\n",
       "      <td>pendant</td>\n",
       "      <td>brown</td>\n",
       "      <td>numerous</td>\n",
       "      <td>meadows</td>\n",
       "    </tr>\n",
       "    <tr>\n",
       "      <th>3</th>\n",
       "      <td>poisonous</td>\n",
       "      <td>convex</td>\n",
       "      <td>scaly</td>\n",
       "      <td>white</td>\n",
       "      <td>bruises</td>\n",
       "      <td>pungent</td>\n",
       "      <td>free</td>\n",
       "      <td>close</td>\n",
       "      <td>narrow</td>\n",
       "      <td>brown</td>\n",
       "      <td>...</td>\n",
       "      <td>smooth</td>\n",
       "      <td>white</td>\n",
       "      <td>white</td>\n",
       "      <td>partial</td>\n",
       "      <td>white</td>\n",
       "      <td>one</td>\n",
       "      <td>pendant</td>\n",
       "      <td>black</td>\n",
       "      <td>scattered</td>\n",
       "      <td>urban</td>\n",
       "    </tr>\n",
       "    <tr>\n",
       "      <th>4</th>\n",
       "      <td>edible</td>\n",
       "      <td>convex</td>\n",
       "      <td>smooth</td>\n",
       "      <td>gray</td>\n",
       "      <td>no</td>\n",
       "      <td>none</td>\n",
       "      <td>free</td>\n",
       "      <td>crowded</td>\n",
       "      <td>broad</td>\n",
       "      <td>black</td>\n",
       "      <td>...</td>\n",
       "      <td>smooth</td>\n",
       "      <td>white</td>\n",
       "      <td>white</td>\n",
       "      <td>partial</td>\n",
       "      <td>white</td>\n",
       "      <td>one</td>\n",
       "      <td>evanescent</td>\n",
       "      <td>brown</td>\n",
       "      <td>abundant</td>\n",
       "      <td>grasses</td>\n",
       "    </tr>\n",
       "  </tbody>\n",
       "</table>\n",
       "<p>5 rows × 23 columns</p>\n",
       "</div>"
      ],
      "text/plain": [
       "       class cap-shape cap-surface cap-color  bruises     odor  \\\n",
       "0  poisonous    convex      smooth     brown  bruises  pungent   \n",
       "1     edible    convex      smooth    yellow  bruises   almond   \n",
       "2     edible      bell      smooth     white  bruises    anise   \n",
       "3  poisonous    convex       scaly     white  bruises  pungent   \n",
       "4     edible    convex      smooth      gray       no     none   \n",
       "\n",
       "  gill-attachment gill-spacing gill-size gill-color  ...  \\\n",
       "0            free        close    narrow      black  ...   \n",
       "1            free        close     broad      black  ...   \n",
       "2            free        close     broad      brown  ...   \n",
       "3            free        close    narrow      brown  ...   \n",
       "4            free      crowded     broad      black  ...   \n",
       "\n",
       "  stalk-surface-below-ring stalk-color-above-ring stalk-color-below-ring  \\\n",
       "0                   smooth                  white                  white   \n",
       "1                   smooth                  white                  white   \n",
       "2                   smooth                  white                  white   \n",
       "3                   smooth                  white                  white   \n",
       "4                   smooth                  white                  white   \n",
       "\n",
       "  veil-type veil-color ring-number   ring-type spore-print-color population  \\\n",
       "0   partial      white         one     pendant             black  scattered   \n",
       "1   partial      white         one     pendant             brown   numerous   \n",
       "2   partial      white         one     pendant             brown   numerous   \n",
       "3   partial      white         one     pendant             black  scattered   \n",
       "4   partial      white         one  evanescent             brown   abundant   \n",
       "\n",
       "   habitat  \n",
       "0    urban  \n",
       "1  grasses  \n",
       "2  meadows  \n",
       "3    urban  \n",
       "4  grasses  \n",
       "\n",
       "[5 rows x 23 columns]"
      ]
     },
     "execution_count": 56,
     "metadata": {},
     "output_type": "execute_result"
    }
   ],
   "source": [
    "df.head()"
   ]
  },
  {
   "cell_type": "code",
   "execution_count": 57,
   "metadata": {},
   "outputs": [
    {
     "data": {
      "text/html": [
       "<div>\n",
       "<style scoped>\n",
       "    .dataframe tbody tr th:only-of-type {\n",
       "        vertical-align: middle;\n",
       "    }\n",
       "\n",
       "    .dataframe tbody tr th {\n",
       "        vertical-align: top;\n",
       "    }\n",
       "\n",
       "    .dataframe thead th {\n",
       "        text-align: right;\n",
       "    }\n",
       "</style>\n",
       "<table border=\"1\" class=\"dataframe\">\n",
       "  <thead>\n",
       "    <tr style=\"text-align: right;\">\n",
       "      <th></th>\n",
       "      <th>class</th>\n",
       "      <th>cap-shape</th>\n",
       "      <th>cap-surface</th>\n",
       "      <th>cap-color</th>\n",
       "      <th>bruises</th>\n",
       "      <th>odor</th>\n",
       "      <th>gill-attachment</th>\n",
       "      <th>gill-spacing</th>\n",
       "      <th>gill-size</th>\n",
       "      <th>gill-color</th>\n",
       "      <th>...</th>\n",
       "      <th>stalk-surface-below-ring</th>\n",
       "      <th>stalk-color-above-ring</th>\n",
       "      <th>stalk-color-below-ring</th>\n",
       "      <th>veil-type</th>\n",
       "      <th>veil-color</th>\n",
       "      <th>ring-number</th>\n",
       "      <th>ring-type</th>\n",
       "      <th>spore-print-color</th>\n",
       "      <th>population</th>\n",
       "      <th>habitat</th>\n",
       "    </tr>\n",
       "  </thead>\n",
       "  <tbody>\n",
       "    <tr>\n",
       "      <th>count</th>\n",
       "      <td>8124</td>\n",
       "      <td>8124</td>\n",
       "      <td>8124</td>\n",
       "      <td>8124</td>\n",
       "      <td>8124</td>\n",
       "      <td>8124</td>\n",
       "      <td>8124</td>\n",
       "      <td>8124</td>\n",
       "      <td>8124</td>\n",
       "      <td>8124</td>\n",
       "      <td>...</td>\n",
       "      <td>8124</td>\n",
       "      <td>8124</td>\n",
       "      <td>8124</td>\n",
       "      <td>8124</td>\n",
       "      <td>8124</td>\n",
       "      <td>8124</td>\n",
       "      <td>8124</td>\n",
       "      <td>8124</td>\n",
       "      <td>8124</td>\n",
       "      <td>8124</td>\n",
       "    </tr>\n",
       "    <tr>\n",
       "      <th>unique</th>\n",
       "      <td>2</td>\n",
       "      <td>6</td>\n",
       "      <td>4</td>\n",
       "      <td>10</td>\n",
       "      <td>2</td>\n",
       "      <td>9</td>\n",
       "      <td>2</td>\n",
       "      <td>2</td>\n",
       "      <td>2</td>\n",
       "      <td>12</td>\n",
       "      <td>...</td>\n",
       "      <td>4</td>\n",
       "      <td>9</td>\n",
       "      <td>9</td>\n",
       "      <td>1</td>\n",
       "      <td>4</td>\n",
       "      <td>3</td>\n",
       "      <td>5</td>\n",
       "      <td>9</td>\n",
       "      <td>6</td>\n",
       "      <td>7</td>\n",
       "    </tr>\n",
       "    <tr>\n",
       "      <th>top</th>\n",
       "      <td>edible</td>\n",
       "      <td>convex</td>\n",
       "      <td>scaly</td>\n",
       "      <td>brown</td>\n",
       "      <td>no</td>\n",
       "      <td>none</td>\n",
       "      <td>free</td>\n",
       "      <td>close</td>\n",
       "      <td>broad</td>\n",
       "      <td>buff</td>\n",
       "      <td>...</td>\n",
       "      <td>smooth</td>\n",
       "      <td>white</td>\n",
       "      <td>white</td>\n",
       "      <td>partial</td>\n",
       "      <td>white</td>\n",
       "      <td>one</td>\n",
       "      <td>pendant</td>\n",
       "      <td>white</td>\n",
       "      <td>several</td>\n",
       "      <td>woods</td>\n",
       "    </tr>\n",
       "    <tr>\n",
       "      <th>freq</th>\n",
       "      <td>4208</td>\n",
       "      <td>3656</td>\n",
       "      <td>3244</td>\n",
       "      <td>2284</td>\n",
       "      <td>4748</td>\n",
       "      <td>3528</td>\n",
       "      <td>7914</td>\n",
       "      <td>6812</td>\n",
       "      <td>5612</td>\n",
       "      <td>1728</td>\n",
       "      <td>...</td>\n",
       "      <td>4936</td>\n",
       "      <td>4464</td>\n",
       "      <td>4384</td>\n",
       "      <td>8124</td>\n",
       "      <td>7924</td>\n",
       "      <td>7488</td>\n",
       "      <td>3968</td>\n",
       "      <td>2388</td>\n",
       "      <td>4040</td>\n",
       "      <td>3148</td>\n",
       "    </tr>\n",
       "  </tbody>\n",
       "</table>\n",
       "<p>4 rows × 23 columns</p>\n",
       "</div>"
      ],
      "text/plain": [
       "         class cap-shape cap-surface cap-color bruises  odor gill-attachment  \\\n",
       "count     8124      8124        8124      8124    8124  8124            8124   \n",
       "unique       2         6           4        10       2     9               2   \n",
       "top     edible    convex       scaly     brown      no  none            free   \n",
       "freq      4208      3656        3244      2284    4748  3528            7914   \n",
       "\n",
       "       gill-spacing gill-size gill-color  ... stalk-surface-below-ring  \\\n",
       "count          8124      8124       8124  ...                     8124   \n",
       "unique            2         2         12  ...                        4   \n",
       "top           close     broad       buff  ...                   smooth   \n",
       "freq           6812      5612       1728  ...                     4936   \n",
       "\n",
       "       stalk-color-above-ring stalk-color-below-ring veil-type veil-color  \\\n",
       "count                    8124                   8124      8124       8124   \n",
       "unique                      9                      9         1          4   \n",
       "top                     white                  white   partial      white   \n",
       "freq                     4464                   4384      8124       7924   \n",
       "\n",
       "       ring-number ring-type spore-print-color population habitat  \n",
       "count         8124      8124              8124       8124    8124  \n",
       "unique           3         5                 9          6       7  \n",
       "top            one   pendant             white    several   woods  \n",
       "freq          7488      3968              2388       4040    3148  \n",
       "\n",
       "[4 rows x 23 columns]"
      ]
     },
     "execution_count": 57,
     "metadata": {},
     "output_type": "execute_result"
    }
   ],
   "source": [
    "df.describe()"
   ]
  },
  {
   "cell_type": "markdown",
   "metadata": {},
   "source": [
    "# Evaluate Features to determine the correct features to use for our model"
   ]
  },
  {
   "cell_type": "markdown",
   "metadata": {},
   "source": [
    "## poisonous vs edible"
   ]
  },
  {
   "cell_type": "code",
   "execution_count": 58,
   "metadata": {},
   "outputs": [
    {
     "data": {
      "image/png": "[encoded data removed]",
      "text/plain": [
       "<Figure size 432x288 with 1 Axes>"
      ]
     },
     "metadata": {
      "needs_background": "light"
     },
     "output_type": "display_data"
    }
   ],
   "source": [
    "sns.countplot(df['class']);"
   ]
  },
  {
   "cell_type": "code",
   "execution_count": 59,
   "metadata": {},
   "outputs": [
    {
     "data": {
      "image/png": "[encoded data removed]",
      "text/plain": [
       "<Figure size 432x288 with 1 Axes>"
      ]
     },
     "metadata": {
      "needs_background": "light"
     },
     "output_type": "display_data"
    }
   ],
   "source": [
    "x = sns.countplot(x='class', hue='cap-shape',data=df)"
   ]
  },
  {
   "cell_type": "code",
   "execution_count": 60,
   "metadata": {},
   "outputs": [
    {
     "data": {
      "text/html": [
       "<div>\n",
       "<style scoped>\n",
       "    .dataframe tbody tr th:only-of-type {\n",
       "        vertical-align: middle;\n",
       "    }\n",
       "\n",
       "    .dataframe tbody tr th {\n",
       "        vertical-align: top;\n",
       "    }\n",
       "\n",
       "    .dataframe thead th {\n",
       "        text-align: right;\n",
       "    }\n",
       "</style>\n",
       "<table border=\"1\" class=\"dataframe\">\n",
       "  <thead>\n",
       "    <tr style=\"text-align: right;\">\n",
       "      <th></th>\n",
       "      <th>cap-shape</th>\n",
       "      <th>cap-surface</th>\n",
       "      <th>cap-color</th>\n",
       "      <th>bruises</th>\n",
       "      <th>odor</th>\n",
       "      <th>gill-attachment</th>\n",
       "      <th>gill-spacing</th>\n",
       "      <th>gill-size</th>\n",
       "      <th>gill-color</th>\n",
       "      <th>stalk-shape</th>\n",
       "      <th>...</th>\n",
       "      <th>stalk-surface-below-ring</th>\n",
       "      <th>stalk-color-above-ring</th>\n",
       "      <th>stalk-color-below-ring</th>\n",
       "      <th>veil-type</th>\n",
       "      <th>veil-color</th>\n",
       "      <th>ring-number</th>\n",
       "      <th>ring-type</th>\n",
       "      <th>spore-print-color</th>\n",
       "      <th>population</th>\n",
       "      <th>habitat</th>\n",
       "    </tr>\n",
       "  </thead>\n",
       "  <tbody>\n",
       "    <tr>\n",
       "      <th>0</th>\n",
       "      <td>convex</td>\n",
       "      <td>smooth</td>\n",
       "      <td>brown</td>\n",
       "      <td>bruises</td>\n",
       "      <td>pungent</td>\n",
       "      <td>free</td>\n",
       "      <td>close</td>\n",
       "      <td>narrow</td>\n",
       "      <td>black</td>\n",
       "      <td>enlarging</td>\n",
       "      <td>...</td>\n",
       "      <td>smooth</td>\n",
       "      <td>white</td>\n",
       "      <td>white</td>\n",
       "      <td>partial</td>\n",
       "      <td>white</td>\n",
       "      <td>one</td>\n",
       "      <td>pendant</td>\n",
       "      <td>black</td>\n",
       "      <td>scattered</td>\n",
       "      <td>urban</td>\n",
       "    </tr>\n",
       "    <tr>\n",
       "      <th>1</th>\n",
       "      <td>convex</td>\n",
       "      <td>smooth</td>\n",
       "      <td>yellow</td>\n",
       "      <td>bruises</td>\n",
       "      <td>almond</td>\n",
       "      <td>free</td>\n",
       "      <td>close</td>\n",
       "      <td>broad</td>\n",
       "      <td>black</td>\n",
       "      <td>enlarging</td>\n",
       "      <td>...</td>\n",
       "      <td>smooth</td>\n",
       "      <td>white</td>\n",
       "      <td>white</td>\n",
       "      <td>partial</td>\n",
       "      <td>white</td>\n",
       "      <td>one</td>\n",
       "      <td>pendant</td>\n",
       "      <td>brown</td>\n",
       "      <td>numerous</td>\n",
       "      <td>grasses</td>\n",
       "    </tr>\n",
       "    <tr>\n",
       "      <th>2</th>\n",
       "      <td>bell</td>\n",
       "      <td>smooth</td>\n",
       "      <td>white</td>\n",
       "      <td>bruises</td>\n",
       "      <td>anise</td>\n",
       "      <td>free</td>\n",
       "      <td>close</td>\n",
       "      <td>broad</td>\n",
       "      <td>brown</td>\n",
       "      <td>enlarging</td>\n",
       "      <td>...</td>\n",
       "      <td>smooth</td>\n",
       "      <td>white</td>\n",
       "      <td>white</td>\n",
       "      <td>partial</td>\n",
       "      <td>white</td>\n",
       "      <td>one</td>\n",
       "      <td>pendant</td>\n",
       "      <td>brown</td>\n",
       "      <td>numerous</td>\n",
       "      <td>meadows</td>\n",
       "    </tr>\n",
       "    <tr>\n",
       "      <th>3</th>\n",
       "      <td>convex</td>\n",
       "      <td>scaly</td>\n",
       "      <td>white</td>\n",
       "      <td>bruises</td>\n",
       "      <td>pungent</td>\n",
       "      <td>free</td>\n",
       "      <td>close</td>\n",
       "      <td>narrow</td>\n",
       "      <td>brown</td>\n",
       "      <td>enlarging</td>\n",
       "      <td>...</td>\n",
       "      <td>smooth</td>\n",
       "      <td>white</td>\n",
       "      <td>white</td>\n",
       "      <td>partial</td>\n",
       "      <td>white</td>\n",
       "      <td>one</td>\n",
       "      <td>pendant</td>\n",
       "      <td>black</td>\n",
       "      <td>scattered</td>\n",
       "      <td>urban</td>\n",
       "    </tr>\n",
       "    <tr>\n",
       "      <th>4</th>\n",
       "      <td>convex</td>\n",
       "      <td>smooth</td>\n",
       "      <td>gray</td>\n",
       "      <td>no</td>\n",
       "      <td>none</td>\n",
       "      <td>free</td>\n",
       "      <td>crowded</td>\n",
       "      <td>broad</td>\n",
       "      <td>black</td>\n",
       "      <td>tapering</td>\n",
       "      <td>...</td>\n",
       "      <td>smooth</td>\n",
       "      <td>white</td>\n",
       "      <td>white</td>\n",
       "      <td>partial</td>\n",
       "      <td>white</td>\n",
       "      <td>one</td>\n",
       "      <td>evanescent</td>\n",
       "      <td>brown</td>\n",
       "      <td>abundant</td>\n",
       "      <td>grasses</td>\n",
       "    </tr>\n",
       "  </tbody>\n",
       "</table>\n",
       "<p>5 rows × 22 columns</p>\n",
       "</div>"
      ],
      "text/plain": [
       "  cap-shape cap-surface cap-color  bruises     odor gill-attachment  \\\n",
       "0    convex      smooth     brown  bruises  pungent            free   \n",
       "1    convex      smooth    yellow  bruises   almond            free   \n",
       "2      bell      smooth     white  bruises    anise            free   \n",
       "3    convex       scaly     white  bruises  pungent            free   \n",
       "4    convex      smooth      gray       no     none            free   \n",
       "\n",
       "  gill-spacing gill-size gill-color stalk-shape  ... stalk-surface-below-ring  \\\n",
       "0        close    narrow      black   enlarging  ...                   smooth   \n",
       "1        close     broad      black   enlarging  ...                   smooth   \n",
       "2        close     broad      brown   enlarging  ...                   smooth   \n",
       "3        close    narrow      brown   enlarging  ...                   smooth   \n",
       "4      crowded     broad      black    tapering  ...                   smooth   \n",
       "\n",
       "  stalk-color-above-ring stalk-color-below-ring veil-type veil-color  \\\n",
       "0                  white                  white   partial      white   \n",
       "1                  white                  white   partial      white   \n",
       "2                  white                  white   partial      white   \n",
       "3                  white                  white   partial      white   \n",
       "4                  white                  white   partial      white   \n",
       "\n",
       "  ring-number   ring-type spore-print-color population  habitat  \n",
       "0         one     pendant             black  scattered    urban  \n",
       "1         one     pendant             brown   numerous  grasses  \n",
       "2         one     pendant             brown   numerous  meadows  \n",
       "3         one     pendant             black  scattered    urban  \n",
       "4         one  evanescent             brown   abundant  grasses  \n",
       "\n",
       "[5 rows x 22 columns]"
      ]
     },
     "execution_count": 60,
     "metadata": {},
     "output_type": "execute_result"
    }
   ],
   "source": [
    "# Use all features to evaluate which features to use.\n",
    "selected_features = df.drop(\"class\", axis=1)\n",
    "selected_features_names = selected_features.columns\n",
    "selected_features.head()"
   ]
  },
  {
   "cell_type": "code",
   "execution_count": 61,
   "metadata": {},
   "outputs": [
    {
     "data": {
      "image/png": "[encoded data removed]",
      "text/plain": [
       "<Figure size 432x288 with 1 Axes>"
      ]
     },
     "metadata": {
      "needs_background": "light"
     },
     "output_type": "display_data"
    },
    {
     "data": {
      "image/png": "[encoded data removed]",
      "text/plain": [
       "<Figure size 432x288 with 1 Axes>"
      ]
     },
     "metadata": {
      "needs_background": "light"
     },
     "output_type": "display_data"
    },
    {
     "data": {
      "image/png": "[encoded data removed]",
      "text/plain": [
       "<Figure size 432x288 with 1 Axes>"
      ]
     },
     "metadata": {
      "needs_background": "light"
     },
     "output_type": "display_data"
    },
    {
     "data": {
      "image/png": "[encoded data removed]",
      "text/plain": [
       "<Figure size 432x288 with 1 Axes>"
      ]
     },
     "metadata": {
      "needs_background": "light"
     },
     "output_type": "display_data"
    },
    {
     "data": {
      "image/png": "[encoded data removed]",
      "text/plain": [
       "<Figure size 432x288 with 1 Axes>"
      ]
     },
     "metadata": {
      "needs_background": "light"
     },
     "output_type": "display_data"
    },
    {
     "data": {
      "image/png": "[encoded data removed]",
      "text/plain": [
       "<Figure size 432x288 with 1 Axes>"
      ]
     },
     "metadata": {
      "needs_background": "light"
     },
     "output_type": "display_data"
    },
    {
     "data": {
      "image/png": "[encoded data removed]",
      "text/plain": [
       "<Figure size 432x288 with 1 Axes>"
      ]
     },
     "metadata": {
      "needs_background": "light"
     },
     "output_type": "display_data"
    },
    {
     "data": {
      "image/png": "[encoded data removed]",
      "text/plain": [
       "<Figure size 432x288 with 1 Axes>"
      ]
     },
     "metadata": {
      "needs_background": "light"
     },
     "output_type": "display_data"
    },
    {
     "data": {
      "image/png": "[encoded data removed]",
      "text/plain": [
       "<Figure size 432x288 with 1 Axes>"
      ]
     },
     "metadata": {
      "needs_background": "light"
     },
     "output_type": "display_data"
    },
    {
     "data": {
      "image/png": "[encoded data removed]",
      "text/plain": [
       "<Figure size 432x288 with 1 Axes>"
      ]
     },
     "metadata": {
      "needs_background": "light"
     },
     "output_type": "display_data"
    },
    {
     "data": {
      "image/png": "[encoded data removed]",
      "text/plain": [
       "<Figure size 432x288 with 1 Axes>"
      ]
     },
     "metadata": {
      "needs_background": "light"
     },
     "output_type": "display_data"
    },
    {
     "data": {
      "image/png": "[encoded data removed]",
      "text/plain": [
       "<Figure size 432x288 with 1 Axes>"
      ]
     },
     "metadata": {
      "needs_background": "light"
     },
     "output_type": "display_data"
    },
    {
     "data": {
      "image/png": "[encoded data removed]",
      "text/plain": [
       "<Figure size 432x288 with 1 Axes>"
      ]
     },
     "metadata": {
      "needs_background": "light"
     },
     "output_type": "display_data"
    },
    {
     "data": {
      "image/png": "[encoded data removed]",
      "text/plain": [
       "<Figure size 432x288 with 1 Axes>"
      ]
     },
     "metadata": {
      "needs_background": "light"
     },
     "output_type": "display_data"
    },
    {
     "data": {
      "image/png": "[encoded data removed]",
      "text/plain": [
       "<Figure size 432x288 with 1 Axes>"
      ]
     },
     "metadata": {
      "needs_background": "light"
     },
     "output_type": "display_data"
    },
    {
     "data": {
      "image/png": "[encoded data removed]",
      "text/plain": [
       "<Figure size 432x288 with 1 Axes>"
      ]
     },
     "metadata": {
      "needs_background": "light"
     },
     "output_type": "display_data"
    },
    {
     "data": {
      "image/png": "[encoded data removed]",
      "text/plain": [
       "<Figure size 432x288 with 1 Axes>"
      ]
     },
     "metadata": {
      "needs_background": "light"
     },
     "output_type": "display_data"
    },
    {
     "data": {
      "image/png": "[encoded data removed]",
      "text/plain": [
       "<Figure size 432x288 with 1 Axes>"
      ]
     },
     "metadata": {
      "needs_background": "light"
     },
     "output_type": "display_data"
    },
    {
     "data": {
      "image/png": "[encoded data removed]",
      "text/plain": [
       "<Figure size 432x288 with 1 Axes>"
      ]
     },
     "metadata": {
      "needs_background": "light"
     },
     "output_type": "display_data"
    },
    {
     "data": {
      "image/png": "[encoded data removed]",
      "text/plain": [
       "<Figure size 432x288 with 1 Axes>"
      ]
     },
     "metadata": {
      "needs_background": "light"
     },
     "output_type": "display_data"
    },
    {
     "data": {
      "image/png": "[encoded data removed]",
      "text/plain": [
       "<Figure size 432x288 with 1 Axes>"
      ]
     },
     "metadata": {
      "needs_background": "light"
     },
     "output_type": "display_data"
    },
    {
     "data": {
      "image/png": "[encoded data removed]",
      "text/plain": [
       "<Figure size 432x288 with 1 Axes>"
      ]
     },
     "metadata": {
      "needs_background": "light"
     },
     "output_type": "display_data"
    }
   ],
   "source": [
    "# Create a chart for all features showing poisonous vs edible\n",
    "for column in selected_features.columns:\n",
    "    sns.countplot(x='class', hue=column, data=df)\n",
    "    plt.savefig(os.path.join(\"images\", column))\n",
    "    plt.show()"
   ]
  },
  {
   "cell_type": "code",
   "execution_count": 62,
   "metadata": {},
   "outputs": [],
   "source": [
    "# Perform Categorical encoding\n",
    "from sklearn.preprocessing import LabelEncoder\n",
    "X=df.drop('class',axis=1) #Predictors\n",
    "y=df['class']\n",
    "\n",
    "Encoder_X = LabelEncoder() \n",
    "for col in X.columns:\n",
    "    X[col] = Encoder_X.fit_transform(X[col])\n",
    "Encoder_y=LabelEncoder()\n",
    "y = Encoder_y.fit_transform(y)"
   ]
  },
  {
   "cell_type": "code",
   "execution_count": 63,
   "metadata": {},
   "outputs": [
    {
     "data": {
      "text/html": [
       "<div>\n",
       "<style scoped>\n",
       "    .dataframe tbody tr th:only-of-type {\n",
       "        vertical-align: middle;\n",
       "    }\n",
       "\n",
       "    .dataframe tbody tr th {\n",
       "        vertical-align: top;\n",
       "    }\n",
       "\n",
       "    .dataframe thead th {\n",
       "        text-align: right;\n",
       "    }\n",
       "</style>\n",
       "<table border=\"1\" class=\"dataframe\">\n",
       "  <thead>\n",
       "    <tr style=\"text-align: right;\">\n",
       "      <th></th>\n",
       "      <th>cap-shape</th>\n",
       "      <th>cap-surface</th>\n",
       "      <th>cap-color</th>\n",
       "      <th>bruises</th>\n",
       "      <th>odor</th>\n",
       "      <th>gill-attachment</th>\n",
       "      <th>gill-spacing</th>\n",
       "      <th>gill-size</th>\n",
       "      <th>gill-color</th>\n",
       "      <th>stalk-shape</th>\n",
       "      <th>...</th>\n",
       "      <th>stalk-surface-below-ring</th>\n",
       "      <th>stalk-color-above-ring</th>\n",
       "      <th>stalk-color-below-ring</th>\n",
       "      <th>veil-type</th>\n",
       "      <th>veil-color</th>\n",
       "      <th>ring-number</th>\n",
       "      <th>ring-type</th>\n",
       "      <th>spore-print-color</th>\n",
       "      <th>population</th>\n",
       "      <th>habitat</th>\n",
       "    </tr>\n",
       "  </thead>\n",
       "  <tbody>\n",
       "    <tr>\n",
       "      <th>0</th>\n",
       "      <td>2</td>\n",
       "      <td>3</td>\n",
       "      <td>0</td>\n",
       "      <td>0</td>\n",
       "      <td>7</td>\n",
       "      <td>1</td>\n",
       "      <td>0</td>\n",
       "      <td>1</td>\n",
       "      <td>0</td>\n",
       "      <td>0</td>\n",
       "      <td>...</td>\n",
       "      <td>3</td>\n",
       "      <td>7</td>\n",
       "      <td>7</td>\n",
       "      <td>0</td>\n",
       "      <td>2</td>\n",
       "      <td>1</td>\n",
       "      <td>4</td>\n",
       "      <td>0</td>\n",
       "      <td>3</td>\n",
       "      <td>4</td>\n",
       "    </tr>\n",
       "    <tr>\n",
       "      <th>1</th>\n",
       "      <td>2</td>\n",
       "      <td>3</td>\n",
       "      <td>9</td>\n",
       "      <td>0</td>\n",
       "      <td>0</td>\n",
       "      <td>1</td>\n",
       "      <td>0</td>\n",
       "      <td>0</td>\n",
       "      <td>0</td>\n",
       "      <td>0</td>\n",
       "      <td>...</td>\n",
       "      <td>3</td>\n",
       "      <td>7</td>\n",
       "      <td>7</td>\n",
       "      <td>0</td>\n",
       "      <td>2</td>\n",
       "      <td>1</td>\n",
       "      <td>4</td>\n",
       "      <td>1</td>\n",
       "      <td>2</td>\n",
       "      <td>0</td>\n",
       "    </tr>\n",
       "    <tr>\n",
       "      <th>2</th>\n",
       "      <td>0</td>\n",
       "      <td>3</td>\n",
       "      <td>8</td>\n",
       "      <td>0</td>\n",
       "      <td>1</td>\n",
       "      <td>1</td>\n",
       "      <td>0</td>\n",
       "      <td>0</td>\n",
       "      <td>1</td>\n",
       "      <td>0</td>\n",
       "      <td>...</td>\n",
       "      <td>3</td>\n",
       "      <td>7</td>\n",
       "      <td>7</td>\n",
       "      <td>0</td>\n",
       "      <td>2</td>\n",
       "      <td>1</td>\n",
       "      <td>4</td>\n",
       "      <td>1</td>\n",
       "      <td>2</td>\n",
       "      <td>2</td>\n",
       "    </tr>\n",
       "    <tr>\n",
       "      <th>3</th>\n",
       "      <td>2</td>\n",
       "      <td>2</td>\n",
       "      <td>8</td>\n",
       "      <td>0</td>\n",
       "      <td>7</td>\n",
       "      <td>1</td>\n",
       "      <td>0</td>\n",
       "      <td>1</td>\n",
       "      <td>1</td>\n",
       "      <td>0</td>\n",
       "      <td>...</td>\n",
       "      <td>3</td>\n",
       "      <td>7</td>\n",
       "      <td>7</td>\n",
       "      <td>0</td>\n",
       "      <td>2</td>\n",
       "      <td>1</td>\n",
       "      <td>4</td>\n",
       "      <td>0</td>\n",
       "      <td>3</td>\n",
       "      <td>4</td>\n",
       "    </tr>\n",
       "    <tr>\n",
       "      <th>4</th>\n",
       "      <td>2</td>\n",
       "      <td>3</td>\n",
       "      <td>3</td>\n",
       "      <td>1</td>\n",
       "      <td>6</td>\n",
       "      <td>1</td>\n",
       "      <td>1</td>\n",
       "      <td>0</td>\n",
       "      <td>0</td>\n",
       "      <td>1</td>\n",
       "      <td>...</td>\n",
       "      <td>3</td>\n",
       "      <td>7</td>\n",
       "      <td>7</td>\n",
       "      <td>0</td>\n",
       "      <td>2</td>\n",
       "      <td>1</td>\n",
       "      <td>0</td>\n",
       "      <td>1</td>\n",
       "      <td>0</td>\n",
       "      <td>0</td>\n",
       "    </tr>\n",
       "  </tbody>\n",
       "</table>\n",
       "<p>5 rows × 22 columns</p>\n",
       "</div>"
      ],
      "text/plain": [
       "   cap-shape  cap-surface  cap-color  bruises  odor  gill-attachment  \\\n",
       "0          2            3          0        0     7                1   \n",
       "1          2            3          9        0     0                1   \n",
       "2          0            3          8        0     1                1   \n",
       "3          2            2          8        0     7                1   \n",
       "4          2            3          3        1     6                1   \n",
       "\n",
       "   gill-spacing  gill-size  gill-color  stalk-shape  ...  \\\n",
       "0             0          1           0            0  ...   \n",
       "1             0          0           0            0  ...   \n",
       "2             0          0           1            0  ...   \n",
       "3             0          1           1            0  ...   \n",
       "4             1          0           0            1  ...   \n",
       "\n",
       "   stalk-surface-below-ring  stalk-color-above-ring  stalk-color-below-ring  \\\n",
       "0                         3                       7                       7   \n",
       "1                         3                       7                       7   \n",
       "2                         3                       7                       7   \n",
       "3                         3                       7                       7   \n",
       "4                         3                       7                       7   \n",
       "\n",
       "   veil-type  veil-color  ring-number  ring-type  spore-print-color  \\\n",
       "0          0           2            1          4                  0   \n",
       "1          0           2            1          4                  1   \n",
       "2          0           2            1          4                  1   \n",
       "3          0           2            1          4                  0   \n",
       "4          0           2            1          0                  1   \n",
       "\n",
       "   population  habitat  \n",
       "0           3        4  \n",
       "1           2        0  \n",
       "2           2        2  \n",
       "3           3        4  \n",
       "4           0        0  \n",
       "\n",
       "[5 rows x 22 columns]"
      ]
     },
     "execution_count": 63,
     "metadata": {},
     "output_type": "execute_result"
    }
   ],
   "source": [
    "X.head()"
   ]
  },
  {
   "cell_type": "code",
   "execution_count": 64,
   "metadata": {},
   "outputs": [
    {
     "data": {
      "text/plain": [
       "array([1, 0, 0, ..., 0, 1, 0])"
      ]
     },
     "execution_count": 64,
     "metadata": {},
     "output_type": "execute_result"
    }
   ],
   "source": [
    "y"
   ]
  },
  {
   "cell_type": "markdown",
   "metadata": {},
   "source": [
    "# Determine Feature Importance"
   ]
  },
  {
   "cell_type": "code",
   "execution_count": 65,
   "metadata": {},
   "outputs": [
    {
     "name": "stdout",
     "output_type": "stream",
     "text": [
      "Feature 0 - cap-shape, Score: 0.013813630712688475\n",
      "Feature 1 - cap-surface, Score: 0.04588107432071427\n",
      "Feature 2 - cap-color, Score: 0.0016209194226395245\n",
      "Feature 3 - bruises, Score: 0.3741956105210228\n",
      "Feature 4 - odor, Score: 0.007542916084986791\n",
      "Feature 5 - gill-attachment, Score: 0.3826431004392035\n",
      "Feature 6 - gill-spacing, Score: -0.566861915803495\n",
      "Feature 7 - gill-size, Score: 0.4583169822532783\n",
      "Feature 8 - gill-color, Score: -0.005481746518588057\n",
      "Feature 9 - stalk-shape, Score: -0.13325412471099418\n",
      "Feature 10 - stalk-root, Score: -0.15764500026017145\n",
      "Feature 11 - stalk-surface-above-ring, Score: -0.06816898101290109\n",
      "Feature 12 - stalk-surface-below-ring, Score: -0.04861136570900631\n",
      "Feature 13 - stalk-color-above-ring, Score: -0.01400231589202054\n",
      "Feature 14 - stalk-color-below-ring, Score: 0.012827343592604014\n",
      "Feature 15 - veil-type, Score: 8.326672684688674e-17\n",
      "Feature 16 - veil-color, Score: 0.10045253871622759\n",
      "Feature 17 - ring-number, Score: -0.15826775095248685\n",
      "Feature 18 - ring-type, Score: 0.004833807524544517\n",
      "Feature 19 - spore-print-color, Score: 0.05088934219890027\n",
      "Feature 20 - population, Score: -0.012688534579751012\n",
      "Feature 21 - habitat, Score: -0.030198412655210418\n"
     ]
    },
    {
     "data": {
      "image/png": "[encoded data removed]",
      "text/plain": [
       "<Figure size 864x288 with 1 Axes>"
      ]
     },
     "metadata": {
      "needs_background": "light"
     },
     "output_type": "display_data"
    }
   ],
   "source": [
    "# https://machinelearningmastery.com/calculate-feature-importance-with-python/\n",
    "\n",
    "from sklearn.linear_model import LinearRegression\n",
    "# define the model\n",
    "model = LinearRegression()\n",
    "# fit the model\n",
    "model.fit(X, y)\n",
    "# get importance\n",
    "importance = model.coef_\n",
    "# summarize feature importance\n",
    "for i,v in enumerate(importance):\n",
    "    print(f'Feature {i} - {X.columns[i]}, Score: {v}')\n",
    "\n",
    "# plot feature importance\n",
    "fig, ax = plt.subplots(figsize = (12,4))\n",
    "plt.bar([x for x in range(len(importance))], importance)\n",
    "ax.set_xticks([0,1,2,3,4,5,6,7,8,9,10,11,12,13,14,15,16,17,18,19,20,21])\n",
    "ax.set_xticklabels(X.columns, rotation=65)\n",
    "fig.tight_layout()\n",
    "plt.show()"
   ]
  },
  {
   "cell_type": "markdown",
   "metadata": {},
   "source": [
    "# Our Chosen Features with the higest numbers to use as our selected features\n",
    "* Feature 3 - bruises, Score: 0.3741956105210228\n",
    "* Feature 5 - gill-attachment, Score: 0.3826431004392035\n",
    "* Feature 6 - gill-spacing, Score: -0.566861915803495\n",
    "* Feature 7 - gill-size, Score: 0.4583169822532783\n",
    "* Feature 10 - stalk-root, Score: -0.15764500026017145\n",
    "* Feature 16 - veil-color, Score: 0.10045253871622759\n",
    "* Feature 17 - ring-number, Score: -0.15826775095248685"
   ]
  },
  {
   "cell_type": "code",
   "execution_count": 66,
   "metadata": {},
   "outputs": [
    {
     "data": {
      "text/html": [
       "<div>\n",
       "<style scoped>\n",
       "    .dataframe tbody tr th:only-of-type {\n",
       "        vertical-align: middle;\n",
       "    }\n",
       "\n",
       "    .dataframe tbody tr th {\n",
       "        vertical-align: top;\n",
       "    }\n",
       "\n",
       "    .dataframe thead th {\n",
       "        text-align: right;\n",
       "    }\n",
       "</style>\n",
       "<table border=\"1\" class=\"dataframe\">\n",
       "  <thead>\n",
       "    <tr style=\"text-align: right;\">\n",
       "      <th></th>\n",
       "      <th>bruises</th>\n",
       "      <th>gill-attachment</th>\n",
       "      <th>gill-spacing</th>\n",
       "      <th>gill-size</th>\n",
       "      <th>stalk-root</th>\n",
       "      <th>veil-color</th>\n",
       "      <th>ring-number</th>\n",
       "    </tr>\n",
       "  </thead>\n",
       "  <tbody>\n",
       "    <tr>\n",
       "      <th>0</th>\n",
       "      <td>0</td>\n",
       "      <td>1</td>\n",
       "      <td>0</td>\n",
       "      <td>1</td>\n",
       "      <td>2</td>\n",
       "      <td>2</td>\n",
       "      <td>1</td>\n",
       "    </tr>\n",
       "    <tr>\n",
       "      <th>1</th>\n",
       "      <td>0</td>\n",
       "      <td>1</td>\n",
       "      <td>0</td>\n",
       "      <td>0</td>\n",
       "      <td>1</td>\n",
       "      <td>2</td>\n",
       "      <td>1</td>\n",
       "    </tr>\n",
       "    <tr>\n",
       "      <th>2</th>\n",
       "      <td>0</td>\n",
       "      <td>1</td>\n",
       "      <td>0</td>\n",
       "      <td>0</td>\n",
       "      <td>1</td>\n",
       "      <td>2</td>\n",
       "      <td>1</td>\n",
       "    </tr>\n",
       "    <tr>\n",
       "      <th>3</th>\n",
       "      <td>0</td>\n",
       "      <td>1</td>\n",
       "      <td>0</td>\n",
       "      <td>1</td>\n",
       "      <td>2</td>\n",
       "      <td>2</td>\n",
       "      <td>1</td>\n",
       "    </tr>\n",
       "    <tr>\n",
       "      <th>4</th>\n",
       "      <td>1</td>\n",
       "      <td>1</td>\n",
       "      <td>1</td>\n",
       "      <td>0</td>\n",
       "      <td>2</td>\n",
       "      <td>2</td>\n",
       "      <td>1</td>\n",
       "    </tr>\n",
       "  </tbody>\n",
       "</table>\n",
       "</div>"
      ],
      "text/plain": [
       "   bruises  gill-attachment  gill-spacing  gill-size  stalk-root  veil-color  \\\n",
       "0        0                1             0          1           2           2   \n",
       "1        0                1             0          0           1           2   \n",
       "2        0                1             0          0           1           2   \n",
       "3        0                1             0          1           2           2   \n",
       "4        1                1             1          0           2           2   \n",
       "\n",
       "   ring-number  \n",
       "0            1  \n",
       "1            1  \n",
       "2            1  \n",
       "3            1  \n",
       "4            1  "
      ]
     },
     "execution_count": 66,
     "metadata": {},
     "output_type": "execute_result"
    }
   ],
   "source": [
    "# Set features. This will also be used as your x values.\n",
    "selected_features = X[['bruises','gill-attachment','gill-spacing','gill-size','stalk-root','veil-color','ring-number']]\n",
    "\n",
    "selected_features_names = selected_features.columns\n",
    "selected_features.head()"
   ]
  },
  {
   "cell_type": "code",
   "execution_count": 67,
   "metadata": {},
   "outputs": [],
   "source": [
    "# Setup Variables to use for our model\n",
    "target = y\n",
    "target_names = [\"edible\", \"poisonous\"]\n",
    "data = selected_features\n",
    "data_names = selected_features_names"
   ]
  },
  {
   "cell_type": "markdown",
   "metadata": {},
   "source": [
    "# Scaling\n",
    "\n",
    "Scale the data using the MinMaxScaler and perform some feature selection"
   ]
  },
  {
   "cell_type": "code",
   "execution_count": 68,
   "metadata": {},
   "outputs": [],
   "source": [
    "# # Scale your data\n",
    "X_scaler = MinMaxScaler().fit(data)\n",
    "X_scaled = X_scaler.transform(data)"
   ]
  },
  {
   "cell_type": "code",
   "execution_count": 69,
   "metadata": {},
   "outputs": [
    {
     "data": {
      "text/plain": [
       "Index(['bruises', 'gill-attachment', 'gill-spacing', 'gill-size', 'stalk-root',\n",
       "       'veil-color', 'ring-number'],\n",
       "      dtype='object')"
      ]
     },
     "execution_count": 69,
     "metadata": {},
     "output_type": "execute_result"
    }
   ],
   "source": [
    "selected_features_names"
   ]
  },
  {
   "cell_type": "markdown",
   "metadata": {},
   "source": [
    "# Create a Train Test Split\n",
    "\n",
    "Use `class` for the y (target) values"
   ]
  },
  {
   "cell_type": "code",
   "execution_count": 70,
   "metadata": {},
   "outputs": [],
   "source": [
    "X_train_scaled, X_test_scaled, y_train, y_test = train_test_split(data, target, random_state=42)"
   ]
  },
  {
   "cell_type": "code",
   "execution_count": 71,
   "metadata": {},
   "outputs": [
    {
     "data": {
      "text/html": [
       "<div>\n",
       "<style scoped>\n",
       "    .dataframe tbody tr th:only-of-type {\n",
       "        vertical-align: middle;\n",
       "    }\n",
       "\n",
       "    .dataframe tbody tr th {\n",
       "        vertical-align: top;\n",
       "    }\n",
       "\n",
       "    .dataframe thead th {\n",
       "        text-align: right;\n",
       "    }\n",
       "</style>\n",
       "<table border=\"1\" class=\"dataframe\">\n",
       "  <thead>\n",
       "    <tr style=\"text-align: right;\">\n",
       "      <th></th>\n",
       "      <th>bruises</th>\n",
       "      <th>gill-attachment</th>\n",
       "      <th>gill-spacing</th>\n",
       "      <th>gill-size</th>\n",
       "      <th>stalk-root</th>\n",
       "      <th>veil-color</th>\n",
       "      <th>ring-number</th>\n",
       "    </tr>\n",
       "  </thead>\n",
       "  <tbody>\n",
       "    <tr>\n",
       "      <th>3887</th>\n",
       "      <td>1</td>\n",
       "      <td>1</td>\n",
       "      <td>0</td>\n",
       "      <td>1</td>\n",
       "      <td>0</td>\n",
       "      <td>2</td>\n",
       "      <td>1</td>\n",
       "    </tr>\n",
       "    <tr>\n",
       "      <th>4119</th>\n",
       "      <td>1</td>\n",
       "      <td>1</td>\n",
       "      <td>0</td>\n",
       "      <td>0</td>\n",
       "      <td>0</td>\n",
       "      <td>2</td>\n",
       "      <td>1</td>\n",
       "    </tr>\n",
       "    <tr>\n",
       "      <th>1600</th>\n",
       "      <td>0</td>\n",
       "      <td>1</td>\n",
       "      <td>0</td>\n",
       "      <td>0</td>\n",
       "      <td>0</td>\n",
       "      <td>2</td>\n",
       "      <td>1</td>\n",
       "    </tr>\n",
       "    <tr>\n",
       "      <th>4988</th>\n",
       "      <td>1</td>\n",
       "      <td>1</td>\n",
       "      <td>0</td>\n",
       "      <td>0</td>\n",
       "      <td>0</td>\n",
       "      <td>2</td>\n",
       "      <td>1</td>\n",
       "    </tr>\n",
       "    <tr>\n",
       "      <th>6757</th>\n",
       "      <td>1</td>\n",
       "      <td>1</td>\n",
       "      <td>0</td>\n",
       "      <td>1</td>\n",
       "      <td>3</td>\n",
       "      <td>2</td>\n",
       "      <td>1</td>\n",
       "    </tr>\n",
       "  </tbody>\n",
       "</table>\n",
       "</div>"
      ],
      "text/plain": [
       "      bruises  gill-attachment  gill-spacing  gill-size  stalk-root  \\\n",
       "3887        1                1             0          1           0   \n",
       "4119        1                1             0          0           0   \n",
       "1600        0                1             0          0           0   \n",
       "4988        1                1             0          0           0   \n",
       "6757        1                1             0          1           3   \n",
       "\n",
       "      veil-color  ring-number  \n",
       "3887           2            1  \n",
       "4119           2            1  \n",
       "1600           2            1  \n",
       "4988           2            1  \n",
       "6757           2            1  "
      ]
     },
     "execution_count": 71,
     "metadata": {},
     "output_type": "execute_result"
    }
   ],
   "source": [
    "X_train_scaled.head()"
   ]
  },
  {
   "cell_type": "code",
   "execution_count": 72,
   "metadata": {},
   "outputs": [
    {
     "data": {
      "text/html": [
       "<div>\n",
       "<style scoped>\n",
       "    .dataframe tbody tr th:only-of-type {\n",
       "        vertical-align: middle;\n",
       "    }\n",
       "\n",
       "    .dataframe tbody tr th {\n",
       "        vertical-align: top;\n",
       "    }\n",
       "\n",
       "    .dataframe thead th {\n",
       "        text-align: right;\n",
       "    }\n",
       "</style>\n",
       "<table border=\"1\" class=\"dataframe\">\n",
       "  <thead>\n",
       "    <tr style=\"text-align: right;\">\n",
       "      <th></th>\n",
       "      <th>bruises</th>\n",
       "      <th>gill-attachment</th>\n",
       "      <th>gill-spacing</th>\n",
       "      <th>gill-size</th>\n",
       "      <th>stalk-root</th>\n",
       "      <th>veil-color</th>\n",
       "      <th>ring-number</th>\n",
       "    </tr>\n",
       "  </thead>\n",
       "  <tbody>\n",
       "    <tr>\n",
       "      <th>1971</th>\n",
       "      <td>1</td>\n",
       "      <td>1</td>\n",
       "      <td>1</td>\n",
       "      <td>0</td>\n",
       "      <td>2</td>\n",
       "      <td>2</td>\n",
       "      <td>1</td>\n",
       "    </tr>\n",
       "    <tr>\n",
       "      <th>6654</th>\n",
       "      <td>1</td>\n",
       "      <td>1</td>\n",
       "      <td>0</td>\n",
       "      <td>1</td>\n",
       "      <td>3</td>\n",
       "      <td>2</td>\n",
       "      <td>1</td>\n",
       "    </tr>\n",
       "    <tr>\n",
       "      <th>5606</th>\n",
       "      <td>1</td>\n",
       "      <td>1</td>\n",
       "      <td>0</td>\n",
       "      <td>1</td>\n",
       "      <td>3</td>\n",
       "      <td>2</td>\n",
       "      <td>1</td>\n",
       "    </tr>\n",
       "    <tr>\n",
       "      <th>3332</th>\n",
       "      <td>0</td>\n",
       "      <td>1</td>\n",
       "      <td>0</td>\n",
       "      <td>0</td>\n",
       "      <td>0</td>\n",
       "      <td>2</td>\n",
       "      <td>1</td>\n",
       "    </tr>\n",
       "    <tr>\n",
       "      <th>6988</th>\n",
       "      <td>1</td>\n",
       "      <td>1</td>\n",
       "      <td>0</td>\n",
       "      <td>1</td>\n",
       "      <td>3</td>\n",
       "      <td>2</td>\n",
       "      <td>1</td>\n",
       "    </tr>\n",
       "  </tbody>\n",
       "</table>\n",
       "</div>"
      ],
      "text/plain": [
       "      bruises  gill-attachment  gill-spacing  gill-size  stalk-root  \\\n",
       "1971        1                1             1          0           2   \n",
       "6654        1                1             0          1           3   \n",
       "5606        1                1             0          1           3   \n",
       "3332        0                1             0          0           0   \n",
       "6988        1                1             0          1           3   \n",
       "\n",
       "      veil-color  ring-number  \n",
       "1971           2            1  \n",
       "6654           2            1  \n",
       "5606           2            1  \n",
       "3332           2            1  \n",
       "6988           2            1  "
      ]
     },
     "execution_count": 72,
     "metadata": {},
     "output_type": "execute_result"
    }
   ],
   "source": [
    "X_test_scaled.head()"
   ]
  },
  {
   "cell_type": "code",
   "execution_count": 73,
   "metadata": {},
   "outputs": [
    {
     "data": {
      "text/plain": [
       "array([1, 1, 0, ..., 0, 1, 0])"
      ]
     },
     "execution_count": 73,
     "metadata": {},
     "output_type": "execute_result"
    }
   ],
   "source": [
    "y_train"
   ]
  },
  {
   "cell_type": "code",
   "execution_count": 74,
   "metadata": {},
   "outputs": [
    {
     "data": {
      "text/plain": [
       "array([0, 1, 1, ..., 0, 0, 1])"
      ]
     },
     "execution_count": 74,
     "metadata": {},
     "output_type": "execute_result"
    }
   ],
   "source": [
    "y_test"
   ]
  },
  {
   "cell_type": "markdown",
   "metadata": {},
   "source": [
    "# Train the Model\n",
    "\n"
   ]
  },
  {
   "cell_type": "code",
   "execution_count": 75,
   "metadata": {},
   "outputs": [
    {
     "data": {
      "text/plain": [
       "0.946824224519941"
      ]
     },
     "execution_count": 75,
     "metadata": {},
     "output_type": "execute_result"
    }
   ],
   "source": [
    "rf = RandomForestClassifier()\n",
    "rf = rf.fit(X_train_scaled, y_train)\n",
    "rf.score(X_test_scaled, y_test)"
   ]
  },
  {
   "cell_type": "code",
   "execution_count": 76,
   "metadata": {},
   "outputs": [
    {
     "name": "stdout",
     "output_type": "stream",
     "text": [
      "Training Data Score: 0.9481372066305597\n",
      "Testing Data Score: 0.946824224519941\n"
     ]
    }
   ],
   "source": [
    "# Output the training and testing score for the model\n",
    "print(f\"Training Data Score: {rf.score(X_train_scaled, y_train)}\")\n",
    "print(f\"Testing Data Score: {rf.score(X_test_scaled, y_test)}\")"
   ]
  },
  {
   "cell_type": "code",
   "execution_count": 77,
   "metadata": {},
   "outputs": [
    {
     "data": {
      "text/plain": [
       "RandomForestClassifier()"
      ]
     },
     "execution_count": 77,
     "metadata": {},
     "output_type": "execute_result"
    }
   ],
   "source": [
    "rf"
   ]
  },
  {
   "cell_type": "markdown",
   "metadata": {},
   "source": [
    "# Hyperparameter Tuning\n",
    "\n",
    "Use `GridSearchCV` to tune the model's parameters"
   ]
  },
  {
   "cell_type": "code",
   "execution_count": 78,
   "metadata": {},
   "outputs": [],
   "source": [
    "# Create the GridSearch estimator along with a parameter object containing the values to adjust\n",
    "\n",
    "param_grid = {'n_estimators': [50, 100, 150, 200, 250],\n",
    "              'max_depth': [10, 20, 30, 40],\n",
    "             'max_features': ['auto', 'sqrt','log2']}\n",
    "grid = GridSearchCV(rf, param_grid, verbose=3)"
   ]
  },
  {
   "cell_type": "code",
   "execution_count": 79,
   "metadata": {
    "scrolled": false
   },
   "outputs": [
    {
     "name": "stdout",
     "output_type": "stream",
     "text": [
      "Fitting 5 folds for each of 60 candidates, totalling 300 fits\n",
      "[CV] max_depth=10, max_features=auto, n_estimators=50 ................\n"
     ]
    },
    {
     "name": "stderr",
     "output_type": "stream",
     "text": [
      "[Parallel(n_jobs=1)]: Using backend SequentialBackend with 1 concurrent workers.\n"
     ]
    },
    {
     "name": "stdout",
     "output_type": "stream",
     "text": [
      "[CV]  max_depth=10, max_features=auto, n_estimators=50, score=0.950, total=   0.2s\n",
      "[CV] max_depth=10, max_features=auto, n_estimators=50 ................\n"
     ]
    },
    {
     "name": "stderr",
     "output_type": "stream",
     "text": [
      "[Parallel(n_jobs=1)]: Done   1 out of   1 | elapsed:    0.1s remaining:    0.0s\n"
     ]
    },
    {
     "name": "stdout",
     "output_type": "stream",
     "text": [
      "[CV]  max_depth=10, max_features=auto, n_estimators=50, score=0.949, total=   0.2s\n",
      "[CV] max_depth=10, max_features=auto, n_estimators=50 ................\n"
     ]
    },
    {
     "name": "stderr",
     "output_type": "stream",
     "text": [
      "[Parallel(n_jobs=1)]: Done   2 out of   2 | elapsed:    0.4s remaining:    0.0s\n"
     ]
    },
    {
     "name": "stdout",
     "output_type": "stream",
     "text": [
      "[CV]  max_depth=10, max_features=auto, n_estimators=50, score=0.947, total=   0.2s\n",
      "[CV] max_depth=10, max_features=auto, n_estimators=50 ................\n",
      "[CV]  max_depth=10, max_features=auto, n_estimators=50, score=0.956, total=   0.3s\n",
      "[CV] max_depth=10, max_features=auto, n_estimators=50 ................\n",
      "[CV]  max_depth=10, max_features=auto, n_estimators=50, score=0.939, total=   0.2s\n",
      "[CV] max_depth=10, max_features=auto, n_estimators=100 ...............\n",
      "[CV]  max_depth=10, max_features=auto, n_estimators=100, score=0.950, total=   0.4s\n",
      "[CV] max_depth=10, max_features=auto, n_estimators=100 ...............\n",
      "[CV]  max_depth=10, max_features=auto, n_estimators=100, score=0.949, total=   0.4s\n",
      "[CV] max_depth=10, max_features=auto, n_estimators=100 ...............\n",
      "[CV]  max_depth=10, max_features=auto, n_estimators=100, score=0.947, total=   0.4s\n",
      "[CV] max_depth=10, max_features=auto, n_estimators=100 ...............\n",
      "[CV]  max_depth=10, max_features=auto, n_estimators=100, score=0.956, total=   0.4s\n",
      "[CV] max_depth=10, max_features=auto, n_estimators=100 ...............\n",
      "[CV]  max_depth=10, max_features=auto, n_estimators=100, score=0.939, total=   0.4s\n",
      "[CV] max_depth=10, max_features=auto, n_estimators=150 ...............\n",
      "[CV]  max_depth=10, max_features=auto, n_estimators=150, score=0.950, total=   0.6s\n",
      "[CV] max_depth=10, max_features=auto, n_estimators=150 ...............\n",
      "[CV]  max_depth=10, max_features=auto, n_estimators=150, score=0.949, total=   0.6s\n",
      "[CV] max_depth=10, max_features=auto, n_estimators=150 ...............\n",
      "[CV]  max_depth=10, max_features=auto, n_estimators=150, score=0.947, total=   0.6s\n",
      "[CV] max_depth=10, max_features=auto, n_estimators=150 ...............\n",
      "[CV]  max_depth=10, max_features=auto, n_estimators=150, score=0.956, total=   0.7s\n",
      "[CV] max_depth=10, max_features=auto, n_estimators=150 ...............\n",
      "[CV]  max_depth=10, max_features=auto, n_estimators=150, score=0.939, total=   0.6s\n",
      "[CV] max_depth=10, max_features=auto, n_estimators=200 ...............\n",
      "[CV]  max_depth=10, max_features=auto, n_estimators=200, score=0.950, total=   0.9s\n",
      "[CV] max_depth=10, max_features=auto, n_estimators=200 ...............\n",
      "[CV]  max_depth=10, max_features=auto, n_estimators=200, score=0.949, total=   0.8s\n",
      "[CV] max_depth=10, max_features=auto, n_estimators=200 ...............\n",
      "[CV]  max_depth=10, max_features=auto, n_estimators=200, score=0.947, total=   0.7s\n",
      "[CV] max_depth=10, max_features=auto, n_estimators=200 ...............\n",
      "[CV]  max_depth=10, max_features=auto, n_estimators=200, score=0.956, total=   0.9s\n",
      "[CV] max_depth=10, max_features=auto, n_estimators=200 ...............\n",
      "[CV]  max_depth=10, max_features=auto, n_estimators=200, score=0.939, total=   0.8s\n",
      "[CV] max_depth=10, max_features=auto, n_estimators=250 ...............\n",
      "[CV]  max_depth=10, max_features=auto, n_estimators=250, score=0.950, total=   1.1s\n",
      "[CV] max_depth=10, max_features=auto, n_estimators=250 ...............\n",
      "[CV]  max_depth=10, max_features=auto, n_estimators=250, score=0.949, total=   1.1s\n",
      "[CV] max_depth=10, max_features=auto, n_estimators=250 ...............\n",
      "[CV]  max_depth=10, max_features=auto, n_estimators=250, score=0.947, total=   0.9s\n",
      "[CV] max_depth=10, max_features=auto, n_estimators=250 ...............\n",
      "[CV]  max_depth=10, max_features=auto, n_estimators=250, score=0.956, total=   1.0s\n",
      "[CV] max_depth=10, max_features=auto, n_estimators=250 ...............\n",
      "[CV]  max_depth=10, max_features=auto, n_estimators=250, score=0.939, total=   1.0s\n",
      "[CV] max_depth=10, max_features=sqrt, n_estimators=50 ................\n",
      "[CV]  max_depth=10, max_features=sqrt, n_estimators=50, score=0.950, total=   0.2s\n",
      "[CV] max_depth=10, max_features=sqrt, n_estimators=50 ................\n",
      "[CV]  max_depth=10, max_features=sqrt, n_estimators=50, score=0.949, total=   0.2s\n",
      "[CV] max_depth=10, max_features=sqrt, n_estimators=50 ................\n",
      "[CV]  max_depth=10, max_features=sqrt, n_estimators=50, score=0.947, total=   0.2s\n",
      "[CV] max_depth=10, max_features=sqrt, n_estimators=50 ................\n",
      "[CV]  max_depth=10, max_features=sqrt, n_estimators=50, score=0.956, total=   0.2s\n",
      "[CV] max_depth=10, max_features=sqrt, n_estimators=50 ................\n",
      "[CV]  max_depth=10, max_features=sqrt, n_estimators=50, score=0.939, total=   0.2s\n",
      "[CV] max_depth=10, max_features=sqrt, n_estimators=100 ...............\n",
      "[CV]  max_depth=10, max_features=sqrt, n_estimators=100, score=0.950, total=   0.4s\n",
      "[CV] max_depth=10, max_features=sqrt, n_estimators=100 ...............\n",
      "[CV]  max_depth=10, max_features=sqrt, n_estimators=100, score=0.949, total=   0.4s\n",
      "[CV] max_depth=10, max_features=sqrt, n_estimators=100 ...............\n",
      "[CV]  max_depth=10, max_features=sqrt, n_estimators=100, score=0.947, total=   0.4s\n",
      "[CV] max_depth=10, max_features=sqrt, n_estimators=100 ...............\n",
      "[CV]  max_depth=10, max_features=sqrt, n_estimators=100, score=0.956, total=   0.5s\n",
      "[CV] max_depth=10, max_features=sqrt, n_estimators=100 ...............\n",
      "[CV]  max_depth=10, max_features=sqrt, n_estimators=100, score=0.939, total=   0.5s\n",
      "[CV] max_depth=10, max_features=sqrt, n_estimators=150 ...............\n",
      "[CV]  max_depth=10, max_features=sqrt, n_estimators=150, score=0.950, total=   0.7s\n",
      "[CV] max_depth=10, max_features=sqrt, n_estimators=150 ...............\n",
      "[CV]  max_depth=10, max_features=sqrt, n_estimators=150, score=0.949, total=   0.7s\n",
      "[CV] max_depth=10, max_features=sqrt, n_estimators=150 ...............\n",
      "[CV]  max_depth=10, max_features=sqrt, n_estimators=150, score=0.947, total=   0.7s\n",
      "[CV] max_depth=10, max_features=sqrt, n_estimators=150 ...............\n",
      "[CV]  max_depth=10, max_features=sqrt, n_estimators=150, score=0.956, total=   0.7s\n",
      "[CV] max_depth=10, max_features=sqrt, n_estimators=150 ...............\n",
      "[CV]  max_depth=10, max_features=sqrt, n_estimators=150, score=0.939, total=   0.6s\n",
      "[CV] max_depth=10, max_features=sqrt, n_estimators=200 ...............\n",
      "[CV]  max_depth=10, max_features=sqrt, n_estimators=200, score=0.950, total=   0.7s\n",
      "[CV] max_depth=10, max_features=sqrt, n_estimators=200 ...............\n",
      "[CV]  max_depth=10, max_features=sqrt, n_estimators=200, score=0.949, total=   0.6s\n",
      "[CV] max_depth=10, max_features=sqrt, n_estimators=200 ...............\n",
      "[CV]  max_depth=10, max_features=sqrt, n_estimators=200, score=0.947, total=   1.1s\n",
      "[CV] max_depth=10, max_features=sqrt, n_estimators=200 ...............\n",
      "[CV]  max_depth=10, max_features=sqrt, n_estimators=200, score=0.956, total=   0.8s\n",
      "[CV] max_depth=10, max_features=sqrt, n_estimators=200 ...............\n",
      "[CV]  max_depth=10, max_features=sqrt, n_estimators=200, score=0.939, total=   0.8s\n",
      "[CV] max_depth=10, max_features=sqrt, n_estimators=250 ...............\n",
      "[CV]  max_depth=10, max_features=sqrt, n_estimators=250, score=0.950, total=   1.1s\n",
      "[CV] max_depth=10, max_features=sqrt, n_estimators=250 ...............\n",
      "[CV]  max_depth=10, max_features=sqrt, n_estimators=250, score=0.949, total=   1.1s\n",
      "[CV] max_depth=10, max_features=sqrt, n_estimators=250 ...............\n",
      "[CV]  max_depth=10, max_features=sqrt, n_estimators=250, score=0.947, total=   1.0s\n",
      "[CV] max_depth=10, max_features=sqrt, n_estimators=250 ...............\n",
      "[CV]  max_depth=10, max_features=sqrt, n_estimators=250, score=0.956, total=   1.1s\n",
      "[CV] max_depth=10, max_features=sqrt, n_estimators=250 ...............\n",
      "[CV]  max_depth=10, max_features=sqrt, n_estimators=250, score=0.939, total=   1.1s\n",
      "[CV] max_depth=10, max_features=log2, n_estimators=50 ................\n",
      "[CV]  max_depth=10, max_features=log2, n_estimators=50, score=0.950, total=   0.2s\n",
      "[CV] max_depth=10, max_features=log2, n_estimators=50 ................\n",
      "[CV]  max_depth=10, max_features=log2, n_estimators=50, score=0.949, total=   0.2s\n",
      "[CV] max_depth=10, max_features=log2, n_estimators=50 ................\n",
      "[CV]  max_depth=10, max_features=log2, n_estimators=50, score=0.947, total=   0.2s\n",
      "[CV] max_depth=10, max_features=log2, n_estimators=50 ................\n",
      "[CV]  max_depth=10, max_features=log2, n_estimators=50, score=0.956, total=   0.3s\n",
      "[CV] max_depth=10, max_features=log2, n_estimators=50 ................\n",
      "[CV]  max_depth=10, max_features=log2, n_estimators=50, score=0.939, total=   0.3s\n",
      "[CV] max_depth=10, max_features=log2, n_estimators=100 ...............\n"
     ]
    },
    {
     "name": "stdout",
     "output_type": "stream",
     "text": [
      "[CV]  max_depth=10, max_features=log2, n_estimators=100, score=0.950, total=   0.4s\n",
      "[CV] max_depth=10, max_features=log2, n_estimators=100 ...............\n",
      "[CV]  max_depth=10, max_features=log2, n_estimators=100, score=0.949, total=   0.4s\n",
      "[CV] max_depth=10, max_features=log2, n_estimators=100 ...............\n",
      "[CV]  max_depth=10, max_features=log2, n_estimators=100, score=0.947, total=   0.5s\n",
      "[CV] max_depth=10, max_features=log2, n_estimators=100 ...............\n",
      "[CV]  max_depth=10, max_features=log2, n_estimators=100, score=0.956, total=   0.4s\n",
      "[CV] max_depth=10, max_features=log2, n_estimators=100 ...............\n",
      "[CV]  max_depth=10, max_features=log2, n_estimators=100, score=0.939, total=   0.4s\n",
      "[CV] max_depth=10, max_features=log2, n_estimators=150 ...............\n",
      "[CV]  max_depth=10, max_features=log2, n_estimators=150, score=0.950, total=   0.7s\n",
      "[CV] max_depth=10, max_features=log2, n_estimators=150 ...............\n",
      "[CV]  max_depth=10, max_features=log2, n_estimators=150, score=0.949, total=   0.7s\n",
      "[CV] max_depth=10, max_features=log2, n_estimators=150 ...............\n",
      "[CV]  max_depth=10, max_features=log2, n_estimators=150, score=0.947, total=   0.7s\n",
      "[CV] max_depth=10, max_features=log2, n_estimators=150 ...............\n",
      "[CV]  max_depth=10, max_features=log2, n_estimators=150, score=0.956, total=   0.7s\n",
      "[CV] max_depth=10, max_features=log2, n_estimators=150 ...............\n",
      "[CV]  max_depth=10, max_features=log2, n_estimators=150, score=0.939, total=   0.7s\n",
      "[CV] max_depth=10, max_features=log2, n_estimators=200 ...............\n",
      "[CV]  max_depth=10, max_features=log2, n_estimators=200, score=0.950, total=   0.8s\n",
      "[CV] max_depth=10, max_features=log2, n_estimators=200 ...............\n",
      "[CV]  max_depth=10, max_features=log2, n_estimators=200, score=0.949, total=   0.9s\n",
      "[CV] max_depth=10, max_features=log2, n_estimators=200 ...............\n",
      "[CV]  max_depth=10, max_features=log2, n_estimators=200, score=0.947, total=   0.8s\n",
      "[CV] max_depth=10, max_features=log2, n_estimators=200 ...............\n",
      "[CV]  max_depth=10, max_features=log2, n_estimators=200, score=0.956, total=   0.9s\n",
      "[CV] max_depth=10, max_features=log2, n_estimators=200 ...............\n",
      "[CV]  max_depth=10, max_features=log2, n_estimators=200, score=0.939, total=   0.9s\n",
      "[CV] max_depth=10, max_features=log2, n_estimators=250 ...............\n",
      "[CV]  max_depth=10, max_features=log2, n_estimators=250, score=0.950, total=   1.0s\n",
      "[CV] max_depth=10, max_features=log2, n_estimators=250 ...............\n",
      "[CV]  max_depth=10, max_features=log2, n_estimators=250, score=0.949, total=   1.1s\n",
      "[CV] max_depth=10, max_features=log2, n_estimators=250 ...............\n",
      "[CV]  max_depth=10, max_features=log2, n_estimators=250, score=0.947, total=   1.1s\n",
      "[CV] max_depth=10, max_features=log2, n_estimators=250 ...............\n",
      "[CV]  max_depth=10, max_features=log2, n_estimators=250, score=0.956, total=   1.0s\n",
      "[CV] max_depth=10, max_features=log2, n_estimators=250 ...............\n",
      "[CV]  max_depth=10, max_features=log2, n_estimators=250, score=0.939, total=   1.0s\n",
      "[CV] max_depth=20, max_features=auto, n_estimators=50 ................\n",
      "[CV]  max_depth=20, max_features=auto, n_estimators=50, score=0.950, total=   0.2s\n",
      "[CV] max_depth=20, max_features=auto, n_estimators=50 ................\n",
      "[CV]  max_depth=20, max_features=auto, n_estimators=50, score=0.949, total=   0.3s\n",
      "[CV] max_depth=20, max_features=auto, n_estimators=50 ................\n",
      "[CV]  max_depth=20, max_features=auto, n_estimators=50, score=0.947, total=   0.2s\n",
      "[CV] max_depth=20, max_features=auto, n_estimators=50 ................\n",
      "[CV]  max_depth=20, max_features=auto, n_estimators=50, score=0.956, total=   0.2s\n",
      "[CV] max_depth=20, max_features=auto, n_estimators=50 ................\n",
      "[CV]  max_depth=20, max_features=auto, n_estimators=50, score=0.939, total=   0.2s\n",
      "[CV] max_depth=20, max_features=auto, n_estimators=100 ...............\n",
      "[CV]  max_depth=20, max_features=auto, n_estimators=100, score=0.950, total=   0.4s\n",
      "[CV] max_depth=20, max_features=auto, n_estimators=100 ...............\n",
      "[CV]  max_depth=20, max_features=auto, n_estimators=100, score=0.949, total=   0.5s\n",
      "[CV] max_depth=20, max_features=auto, n_estimators=100 ...............\n",
      "[CV]  max_depth=20, max_features=auto, n_estimators=100, score=0.947, total=   0.5s\n",
      "[CV] max_depth=20, max_features=auto, n_estimators=100 ...............\n",
      "[CV]  max_depth=20, max_features=auto, n_estimators=100, score=0.956, total=   0.4s\n",
      "[CV] max_depth=20, max_features=auto, n_estimators=100 ...............\n",
      "[CV]  max_depth=20, max_features=auto, n_estimators=100, score=0.939, total=   0.5s\n",
      "[CV] max_depth=20, max_features=auto, n_estimators=150 ...............\n",
      "[CV]  max_depth=20, max_features=auto, n_estimators=150, score=0.950, total=   0.7s\n",
      "[CV] max_depth=20, max_features=auto, n_estimators=150 ...............\n",
      "[CV]  max_depth=20, max_features=auto, n_estimators=150, score=0.949, total=   0.7s\n",
      "[CV] max_depth=20, max_features=auto, n_estimators=150 ...............\n",
      "[CV]  max_depth=20, max_features=auto, n_estimators=150, score=0.947, total=   0.7s\n",
      "[CV] max_depth=20, max_features=auto, n_estimators=150 ...............\n",
      "[CV]  max_depth=20, max_features=auto, n_estimators=150, score=0.956, total=   0.6s\n",
      "[CV] max_depth=20, max_features=auto, n_estimators=150 ...............\n",
      "[CV]  max_depth=20, max_features=auto, n_estimators=150, score=0.939, total=   0.7s\n",
      "[CV] max_depth=20, max_features=auto, n_estimators=200 ...............\n",
      "[CV]  max_depth=20, max_features=auto, n_estimators=200, score=0.950, total=   0.9s\n",
      "[CV] max_depth=20, max_features=auto, n_estimators=200 ...............\n",
      "[CV]  max_depth=20, max_features=auto, n_estimators=200, score=0.949, total=   0.9s\n",
      "[CV] max_depth=20, max_features=auto, n_estimators=200 ...............\n",
      "[CV]  max_depth=20, max_features=auto, n_estimators=200, score=0.947, total=   0.9s\n",
      "[CV] max_depth=20, max_features=auto, n_estimators=200 ...............\n",
      "[CV]  max_depth=20, max_features=auto, n_estimators=200, score=0.956, total=   0.8s\n",
      "[CV] max_depth=20, max_features=auto, n_estimators=200 ...............\n",
      "[CV]  max_depth=20, max_features=auto, n_estimators=200, score=0.939, total=   0.9s\n",
      "[CV] max_depth=20, max_features=auto, n_estimators=250 ...............\n",
      "[CV]  max_depth=20, max_features=auto, n_estimators=250, score=0.950, total=   1.1s\n",
      "[CV] max_depth=20, max_features=auto, n_estimators=250 ...............\n",
      "[CV]  max_depth=20, max_features=auto, n_estimators=250, score=0.949, total=   1.0s\n",
      "[CV] max_depth=20, max_features=auto, n_estimators=250 ...............\n",
      "[CV]  max_depth=20, max_features=auto, n_estimators=250, score=0.947, total=   1.2s\n",
      "[CV] max_depth=20, max_features=auto, n_estimators=250 ...............\n",
      "[CV]  max_depth=20, max_features=auto, n_estimators=250, score=0.956, total=   1.2s\n",
      "[CV] max_depth=20, max_features=auto, n_estimators=250 ...............\n",
      "[CV]  max_depth=20, max_features=auto, n_estimators=250, score=0.939, total=   1.1s\n",
      "[CV] max_depth=20, max_features=sqrt, n_estimators=50 ................\n",
      "[CV]  max_depth=20, max_features=sqrt, n_estimators=50, score=0.950, total=   0.2s\n",
      "[CV] max_depth=20, max_features=sqrt, n_estimators=50 ................\n",
      "[CV]  max_depth=20, max_features=sqrt, n_estimators=50, score=0.949, total=   0.2s\n",
      "[CV] max_depth=20, max_features=sqrt, n_estimators=50 ................\n",
      "[CV]  max_depth=20, max_features=sqrt, n_estimators=50, score=0.947, total=   0.2s\n",
      "[CV] max_depth=20, max_features=sqrt, n_estimators=50 ................\n",
      "[CV]  max_depth=20, max_features=sqrt, n_estimators=50, score=0.956, total=   0.2s\n",
      "[CV] max_depth=20, max_features=sqrt, n_estimators=50 ................\n",
      "[CV]  max_depth=20, max_features=sqrt, n_estimators=50, score=0.939, total=   0.3s\n",
      "[CV] max_depth=20, max_features=sqrt, n_estimators=100 ...............\n",
      "[CV]  max_depth=20, max_features=sqrt, n_estimators=100, score=0.950, total=   0.4s\n",
      "[CV] max_depth=20, max_features=sqrt, n_estimators=100 ...............\n",
      "[CV]  max_depth=20, max_features=sqrt, n_estimators=100, score=0.949, total=   0.4s\n",
      "[CV] max_depth=20, max_features=sqrt, n_estimators=100 ...............\n",
      "[CV]  max_depth=20, max_features=sqrt, n_estimators=100, score=0.947, total=   0.5s\n",
      "[CV] max_depth=20, max_features=sqrt, n_estimators=100 ...............\n"
     ]
    },
    {
     "name": "stdout",
     "output_type": "stream",
     "text": [
      "[CV]  max_depth=20, max_features=sqrt, n_estimators=100, score=0.956, total=   0.5s\n",
      "[CV] max_depth=20, max_features=sqrt, n_estimators=100 ...............\n",
      "[CV]  max_depth=20, max_features=sqrt, n_estimators=100, score=0.939, total=   0.4s\n",
      "[CV] max_depth=20, max_features=sqrt, n_estimators=150 ...............\n",
      "[CV]  max_depth=20, max_features=sqrt, n_estimators=150, score=0.950, total=   0.7s\n",
      "[CV] max_depth=20, max_features=sqrt, n_estimators=150 ...............\n",
      "[CV]  max_depth=20, max_features=sqrt, n_estimators=150, score=0.949, total=   0.6s\n",
      "[CV] max_depth=20, max_features=sqrt, n_estimators=150 ...............\n",
      "[CV]  max_depth=20, max_features=sqrt, n_estimators=150, score=0.947, total=   0.7s\n",
      "[CV] max_depth=20, max_features=sqrt, n_estimators=150 ...............\n",
      "[CV]  max_depth=20, max_features=sqrt, n_estimators=150, score=0.956, total=   0.6s\n",
      "[CV] max_depth=20, max_features=sqrt, n_estimators=150 ...............\n",
      "[CV]  max_depth=20, max_features=sqrt, n_estimators=150, score=0.939, total=   0.7s\n",
      "[CV] max_depth=20, max_features=sqrt, n_estimators=200 ...............\n",
      "[CV]  max_depth=20, max_features=sqrt, n_estimators=200, score=0.950, total=   0.9s\n",
      "[CV] max_depth=20, max_features=sqrt, n_estimators=200 ...............\n",
      "[CV]  max_depth=20, max_features=sqrt, n_estimators=200, score=0.949, total=   0.9s\n",
      "[CV] max_depth=20, max_features=sqrt, n_estimators=200 ...............\n",
      "[CV]  max_depth=20, max_features=sqrt, n_estimators=200, score=0.947, total=   0.9s\n",
      "[CV] max_depth=20, max_features=sqrt, n_estimators=200 ...............\n",
      "[CV]  max_depth=20, max_features=sqrt, n_estimators=200, score=0.956, total=   0.9s\n",
      "[CV] max_depth=20, max_features=sqrt, n_estimators=200 ...............\n",
      "[CV]  max_depth=20, max_features=sqrt, n_estimators=200, score=0.939, total=   0.9s\n",
      "[CV] max_depth=20, max_features=sqrt, n_estimators=250 ...............\n",
      "[CV]  max_depth=20, max_features=sqrt, n_estimators=250, score=0.950, total=   1.0s\n",
      "[CV] max_depth=20, max_features=sqrt, n_estimators=250 ...............\n",
      "[CV]  max_depth=20, max_features=sqrt, n_estimators=250, score=0.949, total=   1.1s\n",
      "[CV] max_depth=20, max_features=sqrt, n_estimators=250 ...............\n",
      "[CV]  max_depth=20, max_features=sqrt, n_estimators=250, score=0.947, total=   0.9s\n",
      "[CV] max_depth=20, max_features=sqrt, n_estimators=250 ...............\n",
      "[CV]  max_depth=20, max_features=sqrt, n_estimators=250, score=0.956, total=   0.9s\n",
      "[CV] max_depth=20, max_features=sqrt, n_estimators=250 ...............\n",
      "[CV]  max_depth=20, max_features=sqrt, n_estimators=250, score=0.939, total=   1.1s\n",
      "[CV] max_depth=20, max_features=log2, n_estimators=50 ................\n",
      "[CV]  max_depth=20, max_features=log2, n_estimators=50, score=0.950, total=   0.2s\n",
      "[CV] max_depth=20, max_features=log2, n_estimators=50 ................\n",
      "[CV]  max_depth=20, max_features=log2, n_estimators=50, score=0.949, total=   0.2s\n",
      "[CV] max_depth=20, max_features=log2, n_estimators=50 ................\n",
      "[CV]  max_depth=20, max_features=log2, n_estimators=50, score=0.947, total=   0.3s\n",
      "[CV] max_depth=20, max_features=log2, n_estimators=50 ................\n",
      "[CV]  max_depth=20, max_features=log2, n_estimators=50, score=0.956, total=   0.2s\n",
      "[CV] max_depth=20, max_features=log2, n_estimators=50 ................\n",
      "[CV]  max_depth=20, max_features=log2, n_estimators=50, score=0.939, total=   0.2s\n",
      "[CV] max_depth=20, max_features=log2, n_estimators=100 ...............\n",
      "[CV]  max_depth=20, max_features=log2, n_estimators=100, score=0.950, total=   0.4s\n",
      "[CV] max_depth=20, max_features=log2, n_estimators=100 ...............\n",
      "[CV]  max_depth=20, max_features=log2, n_estimators=100, score=0.949, total=   0.6s\n",
      "[CV] max_depth=20, max_features=log2, n_estimators=100 ...............\n",
      "[CV]  max_depth=20, max_features=log2, n_estimators=100, score=0.947, total=   0.4s\n",
      "[CV] max_depth=20, max_features=log2, n_estimators=100 ...............\n",
      "[CV]  max_depth=20, max_features=log2, n_estimators=100, score=0.956, total=   0.4s\n",
      "[CV] max_depth=20, max_features=log2, n_estimators=100 ...............\n",
      "[CV]  max_depth=20, max_features=log2, n_estimators=100, score=0.939, total=   0.4s\n",
      "[CV] max_depth=20, max_features=log2, n_estimators=150 ...............\n",
      "[CV]  max_depth=20, max_features=log2, n_estimators=150, score=0.950, total=   0.7s\n",
      "[CV] max_depth=20, max_features=log2, n_estimators=150 ...............\n",
      "[CV]  max_depth=20, max_features=log2, n_estimators=150, score=0.949, total=   0.6s\n",
      "[CV] max_depth=20, max_features=log2, n_estimators=150 ...............\n",
      "[CV]  max_depth=20, max_features=log2, n_estimators=150, score=0.947, total=   0.6s\n",
      "[CV] max_depth=20, max_features=log2, n_estimators=150 ...............\n",
      "[CV]  max_depth=20, max_features=log2, n_estimators=150, score=0.956, total=   0.6s\n",
      "[CV] max_depth=20, max_features=log2, n_estimators=150 ...............\n",
      "[CV]  max_depth=20, max_features=log2, n_estimators=150, score=0.939, total=   0.7s\n",
      "[CV] max_depth=20, max_features=log2, n_estimators=200 ...............\n",
      "[CV]  max_depth=20, max_features=log2, n_estimators=200, score=0.950, total=   0.8s\n",
      "[CV] max_depth=20, max_features=log2, n_estimators=200 ...............\n",
      "[CV]  max_depth=20, max_features=log2, n_estimators=200, score=0.949, total=   0.9s\n",
      "[CV] max_depth=20, max_features=log2, n_estimators=200 ...............\n",
      "[CV]  max_depth=20, max_features=log2, n_estimators=200, score=0.947, total=   1.0s\n",
      "[CV] max_depth=20, max_features=log2, n_estimators=200 ...............\n",
      "[CV]  max_depth=20, max_features=log2, n_estimators=200, score=0.956, total=   0.8s\n",
      "[CV] max_depth=20, max_features=log2, n_estimators=200 ...............\n",
      "[CV]  max_depth=20, max_features=log2, n_estimators=200, score=0.939, total=   0.9s\n",
      "[CV] max_depth=20, max_features=log2, n_estimators=250 ...............\n",
      "[CV]  max_depth=20, max_features=log2, n_estimators=250, score=0.950, total=   1.2s\n",
      "[CV] max_depth=20, max_features=log2, n_estimators=250 ...............\n",
      "[CV]  max_depth=20, max_features=log2, n_estimators=250, score=0.949, total=   1.0s\n",
      "[CV] max_depth=20, max_features=log2, n_estimators=250 ...............\n",
      "[CV]  max_depth=20, max_features=log2, n_estimators=250, score=0.947, total=   1.1s\n",
      "[CV] max_depth=20, max_features=log2, n_estimators=250 ...............\n",
      "[CV]  max_depth=20, max_features=log2, n_estimators=250, score=0.956, total=   1.1s\n",
      "[CV] max_depth=20, max_features=log2, n_estimators=250 ...............\n",
      "[CV]  max_depth=20, max_features=log2, n_estimators=250, score=0.939, total=   1.2s\n",
      "[CV] max_depth=30, max_features=auto, n_estimators=50 ................\n",
      "[CV]  max_depth=30, max_features=auto, n_estimators=50, score=0.950, total=   0.2s\n",
      "[CV] max_depth=30, max_features=auto, n_estimators=50 ................\n",
      "[CV]  max_depth=30, max_features=auto, n_estimators=50, score=0.949, total=   0.2s\n",
      "[CV] max_depth=30, max_features=auto, n_estimators=50 ................\n",
      "[CV]  max_depth=30, max_features=auto, n_estimators=50, score=0.947, total=   0.3s\n",
      "[CV] max_depth=30, max_features=auto, n_estimators=50 ................\n",
      "[CV]  max_depth=30, max_features=auto, n_estimators=50, score=0.956, total=   0.2s\n",
      "[CV] max_depth=30, max_features=auto, n_estimators=50 ................\n",
      "[CV]  max_depth=30, max_features=auto, n_estimators=50, score=0.939, total=   0.2s\n",
      "[CV] max_depth=30, max_features=auto, n_estimators=100 ...............\n",
      "[CV]  max_depth=30, max_features=auto, n_estimators=100, score=0.950, total=   0.5s\n",
      "[CV] max_depth=30, max_features=auto, n_estimators=100 ...............\n",
      "[CV]  max_depth=30, max_features=auto, n_estimators=100, score=0.949, total=   0.5s\n",
      "[CV] max_depth=30, max_features=auto, n_estimators=100 ...............\n",
      "[CV]  max_depth=30, max_features=auto, n_estimators=100, score=0.947, total=   0.6s\n",
      "[CV] max_depth=30, max_features=auto, n_estimators=100 ...............\n",
      "[CV]  max_depth=30, max_features=auto, n_estimators=100, score=0.956, total=   0.5s\n",
      "[CV] max_depth=30, max_features=auto, n_estimators=100 ...............\n",
      "[CV]  max_depth=30, max_features=auto, n_estimators=100, score=0.939, total=   0.4s\n",
      "[CV] max_depth=30, max_features=auto, n_estimators=150 ...............\n",
      "[CV]  max_depth=30, max_features=auto, n_estimators=150, score=0.950, total=   0.7s\n",
      "[CV] max_depth=30, max_features=auto, n_estimators=150 ...............\n"
     ]
    },
    {
     "name": "stdout",
     "output_type": "stream",
     "text": [
      "[CV]  max_depth=30, max_features=auto, n_estimators=150, score=0.949, total=   0.6s\n",
      "[CV] max_depth=30, max_features=auto, n_estimators=150 ...............\n",
      "[CV]  max_depth=30, max_features=auto, n_estimators=150, score=0.947, total=   0.7s\n",
      "[CV] max_depth=30, max_features=auto, n_estimators=150 ...............\n",
      "[CV]  max_depth=30, max_features=auto, n_estimators=150, score=0.956, total=   0.6s\n",
      "[CV] max_depth=30, max_features=auto, n_estimators=150 ...............\n",
      "[CV]  max_depth=30, max_features=auto, n_estimators=150, score=0.939, total=   0.7s\n",
      "[CV] max_depth=30, max_features=auto, n_estimators=200 ...............\n",
      "[CV]  max_depth=30, max_features=auto, n_estimators=200, score=0.950, total=   0.8s\n",
      "[CV] max_depth=30, max_features=auto, n_estimators=200 ...............\n",
      "[CV]  max_depth=30, max_features=auto, n_estimators=200, score=0.949, total=   0.8s\n",
      "[CV] max_depth=30, max_features=auto, n_estimators=200 ...............\n",
      "[CV]  max_depth=30, max_features=auto, n_estimators=200, score=0.947, total=   0.8s\n",
      "[CV] max_depth=30, max_features=auto, n_estimators=200 ...............\n",
      "[CV]  max_depth=30, max_features=auto, n_estimators=200, score=0.956, total=   0.9s\n",
      "[CV] max_depth=30, max_features=auto, n_estimators=200 ...............\n",
      "[CV]  max_depth=30, max_features=auto, n_estimators=200, score=0.939, total=   0.8s\n",
      "[CV] max_depth=30, max_features=auto, n_estimators=250 ...............\n",
      "[CV]  max_depth=30, max_features=auto, n_estimators=250, score=0.950, total=   1.0s\n",
      "[CV] max_depth=30, max_features=auto, n_estimators=250 ...............\n",
      "[CV]  max_depth=30, max_features=auto, n_estimators=250, score=0.949, total=   1.1s\n",
      "[CV] max_depth=30, max_features=auto, n_estimators=250 ...............\n",
      "[CV]  max_depth=30, max_features=auto, n_estimators=250, score=0.947, total=   1.3s\n",
      "[CV] max_depth=30, max_features=auto, n_estimators=250 ...............\n",
      "[CV]  max_depth=30, max_features=auto, n_estimators=250, score=0.956, total=   1.1s\n",
      "[CV] max_depth=30, max_features=auto, n_estimators=250 ...............\n",
      "[CV]  max_depth=30, max_features=auto, n_estimators=250, score=0.939, total=   1.0s\n",
      "[CV] max_depth=30, max_features=sqrt, n_estimators=50 ................\n",
      "[CV]  max_depth=30, max_features=sqrt, n_estimators=50, score=0.950, total=   0.3s\n",
      "[CV] max_depth=30, max_features=sqrt, n_estimators=50 ................\n",
      "[CV]  max_depth=30, max_features=sqrt, n_estimators=50, score=0.949, total=   0.2s\n",
      "[CV] max_depth=30, max_features=sqrt, n_estimators=50 ................\n",
      "[CV]  max_depth=30, max_features=sqrt, n_estimators=50, score=0.947, total=   0.2s\n",
      "[CV] max_depth=30, max_features=sqrt, n_estimators=50 ................\n",
      "[CV]  max_depth=30, max_features=sqrt, n_estimators=50, score=0.956, total=   0.2s\n",
      "[CV] max_depth=30, max_features=sqrt, n_estimators=50 ................\n",
      "[CV]  max_depth=30, max_features=sqrt, n_estimators=50, score=0.939, total=   0.2s\n",
      "[CV] max_depth=30, max_features=sqrt, n_estimators=100 ...............\n",
      "[CV]  max_depth=30, max_features=sqrt, n_estimators=100, score=0.950, total=   0.4s\n",
      "[CV] max_depth=30, max_features=sqrt, n_estimators=100 ...............\n",
      "[CV]  max_depth=30, max_features=sqrt, n_estimators=100, score=0.949, total=   0.4s\n",
      "[CV] max_depth=30, max_features=sqrt, n_estimators=100 ...............\n",
      "[CV]  max_depth=30, max_features=sqrt, n_estimators=100, score=0.947, total=   0.4s\n",
      "[CV] max_depth=30, max_features=sqrt, n_estimators=100 ...............\n",
      "[CV]  max_depth=30, max_features=sqrt, n_estimators=100, score=0.956, total=   0.4s\n",
      "[CV] max_depth=30, max_features=sqrt, n_estimators=100 ...............\n",
      "[CV]  max_depth=30, max_features=sqrt, n_estimators=100, score=0.939, total=   0.5s\n",
      "[CV] max_depth=30, max_features=sqrt, n_estimators=150 ...............\n",
      "[CV]  max_depth=30, max_features=sqrt, n_estimators=150, score=0.950, total=   0.7s\n",
      "[CV] max_depth=30, max_features=sqrt, n_estimators=150 ...............\n",
      "[CV]  max_depth=30, max_features=sqrt, n_estimators=150, score=0.949, total=   0.7s\n",
      "[CV] max_depth=30, max_features=sqrt, n_estimators=150 ...............\n",
      "[CV]  max_depth=30, max_features=sqrt, n_estimators=150, score=0.947, total=   0.7s\n",
      "[CV] max_depth=30, max_features=sqrt, n_estimators=150 ...............\n",
      "[CV]  max_depth=30, max_features=sqrt, n_estimators=150, score=0.956, total=   0.7s\n",
      "[CV] max_depth=30, max_features=sqrt, n_estimators=150 ...............\n",
      "[CV]  max_depth=30, max_features=sqrt, n_estimators=150, score=0.939, total=   0.6s\n",
      "[CV] max_depth=30, max_features=sqrt, n_estimators=200 ...............\n",
      "[CV]  max_depth=30, max_features=sqrt, n_estimators=200, score=0.950, total=   0.8s\n",
      "[CV] max_depth=30, max_features=sqrt, n_estimators=200 ...............\n",
      "[CV]  max_depth=30, max_features=sqrt, n_estimators=200, score=0.949, total=   0.8s\n",
      "[CV] max_depth=30, max_features=sqrt, n_estimators=200 ...............\n",
      "[CV]  max_depth=30, max_features=sqrt, n_estimators=200, score=0.947, total=   0.9s\n",
      "[CV] max_depth=30, max_features=sqrt, n_estimators=200 ...............\n",
      "[CV]  max_depth=30, max_features=sqrt, n_estimators=200, score=0.956, total=   0.8s\n",
      "[CV] max_depth=30, max_features=sqrt, n_estimators=200 ...............\n",
      "[CV]  max_depth=30, max_features=sqrt, n_estimators=200, score=0.939, total=   0.8s\n",
      "[CV] max_depth=30, max_features=sqrt, n_estimators=250 ...............\n",
      "[CV]  max_depth=30, max_features=sqrt, n_estimators=250, score=0.950, total=   1.1s\n",
      "[CV] max_depth=30, max_features=sqrt, n_estimators=250 ...............\n",
      "[CV]  max_depth=30, max_features=sqrt, n_estimators=250, score=0.949, total=   1.0s\n",
      "[CV] max_depth=30, max_features=sqrt, n_estimators=250 ...............\n",
      "[CV]  max_depth=30, max_features=sqrt, n_estimators=250, score=0.947, total=   1.1s\n",
      "[CV] max_depth=30, max_features=sqrt, n_estimators=250 ...............\n",
      "[CV]  max_depth=30, max_features=sqrt, n_estimators=250, score=0.956, total=   1.0s\n",
      "[CV] max_depth=30, max_features=sqrt, n_estimators=250 ...............\n",
      "[CV]  max_depth=30, max_features=sqrt, n_estimators=250, score=0.939, total=   1.0s\n",
      "[CV] max_depth=30, max_features=log2, n_estimators=50 ................\n",
      "[CV]  max_depth=30, max_features=log2, n_estimators=50, score=0.950, total=   0.2s\n",
      "[CV] max_depth=30, max_features=log2, n_estimators=50 ................\n",
      "[CV]  max_depth=30, max_features=log2, n_estimators=50, score=0.949, total=   0.2s\n",
      "[CV] max_depth=30, max_features=log2, n_estimators=50 ................\n",
      "[CV]  max_depth=30, max_features=log2, n_estimators=50, score=0.947, total=   0.2s\n",
      "[CV] max_depth=30, max_features=log2, n_estimators=50 ................\n",
      "[CV]  max_depth=30, max_features=log2, n_estimators=50, score=0.956, total=   0.2s\n",
      "[CV] max_depth=30, max_features=log2, n_estimators=50 ................\n",
      "[CV]  max_depth=30, max_features=log2, n_estimators=50, score=0.939, total=   0.3s\n",
      "[CV] max_depth=30, max_features=log2, n_estimators=100 ...............\n",
      "[CV]  max_depth=30, max_features=log2, n_estimators=100, score=0.950, total=   0.5s\n",
      "[CV] max_depth=30, max_features=log2, n_estimators=100 ...............\n",
      "[CV]  max_depth=30, max_features=log2, n_estimators=100, score=0.949, total=   0.4s\n",
      "[CV] max_depth=30, max_features=log2, n_estimators=100 ...............\n",
      "[CV]  max_depth=30, max_features=log2, n_estimators=100, score=0.947, total=   0.4s\n",
      "[CV] max_depth=30, max_features=log2, n_estimators=100 ...............\n",
      "[CV]  max_depth=30, max_features=log2, n_estimators=100, score=0.956, total=   0.4s\n",
      "[CV] max_depth=30, max_features=log2, n_estimators=100 ...............\n",
      "[CV]  max_depth=30, max_features=log2, n_estimators=100, score=0.939, total=   0.4s\n",
      "[CV] max_depth=30, max_features=log2, n_estimators=150 ...............\n",
      "[CV]  max_depth=30, max_features=log2, n_estimators=150, score=0.950, total=   0.5s\n",
      "[CV] max_depth=30, max_features=log2, n_estimators=150 ...............\n",
      "[CV]  max_depth=30, max_features=log2, n_estimators=150, score=0.949, total=   0.6s\n",
      "[CV] max_depth=30, max_features=log2, n_estimators=150 ...............\n",
      "[CV]  max_depth=30, max_features=log2, n_estimators=150, score=0.947, total=   0.6s\n",
      "[CV] max_depth=30, max_features=log2, n_estimators=150 ...............\n",
      "[CV]  max_depth=30, max_features=log2, n_estimators=150, score=0.956, total=   0.7s\n",
      "[CV] max_depth=30, max_features=log2, n_estimators=150 ...............\n"
     ]
    },
    {
     "name": "stdout",
     "output_type": "stream",
     "text": [
      "[CV]  max_depth=30, max_features=log2, n_estimators=150, score=0.939, total=   0.6s\n",
      "[CV] max_depth=30, max_features=log2, n_estimators=200 ...............\n",
      "[CV]  max_depth=30, max_features=log2, n_estimators=200, score=0.950, total=   0.9s\n",
      "[CV] max_depth=30, max_features=log2, n_estimators=200 ...............\n",
      "[CV]  max_depth=30, max_features=log2, n_estimators=200, score=0.949, total=   0.8s\n",
      "[CV] max_depth=30, max_features=log2, n_estimators=200 ...............\n",
      "[CV]  max_depth=30, max_features=log2, n_estimators=200, score=0.947, total=   0.8s\n",
      "[CV] max_depth=30, max_features=log2, n_estimators=200 ...............\n",
      "[CV]  max_depth=30, max_features=log2, n_estimators=200, score=0.956, total=   0.8s\n",
      "[CV] max_depth=30, max_features=log2, n_estimators=200 ...............\n",
      "[CV]  max_depth=30, max_features=log2, n_estimators=200, score=0.939, total=   0.9s\n",
      "[CV] max_depth=30, max_features=log2, n_estimators=250 ...............\n",
      "[CV]  max_depth=30, max_features=log2, n_estimators=250, score=0.950, total=   1.1s\n",
      "[CV] max_depth=30, max_features=log2, n_estimators=250 ...............\n",
      "[CV]  max_depth=30, max_features=log2, n_estimators=250, score=0.949, total=   1.1s\n",
      "[CV] max_depth=30, max_features=log2, n_estimators=250 ...............\n",
      "[CV]  max_depth=30, max_features=log2, n_estimators=250, score=0.947, total=   1.1s\n",
      "[CV] max_depth=30, max_features=log2, n_estimators=250 ...............\n",
      "[CV]  max_depth=30, max_features=log2, n_estimators=250, score=0.956, total=   1.1s\n",
      "[CV] max_depth=30, max_features=log2, n_estimators=250 ...............\n",
      "[CV]  max_depth=30, max_features=log2, n_estimators=250, score=0.939, total=   1.0s\n",
      "[CV] max_depth=40, max_features=auto, n_estimators=50 ................\n",
      "[CV]  max_depth=40, max_features=auto, n_estimators=50, score=0.950, total=   0.2s\n",
      "[CV] max_depth=40, max_features=auto, n_estimators=50 ................\n",
      "[CV]  max_depth=40, max_features=auto, n_estimators=50, score=0.949, total=   0.2s\n",
      "[CV] max_depth=40, max_features=auto, n_estimators=50 ................\n",
      "[CV]  max_depth=40, max_features=auto, n_estimators=50, score=0.947, total=   0.2s\n",
      "[CV] max_depth=40, max_features=auto, n_estimators=50 ................\n",
      "[CV]  max_depth=40, max_features=auto, n_estimators=50, score=0.956, total=   0.2s\n",
      "[CV] max_depth=40, max_features=auto, n_estimators=50 ................\n",
      "[CV]  max_depth=40, max_features=auto, n_estimators=50, score=0.939, total=   0.3s\n",
      "[CV] max_depth=40, max_features=auto, n_estimators=100 ...............\n",
      "[CV]  max_depth=40, max_features=auto, n_estimators=100, score=0.950, total=   0.5s\n",
      "[CV] max_depth=40, max_features=auto, n_estimators=100 ...............\n",
      "[CV]  max_depth=40, max_features=auto, n_estimators=100, score=0.949, total=   0.4s\n",
      "[CV] max_depth=40, max_features=auto, n_estimators=100 ...............\n",
      "[CV]  max_depth=40, max_features=auto, n_estimators=100, score=0.947, total=   0.4s\n",
      "[CV] max_depth=40, max_features=auto, n_estimators=100 ...............\n",
      "[CV]  max_depth=40, max_features=auto, n_estimators=100, score=0.956, total=   0.5s\n",
      "[CV] max_depth=40, max_features=auto, n_estimators=100 ...............\n",
      "[CV]  max_depth=40, max_features=auto, n_estimators=100, score=0.939, total=   0.4s\n",
      "[CV] max_depth=40, max_features=auto, n_estimators=150 ...............\n",
      "[CV]  max_depth=40, max_features=auto, n_estimators=150, score=0.950, total=   0.6s\n",
      "[CV] max_depth=40, max_features=auto, n_estimators=150 ...............\n",
      "[CV]  max_depth=40, max_features=auto, n_estimators=150, score=0.949, total=   0.8s\n",
      "[CV] max_depth=40, max_features=auto, n_estimators=150 ...............\n",
      "[CV]  max_depth=40, max_features=auto, n_estimators=150, score=0.947, total=   0.8s\n",
      "[CV] max_depth=40, max_features=auto, n_estimators=150 ...............\n",
      "[CV]  max_depth=40, max_features=auto, n_estimators=150, score=0.956, total=   0.7s\n",
      "[CV] max_depth=40, max_features=auto, n_estimators=150 ...............\n",
      "[CV]  max_depth=40, max_features=auto, n_estimators=150, score=0.939, total=   0.7s\n",
      "[CV] max_depth=40, max_features=auto, n_estimators=200 ...............\n",
      "[CV]  max_depth=40, max_features=auto, n_estimators=200, score=0.950, total=   0.8s\n",
      "[CV] max_depth=40, max_features=auto, n_estimators=200 ...............\n",
      "[CV]  max_depth=40, max_features=auto, n_estimators=200, score=0.949, total=   0.7s\n",
      "[CV] max_depth=40, max_features=auto, n_estimators=200 ...............\n",
      "[CV]  max_depth=40, max_features=auto, n_estimators=200, score=0.947, total=   0.6s\n",
      "[CV] max_depth=40, max_features=auto, n_estimators=200 ...............\n",
      "[CV]  max_depth=40, max_features=auto, n_estimators=200, score=0.956, total=   0.6s\n",
      "[CV] max_depth=40, max_features=auto, n_estimators=200 ...............\n",
      "[CV]  max_depth=40, max_features=auto, n_estimators=200, score=0.939, total=   0.7s\n",
      "[CV] max_depth=40, max_features=auto, n_estimators=250 ...............\n",
      "[CV]  max_depth=40, max_features=auto, n_estimators=250, score=0.950, total=   0.7s\n",
      "[CV] max_depth=40, max_features=auto, n_estimators=250 ...............\n",
      "[CV]  max_depth=40, max_features=auto, n_estimators=250, score=0.949, total=   0.8s\n",
      "[CV] max_depth=40, max_features=auto, n_estimators=250 ...............\n",
      "[CV]  max_depth=40, max_features=auto, n_estimators=250, score=0.947, total=   0.9s\n",
      "[CV] max_depth=40, max_features=auto, n_estimators=250 ...............\n",
      "[CV]  max_depth=40, max_features=auto, n_estimators=250, score=0.956, total=   0.7s\n",
      "[CV] max_depth=40, max_features=auto, n_estimators=250 ...............\n",
      "[CV]  max_depth=40, max_features=auto, n_estimators=250, score=0.939, total=   0.8s\n",
      "[CV] max_depth=40, max_features=sqrt, n_estimators=50 ................\n",
      "[CV]  max_depth=40, max_features=sqrt, n_estimators=50, score=0.950, total=   0.2s\n",
      "[CV] max_depth=40, max_features=sqrt, n_estimators=50 ................\n",
      "[CV]  max_depth=40, max_features=sqrt, n_estimators=50, score=0.949, total=   0.1s\n",
      "[CV] max_depth=40, max_features=sqrt, n_estimators=50 ................\n",
      "[CV]  max_depth=40, max_features=sqrt, n_estimators=50, score=0.947, total=   0.1s\n",
      "[CV] max_depth=40, max_features=sqrt, n_estimators=50 ................\n",
      "[CV]  max_depth=40, max_features=sqrt, n_estimators=50, score=0.956, total=   0.2s\n",
      "[CV] max_depth=40, max_features=sqrt, n_estimators=50 ................\n",
      "[CV]  max_depth=40, max_features=sqrt, n_estimators=50, score=0.939, total=   0.2s\n",
      "[CV] max_depth=40, max_features=sqrt, n_estimators=100 ...............\n",
      "[CV]  max_depth=40, max_features=sqrt, n_estimators=100, score=0.950, total=   0.3s\n",
      "[CV] max_depth=40, max_features=sqrt, n_estimators=100 ...............\n",
      "[CV]  max_depth=40, max_features=sqrt, n_estimators=100, score=0.949, total=   0.3s\n",
      "[CV] max_depth=40, max_features=sqrt, n_estimators=100 ...............\n",
      "[CV]  max_depth=40, max_features=sqrt, n_estimators=100, score=0.947, total=   0.3s\n",
      "[CV] max_depth=40, max_features=sqrt, n_estimators=100 ...............\n",
      "[CV]  max_depth=40, max_features=sqrt, n_estimators=100, score=0.956, total=   0.4s\n",
      "[CV] max_depth=40, max_features=sqrt, n_estimators=100 ...............\n",
      "[CV]  max_depth=40, max_features=sqrt, n_estimators=100, score=0.939, total=   0.3s\n",
      "[CV] max_depth=40, max_features=sqrt, n_estimators=150 ...............\n",
      "[CV]  max_depth=40, max_features=sqrt, n_estimators=150, score=0.950, total=   0.4s\n",
      "[CV] max_depth=40, max_features=sqrt, n_estimators=150 ...............\n",
      "[CV]  max_depth=40, max_features=sqrt, n_estimators=150, score=0.949, total=   0.5s\n",
      "[CV] max_depth=40, max_features=sqrt, n_estimators=150 ...............\n",
      "[CV]  max_depth=40, max_features=sqrt, n_estimators=150, score=0.947, total=   0.5s\n",
      "[CV] max_depth=40, max_features=sqrt, n_estimators=150 ...............\n",
      "[CV]  max_depth=40, max_features=sqrt, n_estimators=150, score=0.956, total=   0.6s\n",
      "[CV] max_depth=40, max_features=sqrt, n_estimators=150 ...............\n",
      "[CV]  max_depth=40, max_features=sqrt, n_estimators=150, score=0.939, total=   0.5s\n",
      "[CV] max_depth=40, max_features=sqrt, n_estimators=200 ...............\n",
      "[CV]  max_depth=40, max_features=sqrt, n_estimators=200, score=0.950, total=   0.7s\n",
      "[CV] max_depth=40, max_features=sqrt, n_estimators=200 ...............\n",
      "[CV]  max_depth=40, max_features=sqrt, n_estimators=200, score=0.949, total=   0.8s\n",
      "[CV] max_depth=40, max_features=sqrt, n_estimators=200 ...............\n"
     ]
    },
    {
     "name": "stdout",
     "output_type": "stream",
     "text": [
      "[CV]  max_depth=40, max_features=sqrt, n_estimators=200, score=0.947, total=   0.6s\n",
      "[CV] max_depth=40, max_features=sqrt, n_estimators=200 ...............\n",
      "[CV]  max_depth=40, max_features=sqrt, n_estimators=200, score=0.956, total=   0.7s\n",
      "[CV] max_depth=40, max_features=sqrt, n_estimators=200 ...............\n",
      "[CV]  max_depth=40, max_features=sqrt, n_estimators=200, score=0.939, total=   0.6s\n",
      "[CV] max_depth=40, max_features=sqrt, n_estimators=250 ...............\n",
      "[CV]  max_depth=40, max_features=sqrt, n_estimators=250, score=0.950, total=   0.8s\n",
      "[CV] max_depth=40, max_features=sqrt, n_estimators=250 ...............\n",
      "[CV]  max_depth=40, max_features=sqrt, n_estimators=250, score=0.949, total=   0.8s\n",
      "[CV] max_depth=40, max_features=sqrt, n_estimators=250 ...............\n",
      "[CV]  max_depth=40, max_features=sqrt, n_estimators=250, score=0.947, total=   0.9s\n",
      "[CV] max_depth=40, max_features=sqrt, n_estimators=250 ...............\n",
      "[CV]  max_depth=40, max_features=sqrt, n_estimators=250, score=0.956, total=   0.8s\n",
      "[CV] max_depth=40, max_features=sqrt, n_estimators=250 ...............\n",
      "[CV]  max_depth=40, max_features=sqrt, n_estimators=250, score=0.939, total=   0.8s\n",
      "[CV] max_depth=40, max_features=log2, n_estimators=50 ................\n",
      "[CV]  max_depth=40, max_features=log2, n_estimators=50, score=0.950, total=   0.2s\n",
      "[CV] max_depth=40, max_features=log2, n_estimators=50 ................\n",
      "[CV]  max_depth=40, max_features=log2, n_estimators=50, score=0.949, total=   0.2s\n",
      "[CV] max_depth=40, max_features=log2, n_estimators=50 ................\n",
      "[CV]  max_depth=40, max_features=log2, n_estimators=50, score=0.947, total=   0.1s\n",
      "[CV] max_depth=40, max_features=log2, n_estimators=50 ................\n",
      "[CV]  max_depth=40, max_features=log2, n_estimators=50, score=0.956, total=   0.2s\n",
      "[CV] max_depth=40, max_features=log2, n_estimators=50 ................\n",
      "[CV]  max_depth=40, max_features=log2, n_estimators=50, score=0.939, total=   0.2s\n",
      "[CV] max_depth=40, max_features=log2, n_estimators=100 ...............\n",
      "[CV]  max_depth=40, max_features=log2, n_estimators=100, score=0.950, total=   0.3s\n",
      "[CV] max_depth=40, max_features=log2, n_estimators=100 ...............\n",
      "[CV]  max_depth=40, max_features=log2, n_estimators=100, score=0.949, total=   0.3s\n",
      "[CV] max_depth=40, max_features=log2, n_estimators=100 ...............\n",
      "[CV]  max_depth=40, max_features=log2, n_estimators=100, score=0.947, total=   0.3s\n",
      "[CV] max_depth=40, max_features=log2, n_estimators=100 ...............\n",
      "[CV]  max_depth=40, max_features=log2, n_estimators=100, score=0.956, total=   0.4s\n",
      "[CV] max_depth=40, max_features=log2, n_estimators=100 ...............\n",
      "[CV]  max_depth=40, max_features=log2, n_estimators=100, score=0.939, total=   0.3s\n",
      "[CV] max_depth=40, max_features=log2, n_estimators=150 ...............\n",
      "[CV]  max_depth=40, max_features=log2, n_estimators=150, score=0.950, total=   0.5s\n",
      "[CV] max_depth=40, max_features=log2, n_estimators=150 ...............\n",
      "[CV]  max_depth=40, max_features=log2, n_estimators=150, score=0.949, total=   0.5s\n",
      "[CV] max_depth=40, max_features=log2, n_estimators=150 ...............\n",
      "[CV]  max_depth=40, max_features=log2, n_estimators=150, score=0.947, total=   0.5s\n",
      "[CV] max_depth=40, max_features=log2, n_estimators=150 ...............\n",
      "[CV]  max_depth=40, max_features=log2, n_estimators=150, score=0.956, total=   0.7s\n",
      "[CV] max_depth=40, max_features=log2, n_estimators=150 ...............\n",
      "[CV]  max_depth=40, max_features=log2, n_estimators=150, score=0.939, total=   0.7s\n",
      "[CV] max_depth=40, max_features=log2, n_estimators=200 ...............\n",
      "[CV]  max_depth=40, max_features=log2, n_estimators=200, score=0.950, total=   1.2s\n",
      "[CV] max_depth=40, max_features=log2, n_estimators=200 ...............\n",
      "[CV]  max_depth=40, max_features=log2, n_estimators=200, score=0.949, total=   0.9s\n",
      "[CV] max_depth=40, max_features=log2, n_estimators=200 ...............\n",
      "[CV]  max_depth=40, max_features=log2, n_estimators=200, score=0.947, total=   0.7s\n",
      "[CV] max_depth=40, max_features=log2, n_estimators=200 ...............\n",
      "[CV]  max_depth=40, max_features=log2, n_estimators=200, score=0.956, total=   0.7s\n",
      "[CV] max_depth=40, max_features=log2, n_estimators=200 ...............\n",
      "[CV]  max_depth=40, max_features=log2, n_estimators=200, score=0.939, total=   0.8s\n",
      "[CV] max_depth=40, max_features=log2, n_estimators=250 ...............\n",
      "[CV]  max_depth=40, max_features=log2, n_estimators=250, score=0.950, total=   0.7s\n",
      "[CV] max_depth=40, max_features=log2, n_estimators=250 ...............\n",
      "[CV]  max_depth=40, max_features=log2, n_estimators=250, score=0.949, total=   0.7s\n",
      "[CV] max_depth=40, max_features=log2, n_estimators=250 ...............\n",
      "[CV]  max_depth=40, max_features=log2, n_estimators=250, score=0.947, total=   0.8s\n",
      "[CV] max_depth=40, max_features=log2, n_estimators=250 ...............\n",
      "[CV]  max_depth=40, max_features=log2, n_estimators=250, score=0.956, total=   0.8s\n",
      "[CV] max_depth=40, max_features=log2, n_estimators=250 ...............\n",
      "[CV]  max_depth=40, max_features=log2, n_estimators=250, score=0.939, total=   0.8s\n"
     ]
    },
    {
     "name": "stderr",
     "output_type": "stream",
     "text": [
      "[Parallel(n_jobs=1)]: Done 300 out of 300 | elapsed:  3.1min finished\n"
     ]
    }
   ],
   "source": [
    "# Train the model with GridSearch\n",
    "grid_result = grid.fit(X_train_scaled, y_train)"
   ]
  },
  {
   "cell_type": "code",
   "execution_count": 80,
   "metadata": {},
   "outputs": [
    {
     "name": "stdout",
     "output_type": "stream",
     "text": [
      "{'max_depth': 10, 'max_features': 'auto', 'n_estimators': 50}\n",
      "0.9481369827215772\n"
     ]
    }
   ],
   "source": [
    "# Output the grid search best params and best score\n",
    "print(grid.best_params_)\n",
    "print(grid.best_score_)"
   ]
  },
  {
   "cell_type": "code",
   "execution_count": 81,
   "metadata": {},
   "outputs": [
    {
     "name": "stdout",
     "output_type": "stream",
     "text": [
      "Training Data Score: 0.9481372066305597\n",
      "Testing Data Score: 0.946824224519941\n"
     ]
    }
   ],
   "source": [
    "# Output the grid training and test scores\n",
    "print(f\"Training Data Score: {grid.score(X_train_scaled, y_train)}\")\n",
    "print(f\"Testing Data Score: {grid.score(X_test_scaled, y_test)}\")"
   ]
  },
  {
   "cell_type": "code",
   "execution_count": 82,
   "metadata": {},
   "outputs": [
    {
     "data": {
      "text/plain": [
       "RandomForestClassifier(max_depth=10, n_estimators=50)"
      ]
     },
     "execution_count": 82,
     "metadata": {},
     "output_type": "execute_result"
    }
   ],
   "source": [
    "# Found in article https://medium.com/datadriveninvestor/an-introduction-to-grid-search-ff57adcc0998\n",
    "best_params = grid_result.best_params_\n",
    "best_rf = RandomForestClassifier(max_depth=best_params[\"max_depth\"], max_features=best_params[\"max_features\"], n_estimators=best_params[\"n_estimators\"])\n",
    "best_rf.fit(X_train_scaled, y_train)"
   ]
  },
  {
   "cell_type": "code",
   "execution_count": 83,
   "metadata": {},
   "outputs": [
    {
     "name": "stdout",
     "output_type": "stream",
     "text": [
      "Best Random Forest Training Data Score: 0.9481372066305597\n",
      "Best Random Forest Testing Data Score: 0.946824224519941\n"
     ]
    }
   ],
   "source": [
    "# Output the training and test scores for the best params model\n",
    "print(f\"Best Random Forest Training Data Score: {best_rf.score(X_train_scaled, y_train)}\")\n",
    "print(f\"Best Random Forest Testing Data Score: {best_rf.score(X_test_scaled, y_test)}\")"
   ]
  },
  {
   "cell_type": "code",
   "execution_count": 84,
   "metadata": {},
   "outputs": [
    {
     "name": "stdout",
     "output_type": "stream",
     "text": [
      "              precision    recall  f1-score   support\n",
      "\n",
      "      edible       0.93      0.97      0.95      1040\n",
      "   poisonous       0.97      0.92      0.94       991\n",
      "\n",
      "    accuracy                           0.95      2031\n",
      "   macro avg       0.95      0.95      0.95      2031\n",
      "weighted avg       0.95      0.95      0.95      2031\n",
      "\n"
     ]
    }
   ],
   "source": [
    "# Make predictions and calculate classification report\n",
    "predictions = best_rf.predict(X_test_scaled)\n",
    "print(classification_report(y_test, predictions,\n",
    "                            target_names=target_names))"
   ]
  },
  {
   "cell_type": "code",
   "execution_count": 85,
   "metadata": {},
   "outputs": [
    {
     "data": {
      "image/png": "[encoded data removed]",
      "text/plain": [
       "<Figure size 432x288 with 1 Axes>"
      ]
     },
     "metadata": {
      "needs_background": "light"
     },
     "output_type": "display_data"
    }
   ],
   "source": [
    "# Create a preduction vs original chart\n",
    "x_ax = range(len(y_test[:30]))\n",
    "plt.scatter(x_ax, y_test[:30], s=5, color=\"blue\", label=\"original\")\n",
    "plt.plot(x_ax, predictions[:30], lw=0.8, color=\"red\", label=\"predicted\")\n",
    "plt.title('First 30 predictions')\n",
    "plt.legend()\n",
    "# Save the plot\n",
    "plt.tight_layout()\n",
    "plt.savefig(os.path.join(\"images\", \"random_forest_plot.png\"))\n",
    "# Show the figure\n",
    "plt.show()"
   ]
  },
  {
   "cell_type": "markdown",
   "metadata": {},
   "source": [
    "# Save the Model"
   ]
  },
  {
   "cell_type": "code",
   "execution_count": 86,
   "metadata": {},
   "outputs": [
    {
     "data": {
      "text/plain": [
       "['models\\\\model_random_forest.sav']"
      ]
     },
     "execution_count": 86,
     "metadata": {},
     "output_type": "execute_result"
    }
   ],
   "source": [
    "# Save the model\n",
    "filename = os.path.join(\"models\", \"model_random_forest.sav\")\n",
    "joblib.dump(best_rf, filename)"
   ]
  },
  {
   "cell_type": "markdown",
   "metadata": {},
   "source": [
    "# Save the Grid"
   ]
  },
  {
   "cell_type": "code",
   "execution_count": 87,
   "metadata": {},
   "outputs": [
    {
     "data": {
      "text/plain": [
       "['models\\\\grid_random_forest.sav']"
      ]
     },
     "execution_count": 87,
     "metadata": {},
     "output_type": "execute_result"
    }
   ],
   "source": [
    "# Save the grid\n",
    "filename = os.path.join(\"models\", \"grid_random_forest.sav\")\n",
    "joblib.dump(grid, filename)"
   ]
  },
  {
   "cell_type": "code",
   "execution_count": null,
   "metadata": {},
   "outputs": [],
   "source": []
  }
 ],
 "metadata": {
  "kernel_info": {
   "name": "dev"
  },
  "kernelspec": {
   "display_name": "Python [conda env:PythonData]",
   "language": "python",
   "name": "conda-env-PythonData-py"
  },
  "language_info": {
   "codemirror_mode": {
    "name": "ipython",
    "version": 3
   },
   "file_extension": ".py",
   "mimetype": "text/x-python",
   "name": "python",
   "nbconvert_exporter": "python",
   "pygments_lexer": "ipython3",
   "version": "3.6.10"
  },
  "nteract": {
   "version": "0.12.3"
  }
 },
 "nbformat": 4,
 "nbformat_minor": 2
}
