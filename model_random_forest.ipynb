{
 "cells": [
  {
   "cell_type": "code",
   "execution_count": 9,
   "metadata": {},
   "outputs": [
    {
     "name": "stdout",
     "output_type": "stream",
     "text": [
      "Requirement already up-to-date: sklearn in c:\\users\\bever\\anaconda3\\envs\\pythondata\\lib\\site-packages (0.0)\n",
      "Requirement already satisfied, skipping upgrade: scikit-learn in c:\\users\\bever\\anaconda3\\envs\\pythondata\\lib\\site-packages (from sklearn) (0.23.1)\n",
      "Requirement already satisfied, skipping upgrade: threadpoolctl>=2.0.0 in c:\\users\\bever\\anaconda3\\envs\\pythondata\\lib\\site-packages (from scikit-learn->sklearn) (2.1.0)\n",
      "Requirement already satisfied, skipping upgrade: numpy>=1.13.3 in c:\\users\\bever\\anaconda3\\envs\\pythondata\\lib\\site-packages (from scikit-learn->sklearn) (1.17.0)\n",
      "Requirement already satisfied, skipping upgrade: scipy>=0.19.1 in c:\\users\\bever\\anaconda3\\envs\\pythondata\\lib\\site-packages (from scikit-learn->sklearn) (1.5.0)\n",
      "Requirement already satisfied, skipping upgrade: joblib>=0.11 in c:\\users\\bever\\anaconda3\\envs\\pythondata\\lib\\site-packages (from scikit-learn->sklearn) (0.16.0)\n"
     ]
    }
   ],
   "source": [
    "# Update sklearn to prevent version mismatches\n",
    "!pip install sklearn --upgrade"
   ]
  },
  {
   "cell_type": "code",
   "execution_count": 10,
   "metadata": {},
   "outputs": [
    {
     "name": "stdout",
     "output_type": "stream",
     "text": [
      "Requirement already satisfied: joblib in c:\\users\\bever\\anaconda3\\envs\\pythondata\\lib\\site-packages (0.16.0)\n"
     ]
    }
   ],
   "source": [
    "# install joblib. This will be used to save your model. \n",
    "# Restart your kernel after installing \n",
    "!pip install joblib"
   ]
  },
  {
   "cell_type": "code",
   "execution_count": 12,
   "metadata": {},
   "outputs": [],
   "source": [
    "%matplotlib inline"
   ]
  },
  {
   "cell_type": "code",
   "execution_count": 13,
   "metadata": {},
   "outputs": [],
   "source": [
    "import os\n",
    "import joblib\n",
    "import pandas as pd\n",
    "from sklearn.model_selection import train_test_split\n",
    "from sklearn.preprocessing import MinMaxScaler\n",
    "from sklearn.ensemble import RandomForestClassifier\n",
    "from sklearn.model_selection import GridSearchCV\n",
    "from sklearn.metrics import classification_report\n",
    "import matplotlib.pyplot as plt"
   ]
  },
  {
   "cell_type": "markdown",
   "metadata": {},
   "source": [
    "# Read the CSV and Perform Basic Data Cleaning"
   ]
  },
  {
   "cell_type": "markdown",
   "metadata": {},
   "source": [
    "# Select your features (columns)"
   ]
  },
  {
   "cell_type": "code",
   "execution_count": 48,
   "metadata": {},
   "outputs": [],
   "source": [
    "df = pd.read_csv(os.path.join(\"data\", \"mushrooms.csv\"))\n",
    "# #\" Drop the null columns where all values are null\n",
    "# df = df.dropna(axis='columns', how='all')\n",
    "# # Drop the null rows\n",
    "# df = df.dropna()\n",
    "# df.head()"
   ]
  },
  {
   "cell_type": "code",
   "execution_count": 49,
   "metadata": {},
   "outputs": [
    {
     "data": {
      "text/plain": [
       "class                       0\n",
       "cap-shape                   0\n",
       "cap-surface                 0\n",
       "cap-color                   0\n",
       "bruises                     0\n",
       "odor                        0\n",
       "gill-attachment             0\n",
       "gill-spacing                0\n",
       "gill-size                   0\n",
       "gill-color                  0\n",
       "stalk-shape                 0\n",
       "stalk-root                  0\n",
       "stalk-surface-above-ring    0\n",
       "stalk-surface-below-ring    0\n",
       "stalk-color-above-ring      0\n",
       "stalk-color-below-ring      0\n",
       "veil-type                   0\n",
       "veil-color                  0\n",
       "ring-number                 0\n",
       "ring-type                   0\n",
       "spore-print-color           0\n",
       "population                  0\n",
       "habitat                     0\n",
       "dtype: int64"
      ]
     },
     "execution_count": 49,
     "metadata": {},
     "output_type": "execute_result"
    }
   ],
   "source": [
    "df.isnull().sum()"
   ]
  },
  {
   "cell_type": "code",
   "execution_count": 50,
   "metadata": {},
   "outputs": [
    {
     "data": {
      "text/html": [
       "<div>\n",
       "<style scoped>\n",
       "    .dataframe tbody tr th:only-of-type {\n",
       "        vertical-align: middle;\n",
       "    }\n",
       "\n",
       "    .dataframe tbody tr th {\n",
       "        vertical-align: top;\n",
       "    }\n",
       "\n",
       "    .dataframe thead th {\n",
       "        text-align: right;\n",
       "    }\n",
       "</style>\n",
       "<table border=\"1\" class=\"dataframe\">\n",
       "  <thead>\n",
       "    <tr style=\"text-align: right;\">\n",
       "      <th></th>\n",
       "      <th>class</th>\n",
       "      <th>cap-shape</th>\n",
       "      <th>cap-surface</th>\n",
       "      <th>cap-color</th>\n",
       "      <th>bruises</th>\n",
       "      <th>odor</th>\n",
       "      <th>gill-attachment</th>\n",
       "      <th>gill-spacing</th>\n",
       "      <th>gill-size</th>\n",
       "      <th>gill-color</th>\n",
       "      <th>...</th>\n",
       "      <th>stalk-surface-below-ring</th>\n",
       "      <th>stalk-color-above-ring</th>\n",
       "      <th>stalk-color-below-ring</th>\n",
       "      <th>veil-type</th>\n",
       "      <th>veil-color</th>\n",
       "      <th>ring-number</th>\n",
       "      <th>ring-type</th>\n",
       "      <th>spore-print-color</th>\n",
       "      <th>population</th>\n",
       "      <th>habitat</th>\n",
       "    </tr>\n",
       "  </thead>\n",
       "  <tbody>\n",
       "    <tr>\n",
       "      <th>0</th>\n",
       "      <td>p</td>\n",
       "      <td>x</td>\n",
       "      <td>s</td>\n",
       "      <td>n</td>\n",
       "      <td>t</td>\n",
       "      <td>p</td>\n",
       "      <td>f</td>\n",
       "      <td>c</td>\n",
       "      <td>n</td>\n",
       "      <td>k</td>\n",
       "      <td>...</td>\n",
       "      <td>s</td>\n",
       "      <td>w</td>\n",
       "      <td>w</td>\n",
       "      <td>p</td>\n",
       "      <td>w</td>\n",
       "      <td>o</td>\n",
       "      <td>p</td>\n",
       "      <td>k</td>\n",
       "      <td>s</td>\n",
       "      <td>u</td>\n",
       "    </tr>\n",
       "    <tr>\n",
       "      <th>1</th>\n",
       "      <td>e</td>\n",
       "      <td>x</td>\n",
       "      <td>s</td>\n",
       "      <td>y</td>\n",
       "      <td>t</td>\n",
       "      <td>a</td>\n",
       "      <td>f</td>\n",
       "      <td>c</td>\n",
       "      <td>b</td>\n",
       "      <td>k</td>\n",
       "      <td>...</td>\n",
       "      <td>s</td>\n",
       "      <td>w</td>\n",
       "      <td>w</td>\n",
       "      <td>p</td>\n",
       "      <td>w</td>\n",
       "      <td>o</td>\n",
       "      <td>p</td>\n",
       "      <td>n</td>\n",
       "      <td>n</td>\n",
       "      <td>g</td>\n",
       "    </tr>\n",
       "    <tr>\n",
       "      <th>2</th>\n",
       "      <td>e</td>\n",
       "      <td>b</td>\n",
       "      <td>s</td>\n",
       "      <td>w</td>\n",
       "      <td>t</td>\n",
       "      <td>l</td>\n",
       "      <td>f</td>\n",
       "      <td>c</td>\n",
       "      <td>b</td>\n",
       "      <td>n</td>\n",
       "      <td>...</td>\n",
       "      <td>s</td>\n",
       "      <td>w</td>\n",
       "      <td>w</td>\n",
       "      <td>p</td>\n",
       "      <td>w</td>\n",
       "      <td>o</td>\n",
       "      <td>p</td>\n",
       "      <td>n</td>\n",
       "      <td>n</td>\n",
       "      <td>m</td>\n",
       "    </tr>\n",
       "    <tr>\n",
       "      <th>3</th>\n",
       "      <td>p</td>\n",
       "      <td>x</td>\n",
       "      <td>y</td>\n",
       "      <td>w</td>\n",
       "      <td>t</td>\n",
       "      <td>p</td>\n",
       "      <td>f</td>\n",
       "      <td>c</td>\n",
       "      <td>n</td>\n",
       "      <td>n</td>\n",
       "      <td>...</td>\n",
       "      <td>s</td>\n",
       "      <td>w</td>\n",
       "      <td>w</td>\n",
       "      <td>p</td>\n",
       "      <td>w</td>\n",
       "      <td>o</td>\n",
       "      <td>p</td>\n",
       "      <td>k</td>\n",
       "      <td>s</td>\n",
       "      <td>u</td>\n",
       "    </tr>\n",
       "    <tr>\n",
       "      <th>4</th>\n",
       "      <td>e</td>\n",
       "      <td>x</td>\n",
       "      <td>s</td>\n",
       "      <td>g</td>\n",
       "      <td>f</td>\n",
       "      <td>n</td>\n",
       "      <td>f</td>\n",
       "      <td>w</td>\n",
       "      <td>b</td>\n",
       "      <td>k</td>\n",
       "      <td>...</td>\n",
       "      <td>s</td>\n",
       "      <td>w</td>\n",
       "      <td>w</td>\n",
       "      <td>p</td>\n",
       "      <td>w</td>\n",
       "      <td>o</td>\n",
       "      <td>e</td>\n",
       "      <td>n</td>\n",
       "      <td>a</td>\n",
       "      <td>g</td>\n",
       "    </tr>\n",
       "  </tbody>\n",
       "</table>\n",
       "<p>5 rows × 23 columns</p>\n",
       "</div>"
      ],
      "text/plain": [
       "  class cap-shape cap-surface cap-color bruises odor gill-attachment  \\\n",
       "0     p         x           s         n       t    p               f   \n",
       "1     e         x           s         y       t    a               f   \n",
       "2     e         b           s         w       t    l               f   \n",
       "3     p         x           y         w       t    p               f   \n",
       "4     e         x           s         g       f    n               f   \n",
       "\n",
       "  gill-spacing gill-size gill-color  ... stalk-surface-below-ring  \\\n",
       "0            c         n          k  ...                        s   \n",
       "1            c         b          k  ...                        s   \n",
       "2            c         b          n  ...                        s   \n",
       "3            c         n          n  ...                        s   \n",
       "4            w         b          k  ...                        s   \n",
       "\n",
       "  stalk-color-above-ring stalk-color-below-ring veil-type veil-color  \\\n",
       "0                      w                      w         p          w   \n",
       "1                      w                      w         p          w   \n",
       "2                      w                      w         p          w   \n",
       "3                      w                      w         p          w   \n",
       "4                      w                      w         p          w   \n",
       "\n",
       "  ring-number ring-type spore-print-color population habitat  \n",
       "0           o         p                 k          s       u  \n",
       "1           o         p                 n          n       g  \n",
       "2           o         p                 n          n       m  \n",
       "3           o         p                 k          s       u  \n",
       "4           o         e                 n          a       g  \n",
       "\n",
       "[5 rows x 23 columns]"
      ]
     },
     "execution_count": 50,
     "metadata": {},
     "output_type": "execute_result"
    }
   ],
   "source": [
    "df.head()"
   ]
  },
  {
   "cell_type": "markdown",
   "metadata": {},
   "source": [
    "Attribute Information:\n",
    "\n",
    "1. cap-shape: bell=b,conical=c,convex=x,flat=f, knobbed=k,sunken=s\n",
    "2. cap-surface: fibrous=f,grooves=g,scaly=y,smooth=s\n",
    "3. cap-color: brown=n,buff=b,cinnamon=c,gray=g,green=r, pink=p,purple=u,red=e,white=w,yellow=y\n",
    "4. bruises?: bruises=t,no=f\n",
    "5. odor: almond=a,anise=l,creosote=c,fishy=y,foul=f, musty=m,none=n,pungent=p,spicy=s\n",
    "6. gill-attachment: attached=a,descending=d,free=f,notched=n\n",
    "7. gill-spacing: close=c,crowded=w,distant=d\n",
    "8. gill-size: broad=b,narrow=n\n",
    "9. gill-color: black=k,brown=n,buff=b,chocolate=h,gray=g, green=r,orange=o,pink=p,purple=u,red=e, white=w,yellow=y\n",
    "10. stalk-shape: enlarging=e,tapering=t\n",
    "11. stalk-root: bulbous=b,club=c,cup=u,equal=e, rhizomorphs=z,rooted=r,missing=?\n",
    "12. stalk-surface-above-ring: fibrous=f,scaly=y,silky=k,smooth=s\n",
    "13. stalk-surface-below-ring: fibrous=f,scaly=y,silky=k,smooth=s\n",
    "14. stalk-color-above-ring: brown=n,buff=b,cinnamon=c,gray=g,orange=o, pink=p,red=e,white=w,yellow=y\n",
    "15. stalk-color-below-ring: brown=n,buff=b,cinnamon=c,gray=g,orange=o, pink=p,red=e,white=w,yellow=y\n",
    "16. veil-type: partial=p,universal=u\n",
    "17. veil-color: brown=n,orange=o,white=w,yellow=y\n",
    "18. ring-number: none=n,one=o,two=t\n",
    "19. ring-type: cobwebby=c,evanescent=e,flaring=f,large=l, none=n,pendant=p,sheathing=s,zone=z\n",
    "20. spore-print-color: black=k,brown=n,buff=b,chocolate=h,green=r, orange=o,purple=u,white=w,yellow=y\n",
    "21. population: abundant=a,clustered=c,numerous=n, scattered=s,several=v,solitary=y\n",
    "22. habitat: grasses=g,leaves=l,meadows=m,paths=p, urban=u,waste=w,woods=d"
   ]
  },
  {
   "cell_type": "markdown",
   "metadata": {},
   "source": [
    "# Target Data\n",
    "class:edible=e, poisonous=p"
   ]
  },
  {
   "cell_type": "markdown",
   "metadata": {},
   "source": [
    "# Mushroom Diagram\n",
    "![Mushroom Diagram](images/structure-mushroom.jpg)\n"
   ]
  },
  {
   "cell_type": "markdown",
   "metadata": {},
   "source": [
    "Cap: The cap is the top of the mushroom (and often looks sort of like a small umbrella). Mushroom caps can come in a variety of colors but most often are brown, white, or yellow.\n",
    "\n",
    "Gills, Pores, or Teeth: These structures appear under the mushroom's cap. They look similar to a fish's gills.\n",
    "\n",
    "Ring: The ring (sometimes called the annulus) is the remaining structure of the partial veil after the gills have pushed through.\n",
    "\n",
    "Stem or Stipe: The stem is the tall structure that holds the cap high above the ground.\n",
    "\n",
    "Volva: The volva is the protective veil that remains after the mushroom sprouted up from the ground. As the fungus grows, it breaks through the volva.\n",
    "\n",
    "Spores: Microscopic seeds acting as reproductive agents; they are usually released into the air and fall on a substrate to produce a new mushroom.\n",
    "\n",
    "(resource:http://www.visualdictionaryonline.com/plants-gardening/plants/mushroom/structure-mushroom.php)"
   ]
  },
  {
   "cell_type": "code",
   "execution_count": 51,
   "metadata": {},
   "outputs": [
    {
     "data": {
      "text/plain": [
       "0       poisonous\n",
       "1          edible\n",
       "2          edible\n",
       "3       poisonous\n",
       "4          edible\n",
       "          ...    \n",
       "8119       edible\n",
       "8120       edible\n",
       "8121       edible\n",
       "8122    poisonous\n",
       "8123       edible\n",
       "Name: class, Length: 8124, dtype: object"
      ]
     },
     "execution_count": 51,
     "metadata": {},
     "output_type": "execute_result"
    }
   ],
   "source": [
    "# class:edible=e, poisonous=p\n",
    "df['class'] = df['class'].replace(['e','p'],['edible','poisonous'])\n",
    "df['class']"
   ]
  },
  {
   "cell_type": "code",
   "execution_count": 52,
   "metadata": {},
   "outputs": [
    {
     "data": {
      "text/plain": [
       "0        convex\n",
       "1        convex\n",
       "2          bell\n",
       "3        convex\n",
       "4        convex\n",
       "         ...   \n",
       "8119    knobbed\n",
       "8120     convex\n",
       "8121       flat\n",
       "8122    knobbed\n",
       "8123     convex\n",
       "Name: cap-shape, Length: 8124, dtype: object"
      ]
     },
     "execution_count": 52,
     "metadata": {},
     "output_type": "execute_result"
    }
   ],
   "source": [
    "# cap-shape: bell=b,conical=c,convex=x,flat=f, knobbed=k,sunken=s\n",
    "df['cap-shape'] = df['cap-shape'].replace(['b','c','x','f','k','s'],['bell','conical','convex','flat', 'knobbed', 'sunken' ])\n",
    "df['cap-shape']"
   ]
  },
  {
   "cell_type": "markdown",
   "metadata": {},
   "source": [
    "# Mushroom cap shape\n",
    "![Mushroom cap shape](images/mushroom-cap-shapes.jpg)\n",
    "\n",
    "\n",
    "(resource:https://midwestmycology.org/mushroom-cap-shapes/)"
   ]
  },
  {
   "cell_type": "code",
   "execution_count": 53,
   "metadata": {},
   "outputs": [
    {
     "data": {
      "text/plain": [
       "0       smooth\n",
       "1       smooth\n",
       "2       smooth\n",
       "3        scaly\n",
       "4       smooth\n",
       "         ...  \n",
       "8119    smooth\n",
       "8120    smooth\n",
       "8121    smooth\n",
       "8122     scaly\n",
       "8123    smooth\n",
       "Name: cap-surface, Length: 8124, dtype: object"
      ]
     },
     "execution_count": 53,
     "metadata": {},
     "output_type": "execute_result"
    }
   ],
   "source": [
    "# cap-surface: fibrous=f,grooves=g,scaly=y,smooth=s\n",
    "df['cap-surface'] = df['cap-surface'].replace(['f','g','y','s'],['fibrous','grooves','scaly','smooth'])\n",
    "df['cap-surface']"
   ]
  },
  {
   "cell_type": "markdown",
   "metadata": {},
   "source": [
    "\n",
    "# Mushroom cap surface\n",
    "![Mushroom cap surface](images/mushroom-cap-surface.jpg)\n",
    "\n",
    "\n",
    "(resource:https://datascienceplus.com/mushrooms-classification-part-1/)\n"
   ]
  },
  {
   "cell_type": "code",
   "execution_count": 54,
   "metadata": {},
   "outputs": [
    {
     "data": {
      "text/plain": [
       "0        brown\n",
       "1       yellow\n",
       "2        white\n",
       "3        white\n",
       "4         gray\n",
       "         ...  \n",
       "8119     brown\n",
       "8120     brown\n",
       "8121     brown\n",
       "8122     brown\n",
       "8123     brown\n",
       "Name: cap-color, Length: 8124, dtype: object"
      ]
     },
     "execution_count": 54,
     "metadata": {},
     "output_type": "execute_result"
    }
   ],
   "source": [
    "# cap-color: brown=n,buff=b,cinnamon=c,gray=g,green=r, pink=p,purple=u,red=e,white=w,yellow=y\n",
    "df['cap-color'] = df['cap-color'].replace(['n','b','c','g','r','p','u','e','w','y'],['brown','buff','cinnamon','gray','green', 'pink','purple','red','white','yellow'])\n",
    "df['cap-color']"
   ]
  },
  {
   "cell_type": "code",
   "execution_count": 55,
   "metadata": {},
   "outputs": [
    {
     "data": {
      "text/plain": [
       "0       bruises\n",
       "1       bruises\n",
       "2       bruises\n",
       "3       bruises\n",
       "4            no\n",
       "         ...   \n",
       "8119         no\n",
       "8120         no\n",
       "8121         no\n",
       "8122         no\n",
       "8123         no\n",
       "Name: bruises, Length: 8124, dtype: object"
      ]
     },
     "execution_count": 55,
     "metadata": {},
     "output_type": "execute_result"
    }
   ],
   "source": [
    "# bruises: bruises=t,no=f\n",
    "df['bruises'] = df['bruises'].replace(['t','f'],['bruises','no'])\n",
    "df['bruises']"
   ]
  },
  {
   "cell_type": "code",
   "execution_count": 56,
   "metadata": {},
   "outputs": [
    {
     "data": {
      "text/plain": [
       "0       pungent\n",
       "1        almond\n",
       "2         anise\n",
       "3       pungent\n",
       "4          none\n",
       "         ...   \n",
       "8119       none\n",
       "8120       none\n",
       "8121       none\n",
       "8122      fishy\n",
       "8123       none\n",
       "Name: odor, Length: 8124, dtype: object"
      ]
     },
     "execution_count": 56,
     "metadata": {},
     "output_type": "execute_result"
    }
   ],
   "source": [
    "# odor: almond=a,anise=l,creosote=c,fishy=y,foul=f, musty=m,none=n,pungent=p,spicy=s\n",
    "df['odor'] = df['odor'].replace(['a','l','c','y','f','m','n','p','s'],['almond','anise','creosote','fishy','foul','musty','none','pungent','spicy'])\n",
    "df['odor']"
   ]
  },
  {
   "cell_type": "code",
   "execution_count": 57,
   "metadata": {},
   "outputs": [
    {
     "data": {
      "text/plain": [
       "0           free\n",
       "1           free\n",
       "2           free\n",
       "3           free\n",
       "4           free\n",
       "          ...   \n",
       "8119    attached\n",
       "8120    attached\n",
       "8121    attached\n",
       "8122        free\n",
       "8123    attached\n",
       "Name: gill-attachment, Length: 8124, dtype: object"
      ]
     },
     "execution_count": 57,
     "metadata": {},
     "output_type": "execute_result"
    }
   ],
   "source": [
    "# gill-attachment: attached=a,descending=d,free=f,notched=n\n",
    "df['gill-attachment'] = df['gill-attachment'].replace(['a','d','f','n'],['attached','descending','free','notched'])\n",
    "df['gill-attachment']"
   ]
  },
  {
   "cell_type": "code",
   "execution_count": 58,
   "metadata": {},
   "outputs": [
    {
     "data": {
      "text/plain": [
       "0         close\n",
       "1         close\n",
       "2         close\n",
       "3         close\n",
       "4       crowded\n",
       "         ...   \n",
       "8119      close\n",
       "8120      close\n",
       "8121      close\n",
       "8122      close\n",
       "8123      close\n",
       "Name: gill-spacing, Length: 8124, dtype: object"
      ]
     },
     "execution_count": 58,
     "metadata": {},
     "output_type": "execute_result"
    }
   ],
   "source": [
    "# gill-spacing: close=c,crowded=w,distant=d\n",
    "df['gill-spacing'] = df['gill-spacing'].replace(['c','w','d'],['close','crowded','distant'])\n",
    "df['gill-spacing']"
   ]
  },
  {
   "cell_type": "code",
   "execution_count": 59,
   "metadata": {},
   "outputs": [
    {
     "data": {
      "text/plain": [
       "0       narrow\n",
       "1        broad\n",
       "2        broad\n",
       "3       narrow\n",
       "4        broad\n",
       "         ...  \n",
       "8119     broad\n",
       "8120     broad\n",
       "8121     broad\n",
       "8122    narrow\n",
       "8123     broad\n",
       "Name: gill-size, Length: 8124, dtype: object"
      ]
     },
     "execution_count": 59,
     "metadata": {},
     "output_type": "execute_result"
    }
   ],
   "source": [
    "# gill-size: broad=b,narrow=n\n",
    "df['gill-size'] = df['gill-size'].replace(['b','n'],['broad','narrow'])\n",
    "df['gill-size']"
   ]
  },
  {
   "cell_type": "code",
   "execution_count": 60,
   "metadata": {},
   "outputs": [
    {
     "data": {
      "text/plain": [
       "0        black\n",
       "1        black\n",
       "2        brown\n",
       "3        brown\n",
       "4        black\n",
       "         ...  \n",
       "8119    yellow\n",
       "8120    yellow\n",
       "8121     brown\n",
       "8122      buff\n",
       "8123    yellow\n",
       "Name: gill-color, Length: 8124, dtype: object"
      ]
     },
     "execution_count": 60,
     "metadata": {},
     "output_type": "execute_result"
    }
   ],
   "source": [
    "# gill-color: black=k,brown=n,buff=b,chocolate=h,gray=g, green=r,orange=o,pink=p,purple=u,red=e, white=w,yellow=y\n",
    "df['gill-color'] = df['gill-color'].replace(['k','n','b','h','g','r','o','p','u','e','w','y'],['black','brown','buff','chocolate','gray', 'green','orange','pink','purple','red', 'white','yellow'])\n",
    "df['gill-color']"
   ]
  },
  {
   "cell_type": "code",
   "execution_count": 61,
   "metadata": {},
   "outputs": [
    {
     "data": {
      "text/plain": [
       "0       enlarging\n",
       "1       enlarging\n",
       "2       enlarging\n",
       "3       enlarging\n",
       "4        tapering\n",
       "          ...    \n",
       "8119    enlarging\n",
       "8120    enlarging\n",
       "8121    enlarging\n",
       "8122     tapering\n",
       "8123    enlarging\n",
       "Name: stalk-shape, Length: 8124, dtype: object"
      ]
     },
     "execution_count": 61,
     "metadata": {},
     "output_type": "execute_result"
    }
   ],
   "source": [
    "# stalk-shape: enlarging=e,tapering=t\n",
    "df['stalk-shape'] = df['stalk-shape'].replace(['e','t'],['enlarging','tapering'])\n",
    "df['stalk-shape']"
   ]
  },
  {
   "cell_type": "code",
   "execution_count": 62,
   "metadata": {},
   "outputs": [],
   "source": [
    "# stalk-root: bulbous=b,club=c,cup=u,equal=e, rhizomorphs=z,rooted=r,missing=?"
   ]
  },
  {
   "cell_type": "code",
   "execution_count": null,
   "metadata": {},
   "outputs": [],
   "source": [
    "# stalk-surface-above-ring: fibrous=f,scaly=y,silky=k,smooth=s"
   ]
  },
  {
   "cell_type": "code",
   "execution_count": null,
   "metadata": {},
   "outputs": [],
   "source": [
    "# stalk-surface-below-ring: fibrous=f,scaly=y,silky=k,smooth=s"
   ]
  },
  {
   "cell_type": "code",
   "execution_count": null,
   "metadata": {},
   "outputs": [],
   "source": [
    "# stalk-color-above-ring: brown=n,buff=b,cinnamon=c,gray=g,orange=o, pink=p,red=e,white=w,yellow=y"
   ]
  },
  {
   "cell_type": "code",
   "execution_count": null,
   "metadata": {},
   "outputs": [],
   "source": [
    "# stalk-color-below-ring: brown=n,buff=b,cinnamon=c,gray=g,orange=o, pink=p,red=e,white=w,yellow=y"
   ]
  },
  {
   "cell_type": "code",
   "execution_count": null,
   "metadata": {},
   "outputs": [],
   "source": [
    "# veil-type: partial=p,universal=u"
   ]
  },
  {
   "cell_type": "code",
   "execution_count": null,
   "metadata": {},
   "outputs": [],
   "source": [
    "# veil-color: brown=n,orange=o,white=w,yellow=y"
   ]
  },
  {
   "cell_type": "code",
   "execution_count": null,
   "metadata": {},
   "outputs": [],
   "source": [
    "# ring-number: none=n,one=o,two=t"
   ]
  },
  {
   "cell_type": "code",
   "execution_count": null,
   "metadata": {},
   "outputs": [],
   "source": [
    "# ring-type: cobwebby=c,evanescent=e,flaring=f,large=l, none=n,pendant=p,sheathing=s,zone=z"
   ]
  },
  {
   "cell_type": "code",
   "execution_count": null,
   "metadata": {},
   "outputs": [],
   "source": [
    "# spore-print-color: black=k,brown=n,buff=b,chocolate=h,green=r, orange=o,purple=u,white=w,yellow=y"
   ]
  },
  {
   "cell_type": "code",
   "execution_count": null,
   "metadata": {},
   "outputs": [],
   "source": [
    "# population: abundant=a,clustered=c,numerous=n, scattered=s,several=v,solitary=y"
   ]
  },
  {
   "cell_type": "code",
   "execution_count": null,
   "metadata": {},
   "outputs": [],
   "source": [
    "# habitat: grasses=g,leaves=l,meadows=m,paths=p, urban=u,waste=w,woods=d"
   ]
  },
  {
   "cell_type": "code",
   "execution_count": null,
   "metadata": {},
   "outputs": [],
   "source": [
    "\n",
    "\n",
    "\n",
    "\n",
    "\n"
   ]
  },
  {
   "cell_type": "code",
   "execution_count": 8,
   "metadata": {},
   "outputs": [
    {
     "data": {
      "text/html": [
       "<div>\n",
       "<style scoped>\n",
       "    .dataframe tbody tr th:only-of-type {\n",
       "        vertical-align: middle;\n",
       "    }\n",
       "\n",
       "    .dataframe tbody tr th {\n",
       "        vertical-align: top;\n",
       "    }\n",
       "\n",
       "    .dataframe thead th {\n",
       "        text-align: right;\n",
       "    }\n",
       "</style>\n",
       "<table border=\"1\" class=\"dataframe\">\n",
       "  <thead>\n",
       "    <tr style=\"text-align: right;\">\n",
       "      <th></th>\n",
       "      <th>class</th>\n",
       "      <th>cap-shape</th>\n",
       "      <th>cap-surface</th>\n",
       "      <th>cap-color</th>\n",
       "      <th>bruises</th>\n",
       "      <th>odor</th>\n",
       "      <th>gill-attachment</th>\n",
       "      <th>gill-spacing</th>\n",
       "      <th>gill-size</th>\n",
       "      <th>gill-color</th>\n",
       "      <th>...</th>\n",
       "      <th>stalk-surface-below-ring</th>\n",
       "      <th>stalk-color-above-ring</th>\n",
       "      <th>stalk-color-below-ring</th>\n",
       "      <th>veil-type</th>\n",
       "      <th>veil-color</th>\n",
       "      <th>ring-number</th>\n",
       "      <th>ring-type</th>\n",
       "      <th>spore-print-color</th>\n",
       "      <th>population</th>\n",
       "      <th>habitat</th>\n",
       "    </tr>\n",
       "  </thead>\n",
       "  <tbody>\n",
       "    <tr>\n",
       "      <th>count</th>\n",
       "      <td>8124</td>\n",
       "      <td>8124</td>\n",
       "      <td>8124</td>\n",
       "      <td>8124</td>\n",
       "      <td>8124</td>\n",
       "      <td>8124</td>\n",
       "      <td>8124</td>\n",
       "      <td>8124</td>\n",
       "      <td>8124</td>\n",
       "      <td>8124</td>\n",
       "      <td>...</td>\n",
       "      <td>8124</td>\n",
       "      <td>8124</td>\n",
       "      <td>8124</td>\n",
       "      <td>8124</td>\n",
       "      <td>8124</td>\n",
       "      <td>8124</td>\n",
       "      <td>8124</td>\n",
       "      <td>8124</td>\n",
       "      <td>8124</td>\n",
       "      <td>8124</td>\n",
       "    </tr>\n",
       "    <tr>\n",
       "      <th>unique</th>\n",
       "      <td>2</td>\n",
       "      <td>6</td>\n",
       "      <td>4</td>\n",
       "      <td>10</td>\n",
       "      <td>2</td>\n",
       "      <td>9</td>\n",
       "      <td>2</td>\n",
       "      <td>2</td>\n",
       "      <td>2</td>\n",
       "      <td>12</td>\n",
       "      <td>...</td>\n",
       "      <td>4</td>\n",
       "      <td>9</td>\n",
       "      <td>9</td>\n",
       "      <td>1</td>\n",
       "      <td>4</td>\n",
       "      <td>3</td>\n",
       "      <td>5</td>\n",
       "      <td>9</td>\n",
       "      <td>6</td>\n",
       "      <td>7</td>\n",
       "    </tr>\n",
       "    <tr>\n",
       "      <th>top</th>\n",
       "      <td>e</td>\n",
       "      <td>x</td>\n",
       "      <td>y</td>\n",
       "      <td>n</td>\n",
       "      <td>f</td>\n",
       "      <td>n</td>\n",
       "      <td>f</td>\n",
       "      <td>c</td>\n",
       "      <td>b</td>\n",
       "      <td>b</td>\n",
       "      <td>...</td>\n",
       "      <td>s</td>\n",
       "      <td>w</td>\n",
       "      <td>w</td>\n",
       "      <td>p</td>\n",
       "      <td>w</td>\n",
       "      <td>o</td>\n",
       "      <td>p</td>\n",
       "      <td>w</td>\n",
       "      <td>v</td>\n",
       "      <td>d</td>\n",
       "    </tr>\n",
       "    <tr>\n",
       "      <th>freq</th>\n",
       "      <td>4208</td>\n",
       "      <td>3656</td>\n",
       "      <td>3244</td>\n",
       "      <td>2284</td>\n",
       "      <td>4748</td>\n",
       "      <td>3528</td>\n",
       "      <td>7914</td>\n",
       "      <td>6812</td>\n",
       "      <td>5612</td>\n",
       "      <td>1728</td>\n",
       "      <td>...</td>\n",
       "      <td>4936</td>\n",
       "      <td>4464</td>\n",
       "      <td>4384</td>\n",
       "      <td>8124</td>\n",
       "      <td>7924</td>\n",
       "      <td>7488</td>\n",
       "      <td>3968</td>\n",
       "      <td>2388</td>\n",
       "      <td>4040</td>\n",
       "      <td>3148</td>\n",
       "    </tr>\n",
       "  </tbody>\n",
       "</table>\n",
       "<p>4 rows × 23 columns</p>\n",
       "</div>"
      ],
      "text/plain": [
       "       class cap-shape cap-surface cap-color bruises  odor gill-attachment  \\\n",
       "count   8124      8124        8124      8124    8124  8124            8124   \n",
       "unique     2         6           4        10       2     9               2   \n",
       "top        e         x           y         n       f     n               f   \n",
       "freq    4208      3656        3244      2284    4748  3528            7914   \n",
       "\n",
       "       gill-spacing gill-size gill-color  ... stalk-surface-below-ring  \\\n",
       "count          8124      8124       8124  ...                     8124   \n",
       "unique            2         2         12  ...                        4   \n",
       "top               c         b          b  ...                        s   \n",
       "freq           6812      5612       1728  ...                     4936   \n",
       "\n",
       "       stalk-color-above-ring stalk-color-below-ring veil-type veil-color  \\\n",
       "count                    8124                   8124      8124       8124   \n",
       "unique                      9                      9         1          4   \n",
       "top                         w                      w         p          w   \n",
       "freq                     4464                   4384      8124       7924   \n",
       "\n",
       "       ring-number ring-type spore-print-color population habitat  \n",
       "count         8124      8124              8124       8124    8124  \n",
       "unique           3         5                 9          6       7  \n",
       "top              o         p                 w          v       d  \n",
       "freq          7488      3968              2388       4040    3148  \n",
       "\n",
       "[4 rows x 23 columns]"
      ]
     },
     "execution_count": 8,
     "metadata": {},
     "output_type": "execute_result"
    }
   ],
   "source": [
    "df.describe()"
   ]
  },
  {
   "cell_type": "code",
   "execution_count": 20,
   "metadata": {},
   "outputs": [
    {
     "data": {
      "text/html": [
       "<div>\n",
       "<style scoped>\n",
       "    .dataframe tbody tr th:only-of-type {\n",
       "        vertical-align: middle;\n",
       "    }\n",
       "\n",
       "    .dataframe tbody tr th {\n",
       "        vertical-align: top;\n",
       "    }\n",
       "\n",
       "    .dataframe thead th {\n",
       "        text-align: right;\n",
       "    }\n",
       "</style>\n",
       "<table border=\"1\" class=\"dataframe\">\n",
       "  <thead>\n",
       "    <tr style=\"text-align: right;\">\n",
       "      <th></th>\n",
       "      <th>cap-shape</th>\n",
       "      <th>cap-surface</th>\n",
       "      <th>cap-color</th>\n",
       "      <th>bruises</th>\n",
       "      <th>odor</th>\n",
       "      <th>gill-attachment</th>\n",
       "      <th>gill-spacing</th>\n",
       "      <th>gill-size</th>\n",
       "      <th>gill-color</th>\n",
       "      <th>stalk-shape</th>\n",
       "      <th>...</th>\n",
       "      <th>stalk-surface-below-ring</th>\n",
       "      <th>stalk-color-above-ring</th>\n",
       "      <th>stalk-color-below-ring</th>\n",
       "      <th>veil-type</th>\n",
       "      <th>veil-color</th>\n",
       "      <th>ring-number</th>\n",
       "      <th>ring-type</th>\n",
       "      <th>spore-print-color</th>\n",
       "      <th>population</th>\n",
       "      <th>habitat</th>\n",
       "    </tr>\n",
       "  </thead>\n",
       "  <tbody>\n",
       "    <tr>\n",
       "      <th>0</th>\n",
       "      <td>x</td>\n",
       "      <td>s</td>\n",
       "      <td>n</td>\n",
       "      <td>t</td>\n",
       "      <td>p</td>\n",
       "      <td>f</td>\n",
       "      <td>c</td>\n",
       "      <td>n</td>\n",
       "      <td>k</td>\n",
       "      <td>e</td>\n",
       "      <td>...</td>\n",
       "      <td>s</td>\n",
       "      <td>w</td>\n",
       "      <td>w</td>\n",
       "      <td>p</td>\n",
       "      <td>w</td>\n",
       "      <td>o</td>\n",
       "      <td>p</td>\n",
       "      <td>k</td>\n",
       "      <td>s</td>\n",
       "      <td>u</td>\n",
       "    </tr>\n",
       "    <tr>\n",
       "      <th>1</th>\n",
       "      <td>x</td>\n",
       "      <td>s</td>\n",
       "      <td>y</td>\n",
       "      <td>t</td>\n",
       "      <td>a</td>\n",
       "      <td>f</td>\n",
       "      <td>c</td>\n",
       "      <td>b</td>\n",
       "      <td>k</td>\n",
       "      <td>e</td>\n",
       "      <td>...</td>\n",
       "      <td>s</td>\n",
       "      <td>w</td>\n",
       "      <td>w</td>\n",
       "      <td>p</td>\n",
       "      <td>w</td>\n",
       "      <td>o</td>\n",
       "      <td>p</td>\n",
       "      <td>n</td>\n",
       "      <td>n</td>\n",
       "      <td>g</td>\n",
       "    </tr>\n",
       "    <tr>\n",
       "      <th>2</th>\n",
       "      <td>b</td>\n",
       "      <td>s</td>\n",
       "      <td>w</td>\n",
       "      <td>t</td>\n",
       "      <td>l</td>\n",
       "      <td>f</td>\n",
       "      <td>c</td>\n",
       "      <td>b</td>\n",
       "      <td>n</td>\n",
       "      <td>e</td>\n",
       "      <td>...</td>\n",
       "      <td>s</td>\n",
       "      <td>w</td>\n",
       "      <td>w</td>\n",
       "      <td>p</td>\n",
       "      <td>w</td>\n",
       "      <td>o</td>\n",
       "      <td>p</td>\n",
       "      <td>n</td>\n",
       "      <td>n</td>\n",
       "      <td>m</td>\n",
       "    </tr>\n",
       "    <tr>\n",
       "      <th>3</th>\n",
       "      <td>x</td>\n",
       "      <td>y</td>\n",
       "      <td>w</td>\n",
       "      <td>t</td>\n",
       "      <td>p</td>\n",
       "      <td>f</td>\n",
       "      <td>c</td>\n",
       "      <td>n</td>\n",
       "      <td>n</td>\n",
       "      <td>e</td>\n",
       "      <td>...</td>\n",
       "      <td>s</td>\n",
       "      <td>w</td>\n",
       "      <td>w</td>\n",
       "      <td>p</td>\n",
       "      <td>w</td>\n",
       "      <td>o</td>\n",
       "      <td>p</td>\n",
       "      <td>k</td>\n",
       "      <td>s</td>\n",
       "      <td>u</td>\n",
       "    </tr>\n",
       "    <tr>\n",
       "      <th>4</th>\n",
       "      <td>x</td>\n",
       "      <td>s</td>\n",
       "      <td>g</td>\n",
       "      <td>f</td>\n",
       "      <td>n</td>\n",
       "      <td>f</td>\n",
       "      <td>w</td>\n",
       "      <td>b</td>\n",
       "      <td>k</td>\n",
       "      <td>t</td>\n",
       "      <td>...</td>\n",
       "      <td>s</td>\n",
       "      <td>w</td>\n",
       "      <td>w</td>\n",
       "      <td>p</td>\n",
       "      <td>w</td>\n",
       "      <td>o</td>\n",
       "      <td>e</td>\n",
       "      <td>n</td>\n",
       "      <td>a</td>\n",
       "      <td>g</td>\n",
       "    </tr>\n",
       "  </tbody>\n",
       "</table>\n",
       "<p>5 rows × 22 columns</p>\n",
       "</div>"
      ],
      "text/plain": [
       "  cap-shape cap-surface cap-color bruises odor gill-attachment gill-spacing  \\\n",
       "0         x           s         n       t    p               f            c   \n",
       "1         x           s         y       t    a               f            c   \n",
       "2         b           s         w       t    l               f            c   \n",
       "3         x           y         w       t    p               f            c   \n",
       "4         x           s         g       f    n               f            w   \n",
       "\n",
       "  gill-size gill-color stalk-shape  ... stalk-surface-below-ring  \\\n",
       "0         n          k           e  ...                        s   \n",
       "1         b          k           e  ...                        s   \n",
       "2         b          n           e  ...                        s   \n",
       "3         n          n           e  ...                        s   \n",
       "4         b          k           t  ...                        s   \n",
       "\n",
       "  stalk-color-above-ring stalk-color-below-ring veil-type veil-color  \\\n",
       "0                      w                      w         p          w   \n",
       "1                      w                      w         p          w   \n",
       "2                      w                      w         p          w   \n",
       "3                      w                      w         p          w   \n",
       "4                      w                      w         p          w   \n",
       "\n",
       "  ring-number ring-type spore-print-color population habitat  \n",
       "0           o         p                 k          s       u  \n",
       "1           o         p                 n          n       g  \n",
       "2           o         p                 n          n       m  \n",
       "3           o         p                 k          s       u  \n",
       "4           o         e                 n          a       g  \n",
       "\n",
       "[5 rows x 22 columns]"
      ]
     },
     "execution_count": 20,
     "metadata": {},
     "output_type": "execute_result"
    }
   ],
   "source": [
    "# Set features. This will also be used as your x values.\n",
    "# selected_features = df[['koi_fpflag_nt', 'koi_fpflag_ss', 'koi_fpflag_co', 'koi_fpflag_ec','koi_period', 'koi_period_err1', \n",
    "#                         'koi_period_err2', 'koi_time0bk','koi_time0bk_err1', 'koi_time0bk_err2', 'koi_impact', \n",
    "#                         'koi_impact_err1','koi_impact_err2', 'koi_duration', 'koi_duration_err1','koi_duration_err2', \n",
    "#                         'koi_depth', 'koi_depth_err1', 'koi_depth_err2','koi_prad', 'koi_prad_err1', 'koi_prad_err2']]\n",
    "\n",
    "# Let's see what happens using all features\n",
    "selected_features = df.drop(\"class\", axis=1)\n",
    "selected_features_names = selected_features.columns\n",
    "selected_features.head()"
   ]
  },
  {
   "cell_type": "code",
   "execution_count": 21,
   "metadata": {},
   "outputs": [
    {
     "data": {
      "text/plain": [
       "Index(['cap-shape', 'cap-surface', 'cap-color', 'bruises', 'odor',\n",
       "       'gill-attachment', 'gill-spacing', 'gill-size', 'gill-color',\n",
       "       'stalk-shape', 'stalk-root', 'stalk-surface-above-ring',\n",
       "       'stalk-surface-below-ring', 'stalk-color-above-ring',\n",
       "       'stalk-color-below-ring', 'veil-type', 'veil-color', 'ring-number',\n",
       "       'ring-type', 'spore-print-color', 'population', 'habitat'],\n",
       "      dtype='object')"
      ]
     },
     "execution_count": 21,
     "metadata": {},
     "output_type": "execute_result"
    }
   ],
   "source": [
    "selected_features_names"
   ]
  },
  {
   "cell_type": "markdown",
   "metadata": {},
   "source": [
    "# Create a Train Test Split\n",
    "\n",
    "Use `class` for the y (target) values"
   ]
  },
  {
   "cell_type": "code",
   "execution_count": 22,
   "metadata": {},
   "outputs": [],
   "source": [
    "target = df[\"class\"]\n",
    "target_names = [\"edible\", \"poisonous\"]\n",
    "data = selected_features\n",
    "data_names = selected_features_names"
   ]
  },
  {
   "cell_type": "code",
   "execution_count": 23,
   "metadata": {},
   "outputs": [],
   "source": [
    "X_train, X_test, y_train, y_test = train_test_split(data, target, random_state=42)"
   ]
  },
  {
   "cell_type": "code",
   "execution_count": 24,
   "metadata": {},
   "outputs": [
    {
     "data": {
      "text/html": [
       "<div>\n",
       "<style scoped>\n",
       "    .dataframe tbody tr th:only-of-type {\n",
       "        vertical-align: middle;\n",
       "    }\n",
       "\n",
       "    .dataframe tbody tr th {\n",
       "        vertical-align: top;\n",
       "    }\n",
       "\n",
       "    .dataframe thead th {\n",
       "        text-align: right;\n",
       "    }\n",
       "</style>\n",
       "<table border=\"1\" class=\"dataframe\">\n",
       "  <thead>\n",
       "    <tr style=\"text-align: right;\">\n",
       "      <th></th>\n",
       "      <th>cap-shape</th>\n",
       "      <th>cap-surface</th>\n",
       "      <th>cap-color</th>\n",
       "      <th>bruises</th>\n",
       "      <th>odor</th>\n",
       "      <th>gill-attachment</th>\n",
       "      <th>gill-spacing</th>\n",
       "      <th>gill-size</th>\n",
       "      <th>gill-color</th>\n",
       "      <th>stalk-shape</th>\n",
       "      <th>...</th>\n",
       "      <th>stalk-surface-below-ring</th>\n",
       "      <th>stalk-color-above-ring</th>\n",
       "      <th>stalk-color-below-ring</th>\n",
       "      <th>veil-type</th>\n",
       "      <th>veil-color</th>\n",
       "      <th>ring-number</th>\n",
       "      <th>ring-type</th>\n",
       "      <th>spore-print-color</th>\n",
       "      <th>population</th>\n",
       "      <th>habitat</th>\n",
       "    </tr>\n",
       "  </thead>\n",
       "  <tbody>\n",
       "    <tr>\n",
       "      <th>3887</th>\n",
       "      <td>x</td>\n",
       "      <td>s</td>\n",
       "      <td>w</td>\n",
       "      <td>f</td>\n",
       "      <td>c</td>\n",
       "      <td>f</td>\n",
       "      <td>c</td>\n",
       "      <td>n</td>\n",
       "      <td>n</td>\n",
       "      <td>e</td>\n",
       "      <td>...</td>\n",
       "      <td>s</td>\n",
       "      <td>w</td>\n",
       "      <td>w</td>\n",
       "      <td>p</td>\n",
       "      <td>w</td>\n",
       "      <td>o</td>\n",
       "      <td>p</td>\n",
       "      <td>n</td>\n",
       "      <td>s</td>\n",
       "      <td>d</td>\n",
       "    </tr>\n",
       "    <tr>\n",
       "      <th>4119</th>\n",
       "      <td>f</td>\n",
       "      <td>f</td>\n",
       "      <td>y</td>\n",
       "      <td>f</td>\n",
       "      <td>f</td>\n",
       "      <td>f</td>\n",
       "      <td>c</td>\n",
       "      <td>b</td>\n",
       "      <td>h</td>\n",
       "      <td>e</td>\n",
       "      <td>...</td>\n",
       "      <td>k</td>\n",
       "      <td>n</td>\n",
       "      <td>b</td>\n",
       "      <td>p</td>\n",
       "      <td>w</td>\n",
       "      <td>o</td>\n",
       "      <td>l</td>\n",
       "      <td>h</td>\n",
       "      <td>v</td>\n",
       "      <td>g</td>\n",
       "    </tr>\n",
       "    <tr>\n",
       "      <th>1600</th>\n",
       "      <td>x</td>\n",
       "      <td>y</td>\n",
       "      <td>g</td>\n",
       "      <td>t</td>\n",
       "      <td>n</td>\n",
       "      <td>f</td>\n",
       "      <td>c</td>\n",
       "      <td>b</td>\n",
       "      <td>n</td>\n",
       "      <td>t</td>\n",
       "      <td>...</td>\n",
       "      <td>s</td>\n",
       "      <td>p</td>\n",
       "      <td>g</td>\n",
       "      <td>p</td>\n",
       "      <td>w</td>\n",
       "      <td>o</td>\n",
       "      <td>p</td>\n",
       "      <td>k</td>\n",
       "      <td>y</td>\n",
       "      <td>d</td>\n",
       "    </tr>\n",
       "    <tr>\n",
       "      <th>4988</th>\n",
       "      <td>x</td>\n",
       "      <td>y</td>\n",
       "      <td>y</td>\n",
       "      <td>f</td>\n",
       "      <td>f</td>\n",
       "      <td>f</td>\n",
       "      <td>c</td>\n",
       "      <td>b</td>\n",
       "      <td>p</td>\n",
       "      <td>e</td>\n",
       "      <td>...</td>\n",
       "      <td>k</td>\n",
       "      <td>n</td>\n",
       "      <td>n</td>\n",
       "      <td>p</td>\n",
       "      <td>w</td>\n",
       "      <td>o</td>\n",
       "      <td>l</td>\n",
       "      <td>h</td>\n",
       "      <td>y</td>\n",
       "      <td>p</td>\n",
       "    </tr>\n",
       "    <tr>\n",
       "      <th>6757</th>\n",
       "      <td>f</td>\n",
       "      <td>y</td>\n",
       "      <td>n</td>\n",
       "      <td>f</td>\n",
       "      <td>f</td>\n",
       "      <td>f</td>\n",
       "      <td>c</td>\n",
       "      <td>n</td>\n",
       "      <td>b</td>\n",
       "      <td>t</td>\n",
       "      <td>...</td>\n",
       "      <td>k</td>\n",
       "      <td>w</td>\n",
       "      <td>p</td>\n",
       "      <td>p</td>\n",
       "      <td>w</td>\n",
       "      <td>o</td>\n",
       "      <td>e</td>\n",
       "      <td>w</td>\n",
       "      <td>v</td>\n",
       "      <td>d</td>\n",
       "    </tr>\n",
       "  </tbody>\n",
       "</table>\n",
       "<p>5 rows × 22 columns</p>\n",
       "</div>"
      ],
      "text/plain": [
       "     cap-shape cap-surface cap-color bruises odor gill-attachment  \\\n",
       "3887         x           s         w       f    c               f   \n",
       "4119         f           f         y       f    f               f   \n",
       "1600         x           y         g       t    n               f   \n",
       "4988         x           y         y       f    f               f   \n",
       "6757         f           y         n       f    f               f   \n",
       "\n",
       "     gill-spacing gill-size gill-color stalk-shape  ...  \\\n",
       "3887            c         n          n           e  ...   \n",
       "4119            c         b          h           e  ...   \n",
       "1600            c         b          n           t  ...   \n",
       "4988            c         b          p           e  ...   \n",
       "6757            c         n          b           t  ...   \n",
       "\n",
       "     stalk-surface-below-ring stalk-color-above-ring stalk-color-below-ring  \\\n",
       "3887                        s                      w                      w   \n",
       "4119                        k                      n                      b   \n",
       "1600                        s                      p                      g   \n",
       "4988                        k                      n                      n   \n",
       "6757                        k                      w                      p   \n",
       "\n",
       "     veil-type veil-color ring-number ring-type spore-print-color population  \\\n",
       "3887         p          w           o         p                 n          s   \n",
       "4119         p          w           o         l                 h          v   \n",
       "1600         p          w           o         p                 k          y   \n",
       "4988         p          w           o         l                 h          y   \n",
       "6757         p          w           o         e                 w          v   \n",
       "\n",
       "     habitat  \n",
       "3887       d  \n",
       "4119       g  \n",
       "1600       d  \n",
       "4988       p  \n",
       "6757       d  \n",
       "\n",
       "[5 rows x 22 columns]"
      ]
     },
     "execution_count": 24,
     "metadata": {},
     "output_type": "execute_result"
    }
   ],
   "source": [
    "X_train.head()"
   ]
  },
  {
   "cell_type": "code",
   "execution_count": 25,
   "metadata": {},
   "outputs": [
    {
     "data": {
      "text/html": [
       "<div>\n",
       "<style scoped>\n",
       "    .dataframe tbody tr th:only-of-type {\n",
       "        vertical-align: middle;\n",
       "    }\n",
       "\n",
       "    .dataframe tbody tr th {\n",
       "        vertical-align: top;\n",
       "    }\n",
       "\n",
       "    .dataframe thead th {\n",
       "        text-align: right;\n",
       "    }\n",
       "</style>\n",
       "<table border=\"1\" class=\"dataframe\">\n",
       "  <thead>\n",
       "    <tr style=\"text-align: right;\">\n",
       "      <th></th>\n",
       "      <th>cap-shape</th>\n",
       "      <th>cap-surface</th>\n",
       "      <th>cap-color</th>\n",
       "      <th>bruises</th>\n",
       "      <th>odor</th>\n",
       "      <th>gill-attachment</th>\n",
       "      <th>gill-spacing</th>\n",
       "      <th>gill-size</th>\n",
       "      <th>gill-color</th>\n",
       "      <th>stalk-shape</th>\n",
       "      <th>...</th>\n",
       "      <th>stalk-surface-below-ring</th>\n",
       "      <th>stalk-color-above-ring</th>\n",
       "      <th>stalk-color-below-ring</th>\n",
       "      <th>veil-type</th>\n",
       "      <th>veil-color</th>\n",
       "      <th>ring-number</th>\n",
       "      <th>ring-type</th>\n",
       "      <th>spore-print-color</th>\n",
       "      <th>population</th>\n",
       "      <th>habitat</th>\n",
       "    </tr>\n",
       "  </thead>\n",
       "  <tbody>\n",
       "    <tr>\n",
       "      <th>1971</th>\n",
       "      <td>f</td>\n",
       "      <td>f</td>\n",
       "      <td>n</td>\n",
       "      <td>f</td>\n",
       "      <td>n</td>\n",
       "      <td>f</td>\n",
       "      <td>w</td>\n",
       "      <td>b</td>\n",
       "      <td>h</td>\n",
       "      <td>t</td>\n",
       "      <td>...</td>\n",
       "      <td>f</td>\n",
       "      <td>w</td>\n",
       "      <td>w</td>\n",
       "      <td>p</td>\n",
       "      <td>w</td>\n",
       "      <td>o</td>\n",
       "      <td>e</td>\n",
       "      <td>n</td>\n",
       "      <td>s</td>\n",
       "      <td>g</td>\n",
       "    </tr>\n",
       "    <tr>\n",
       "      <th>6654</th>\n",
       "      <td>f</td>\n",
       "      <td>s</td>\n",
       "      <td>e</td>\n",
       "      <td>f</td>\n",
       "      <td>y</td>\n",
       "      <td>f</td>\n",
       "      <td>c</td>\n",
       "      <td>n</td>\n",
       "      <td>b</td>\n",
       "      <td>t</td>\n",
       "      <td>...</td>\n",
       "      <td>s</td>\n",
       "      <td>p</td>\n",
       "      <td>p</td>\n",
       "      <td>p</td>\n",
       "      <td>w</td>\n",
       "      <td>o</td>\n",
       "      <td>e</td>\n",
       "      <td>w</td>\n",
       "      <td>v</td>\n",
       "      <td>l</td>\n",
       "    </tr>\n",
       "    <tr>\n",
       "      <th>5606</th>\n",
       "      <td>x</td>\n",
       "      <td>y</td>\n",
       "      <td>n</td>\n",
       "      <td>f</td>\n",
       "      <td>f</td>\n",
       "      <td>f</td>\n",
       "      <td>c</td>\n",
       "      <td>n</td>\n",
       "      <td>b</td>\n",
       "      <td>t</td>\n",
       "      <td>...</td>\n",
       "      <td>s</td>\n",
       "      <td>w</td>\n",
       "      <td>p</td>\n",
       "      <td>p</td>\n",
       "      <td>w</td>\n",
       "      <td>o</td>\n",
       "      <td>e</td>\n",
       "      <td>w</td>\n",
       "      <td>v</td>\n",
       "      <td>l</td>\n",
       "    </tr>\n",
       "    <tr>\n",
       "      <th>3332</th>\n",
       "      <td>f</td>\n",
       "      <td>y</td>\n",
       "      <td>g</td>\n",
       "      <td>t</td>\n",
       "      <td>n</td>\n",
       "      <td>f</td>\n",
       "      <td>c</td>\n",
       "      <td>b</td>\n",
       "      <td>n</td>\n",
       "      <td>t</td>\n",
       "      <td>...</td>\n",
       "      <td>s</td>\n",
       "      <td>g</td>\n",
       "      <td>p</td>\n",
       "      <td>p</td>\n",
       "      <td>w</td>\n",
       "      <td>o</td>\n",
       "      <td>p</td>\n",
       "      <td>n</td>\n",
       "      <td>y</td>\n",
       "      <td>d</td>\n",
       "    </tr>\n",
       "    <tr>\n",
       "      <th>6988</th>\n",
       "      <td>f</td>\n",
       "      <td>s</td>\n",
       "      <td>e</td>\n",
       "      <td>f</td>\n",
       "      <td>s</td>\n",
       "      <td>f</td>\n",
       "      <td>c</td>\n",
       "      <td>n</td>\n",
       "      <td>b</td>\n",
       "      <td>t</td>\n",
       "      <td>...</td>\n",
       "      <td>s</td>\n",
       "      <td>p</td>\n",
       "      <td>p</td>\n",
       "      <td>p</td>\n",
       "      <td>w</td>\n",
       "      <td>o</td>\n",
       "      <td>e</td>\n",
       "      <td>w</td>\n",
       "      <td>v</td>\n",
       "      <td>l</td>\n",
       "    </tr>\n",
       "  </tbody>\n",
       "</table>\n",
       "<p>5 rows × 22 columns</p>\n",
       "</div>"
      ],
      "text/plain": [
       "     cap-shape cap-surface cap-color bruises odor gill-attachment  \\\n",
       "1971         f           f         n       f    n               f   \n",
       "6654         f           s         e       f    y               f   \n",
       "5606         x           y         n       f    f               f   \n",
       "3332         f           y         g       t    n               f   \n",
       "6988         f           s         e       f    s               f   \n",
       "\n",
       "     gill-spacing gill-size gill-color stalk-shape  ...  \\\n",
       "1971            w         b          h           t  ...   \n",
       "6654            c         n          b           t  ...   \n",
       "5606            c         n          b           t  ...   \n",
       "3332            c         b          n           t  ...   \n",
       "6988            c         n          b           t  ...   \n",
       "\n",
       "     stalk-surface-below-ring stalk-color-above-ring stalk-color-below-ring  \\\n",
       "1971                        f                      w                      w   \n",
       "6654                        s                      p                      p   \n",
       "5606                        s                      w                      p   \n",
       "3332                        s                      g                      p   \n",
       "6988                        s                      p                      p   \n",
       "\n",
       "     veil-type veil-color ring-number ring-type spore-print-color population  \\\n",
       "1971         p          w           o         e                 n          s   \n",
       "6654         p          w           o         e                 w          v   \n",
       "5606         p          w           o         e                 w          v   \n",
       "3332         p          w           o         p                 n          y   \n",
       "6988         p          w           o         e                 w          v   \n",
       "\n",
       "     habitat  \n",
       "1971       g  \n",
       "6654       l  \n",
       "5606       l  \n",
       "3332       d  \n",
       "6988       l  \n",
       "\n",
       "[5 rows x 22 columns]"
      ]
     },
     "execution_count": 25,
     "metadata": {},
     "output_type": "execute_result"
    }
   ],
   "source": [
    "X_test.head()"
   ]
  },
  {
   "cell_type": "code",
   "execution_count": 26,
   "metadata": {},
   "outputs": [
    {
     "data": {
      "text/plain": [
       "3887    p\n",
       "4119    p\n",
       "1600    e\n",
       "4988    p\n",
       "6757    p\n",
       "Name: class, dtype: object"
      ]
     },
     "execution_count": 26,
     "metadata": {},
     "output_type": "execute_result"
    }
   ],
   "source": [
    "y_train.head()"
   ]
  },
  {
   "cell_type": "code",
   "execution_count": 27,
   "metadata": {},
   "outputs": [
    {
     "data": {
      "text/plain": [
       "1971    e\n",
       "6654    p\n",
       "5606    p\n",
       "3332    e\n",
       "6988    p\n",
       "Name: class, dtype: object"
      ]
     },
     "execution_count": 27,
     "metadata": {},
     "output_type": "execute_result"
    }
   ],
   "source": [
    "y_test.head()"
   ]
  },
  {
   "cell_type": "markdown",
   "metadata": {},
   "source": [
    "# Pre-processing\n",
    "\n",
    "Scale the data using the MinMaxScaler and perform some feature selection"
   ]
  },
  {
   "cell_type": "code",
   "execution_count": 28,
   "metadata": {},
   "outputs": [
    {
     "ename": "ValueError",
     "evalue": "could not convert string to float: 'x'",
     "output_type": "error",
     "traceback": [
      "\u001b[1;31m---------------------------------------------------------------------------\u001b[0m",
      "\u001b[1;31mValueError\u001b[0m                                Traceback (most recent call last)",
      "\u001b[1;32m<ipython-input-28-12470f3bdb03>\u001b[0m in \u001b[0;36m<module>\u001b[1;34m\u001b[0m\n\u001b[0;32m      1\u001b[0m \u001b[1;31m# Scale your data\u001b[0m\u001b[1;33m\u001b[0m\u001b[1;33m\u001b[0m\u001b[1;33m\u001b[0m\u001b[0m\n\u001b[1;32m----> 2\u001b[1;33m \u001b[0mX_scaler\u001b[0m \u001b[1;33m=\u001b[0m \u001b[0mMinMaxScaler\u001b[0m\u001b[1;33m(\u001b[0m\u001b[1;33m)\u001b[0m\u001b[1;33m.\u001b[0m\u001b[0mfit\u001b[0m\u001b[1;33m(\u001b[0m\u001b[0mX_train\u001b[0m\u001b[1;33m)\u001b[0m\u001b[1;33m\u001b[0m\u001b[1;33m\u001b[0m\u001b[0m\n\u001b[0m\u001b[0;32m      3\u001b[0m \u001b[0mX_train_scaled\u001b[0m \u001b[1;33m=\u001b[0m \u001b[0mX_scaler\u001b[0m\u001b[1;33m.\u001b[0m\u001b[0mtransform\u001b[0m\u001b[1;33m(\u001b[0m\u001b[0mX_train\u001b[0m\u001b[1;33m)\u001b[0m\u001b[1;33m\u001b[0m\u001b[1;33m\u001b[0m\u001b[0m\n\u001b[0;32m      4\u001b[0m \u001b[0mX_test_scaled\u001b[0m \u001b[1;33m=\u001b[0m \u001b[0mX_scaler\u001b[0m\u001b[1;33m.\u001b[0m\u001b[0mtransform\u001b[0m\u001b[1;33m(\u001b[0m\u001b[0mX_test\u001b[0m\u001b[1;33m)\u001b[0m\u001b[1;33m\u001b[0m\u001b[1;33m\u001b[0m\u001b[0m\n",
      "\u001b[1;32m~\\Anaconda3\\envs\\PythonData\\lib\\site-packages\\sklearn\\preprocessing\\_data.py\u001b[0m in \u001b[0;36mfit\u001b[1;34m(self, X, y)\u001b[0m\n\u001b[0;32m    334\u001b[0m         \u001b[1;31m# Reset internal state before fitting\u001b[0m\u001b[1;33m\u001b[0m\u001b[1;33m\u001b[0m\u001b[1;33m\u001b[0m\u001b[0m\n\u001b[0;32m    335\u001b[0m         \u001b[0mself\u001b[0m\u001b[1;33m.\u001b[0m\u001b[0m_reset\u001b[0m\u001b[1;33m(\u001b[0m\u001b[1;33m)\u001b[0m\u001b[1;33m\u001b[0m\u001b[1;33m\u001b[0m\u001b[0m\n\u001b[1;32m--> 336\u001b[1;33m         \u001b[1;32mreturn\u001b[0m \u001b[0mself\u001b[0m\u001b[1;33m.\u001b[0m\u001b[0mpartial_fit\u001b[0m\u001b[1;33m(\u001b[0m\u001b[0mX\u001b[0m\u001b[1;33m,\u001b[0m \u001b[0my\u001b[0m\u001b[1;33m)\u001b[0m\u001b[1;33m\u001b[0m\u001b[1;33m\u001b[0m\u001b[0m\n\u001b[0m\u001b[0;32m    337\u001b[0m \u001b[1;33m\u001b[0m\u001b[0m\n\u001b[0;32m    338\u001b[0m     \u001b[1;32mdef\u001b[0m \u001b[0mpartial_fit\u001b[0m\u001b[1;33m(\u001b[0m\u001b[0mself\u001b[0m\u001b[1;33m,\u001b[0m \u001b[0mX\u001b[0m\u001b[1;33m,\u001b[0m \u001b[0my\u001b[0m\u001b[1;33m=\u001b[0m\u001b[1;32mNone\u001b[0m\u001b[1;33m)\u001b[0m\u001b[1;33m:\u001b[0m\u001b[1;33m\u001b[0m\u001b[1;33m\u001b[0m\u001b[0m\n",
      "\u001b[1;32m~\\Anaconda3\\envs\\PythonData\\lib\\site-packages\\sklearn\\preprocessing\\_data.py\u001b[0m in \u001b[0;36mpartial_fit\u001b[1;34m(self, X, y)\u001b[0m\n\u001b[0;32m    369\u001b[0m         X = self._validate_data(X, reset=first_pass,\n\u001b[0;32m    370\u001b[0m                                 \u001b[0mestimator\u001b[0m\u001b[1;33m=\u001b[0m\u001b[0mself\u001b[0m\u001b[1;33m,\u001b[0m \u001b[0mdtype\u001b[0m\u001b[1;33m=\u001b[0m\u001b[0mFLOAT_DTYPES\u001b[0m\u001b[1;33m,\u001b[0m\u001b[1;33m\u001b[0m\u001b[1;33m\u001b[0m\u001b[0m\n\u001b[1;32m--> 371\u001b[1;33m                                 force_all_finite=\"allow-nan\")\n\u001b[0m\u001b[0;32m    372\u001b[0m \u001b[1;33m\u001b[0m\u001b[0m\n\u001b[0;32m    373\u001b[0m         \u001b[0mdata_min\u001b[0m \u001b[1;33m=\u001b[0m \u001b[0mnp\u001b[0m\u001b[1;33m.\u001b[0m\u001b[0mnanmin\u001b[0m\u001b[1;33m(\u001b[0m\u001b[0mX\u001b[0m\u001b[1;33m,\u001b[0m \u001b[0maxis\u001b[0m\u001b[1;33m=\u001b[0m\u001b[1;36m0\u001b[0m\u001b[1;33m)\u001b[0m\u001b[1;33m\u001b[0m\u001b[1;33m\u001b[0m\u001b[0m\n",
      "\u001b[1;32m~\\Anaconda3\\envs\\PythonData\\lib\\site-packages\\sklearn\\base.py\u001b[0m in \u001b[0;36m_validate_data\u001b[1;34m(self, X, y, reset, validate_separately, **check_params)\u001b[0m\n\u001b[0;32m    418\u001b[0m                     \u001b[1;34mf\"requires y to be passed, but the target y is None.\"\u001b[0m\u001b[1;33m\u001b[0m\u001b[1;33m\u001b[0m\u001b[0m\n\u001b[0;32m    419\u001b[0m                 )\n\u001b[1;32m--> 420\u001b[1;33m             \u001b[0mX\u001b[0m \u001b[1;33m=\u001b[0m \u001b[0mcheck_array\u001b[0m\u001b[1;33m(\u001b[0m\u001b[0mX\u001b[0m\u001b[1;33m,\u001b[0m \u001b[1;33m**\u001b[0m\u001b[0mcheck_params\u001b[0m\u001b[1;33m)\u001b[0m\u001b[1;33m\u001b[0m\u001b[1;33m\u001b[0m\u001b[0m\n\u001b[0m\u001b[0;32m    421\u001b[0m             \u001b[0mout\u001b[0m \u001b[1;33m=\u001b[0m \u001b[0mX\u001b[0m\u001b[1;33m\u001b[0m\u001b[1;33m\u001b[0m\u001b[0m\n\u001b[0;32m    422\u001b[0m         \u001b[1;32melse\u001b[0m\u001b[1;33m:\u001b[0m\u001b[1;33m\u001b[0m\u001b[1;33m\u001b[0m\u001b[0m\n",
      "\u001b[1;32m~\\Anaconda3\\envs\\PythonData\\lib\\site-packages\\sklearn\\utils\\validation.py\u001b[0m in \u001b[0;36minner_f\u001b[1;34m(*args, **kwargs)\u001b[0m\n\u001b[0;32m     71\u001b[0m                           FutureWarning)\n\u001b[0;32m     72\u001b[0m         \u001b[0mkwargs\u001b[0m\u001b[1;33m.\u001b[0m\u001b[0mupdate\u001b[0m\u001b[1;33m(\u001b[0m\u001b[1;33m{\u001b[0m\u001b[0mk\u001b[0m\u001b[1;33m:\u001b[0m \u001b[0marg\u001b[0m \u001b[1;32mfor\u001b[0m \u001b[0mk\u001b[0m\u001b[1;33m,\u001b[0m \u001b[0marg\u001b[0m \u001b[1;32min\u001b[0m \u001b[0mzip\u001b[0m\u001b[1;33m(\u001b[0m\u001b[0msig\u001b[0m\u001b[1;33m.\u001b[0m\u001b[0mparameters\u001b[0m\u001b[1;33m,\u001b[0m \u001b[0margs\u001b[0m\u001b[1;33m)\u001b[0m\u001b[1;33m}\u001b[0m\u001b[1;33m)\u001b[0m\u001b[1;33m\u001b[0m\u001b[1;33m\u001b[0m\u001b[0m\n\u001b[1;32m---> 73\u001b[1;33m         \u001b[1;32mreturn\u001b[0m \u001b[0mf\u001b[0m\u001b[1;33m(\u001b[0m\u001b[1;33m**\u001b[0m\u001b[0mkwargs\u001b[0m\u001b[1;33m)\u001b[0m\u001b[1;33m\u001b[0m\u001b[1;33m\u001b[0m\u001b[0m\n\u001b[0m\u001b[0;32m     74\u001b[0m     \u001b[1;32mreturn\u001b[0m \u001b[0minner_f\u001b[0m\u001b[1;33m\u001b[0m\u001b[1;33m\u001b[0m\u001b[0m\n\u001b[0;32m     75\u001b[0m \u001b[1;33m\u001b[0m\u001b[0m\n",
      "\u001b[1;32m~\\Anaconda3\\envs\\PythonData\\lib\\site-packages\\sklearn\\utils\\validation.py\u001b[0m in \u001b[0;36mcheck_array\u001b[1;34m(array, accept_sparse, accept_large_sparse, dtype, order, copy, force_all_finite, ensure_2d, allow_nd, ensure_min_samples, ensure_min_features, estimator)\u001b[0m\n\u001b[0;32m    597\u001b[0m                     \u001b[0marray\u001b[0m \u001b[1;33m=\u001b[0m \u001b[0marray\u001b[0m\u001b[1;33m.\u001b[0m\u001b[0mastype\u001b[0m\u001b[1;33m(\u001b[0m\u001b[0mdtype\u001b[0m\u001b[1;33m,\u001b[0m \u001b[0mcasting\u001b[0m\u001b[1;33m=\u001b[0m\u001b[1;34m\"unsafe\"\u001b[0m\u001b[1;33m,\u001b[0m \u001b[0mcopy\u001b[0m\u001b[1;33m=\u001b[0m\u001b[1;32mFalse\u001b[0m\u001b[1;33m)\u001b[0m\u001b[1;33m\u001b[0m\u001b[1;33m\u001b[0m\u001b[0m\n\u001b[0;32m    598\u001b[0m                 \u001b[1;32melse\u001b[0m\u001b[1;33m:\u001b[0m\u001b[1;33m\u001b[0m\u001b[1;33m\u001b[0m\u001b[0m\n\u001b[1;32m--> 599\u001b[1;33m                     \u001b[0marray\u001b[0m \u001b[1;33m=\u001b[0m \u001b[0mnp\u001b[0m\u001b[1;33m.\u001b[0m\u001b[0masarray\u001b[0m\u001b[1;33m(\u001b[0m\u001b[0marray\u001b[0m\u001b[1;33m,\u001b[0m \u001b[0morder\u001b[0m\u001b[1;33m=\u001b[0m\u001b[0morder\u001b[0m\u001b[1;33m,\u001b[0m \u001b[0mdtype\u001b[0m\u001b[1;33m=\u001b[0m\u001b[0mdtype\u001b[0m\u001b[1;33m)\u001b[0m\u001b[1;33m\u001b[0m\u001b[1;33m\u001b[0m\u001b[0m\n\u001b[0m\u001b[0;32m    600\u001b[0m             \u001b[1;32mexcept\u001b[0m \u001b[0mComplexWarning\u001b[0m\u001b[1;33m:\u001b[0m\u001b[1;33m\u001b[0m\u001b[1;33m\u001b[0m\u001b[0m\n\u001b[0;32m    601\u001b[0m                 raise ValueError(\"Complex data not supported\\n\"\n",
      "\u001b[1;32m~\\Anaconda3\\envs\\PythonData\\lib\\site-packages\\numpy\\core\\_asarray.py\u001b[0m in \u001b[0;36masarray\u001b[1;34m(a, dtype, order)\u001b[0m\n\u001b[0;32m     83\u001b[0m \u001b[1;33m\u001b[0m\u001b[0m\n\u001b[0;32m     84\u001b[0m     \"\"\"\n\u001b[1;32m---> 85\u001b[1;33m     \u001b[1;32mreturn\u001b[0m \u001b[0marray\u001b[0m\u001b[1;33m(\u001b[0m\u001b[0ma\u001b[0m\u001b[1;33m,\u001b[0m \u001b[0mdtype\u001b[0m\u001b[1;33m,\u001b[0m \u001b[0mcopy\u001b[0m\u001b[1;33m=\u001b[0m\u001b[1;32mFalse\u001b[0m\u001b[1;33m,\u001b[0m \u001b[0morder\u001b[0m\u001b[1;33m=\u001b[0m\u001b[0morder\u001b[0m\u001b[1;33m)\u001b[0m\u001b[1;33m\u001b[0m\u001b[1;33m\u001b[0m\u001b[0m\n\u001b[0m\u001b[0;32m     86\u001b[0m \u001b[1;33m\u001b[0m\u001b[0m\n\u001b[0;32m     87\u001b[0m \u001b[1;33m\u001b[0m\u001b[0m\n",
      "\u001b[1;31mValueError\u001b[0m: could not convert string to float: 'x'"
     ]
    }
   ],
   "source": [
    "# Scale your data\n",
    "X_scaler = MinMaxScaler().fit(X_train)\n",
    "X_train_scaled = X_scaler.transform(X_train)\n",
    "X_test_scaled = X_scaler.transform(X_test)"
   ]
  },
  {
   "cell_type": "markdown",
   "metadata": {},
   "source": [
    "# Train the Model\n",
    "\n"
   ]
  },
  {
   "cell_type": "code",
   "execution_count": 13,
   "metadata": {},
   "outputs": [
    {
     "data": {
      "text/plain": [
       "0.8901601830663616"
      ]
     },
     "execution_count": 13,
     "metadata": {},
     "output_type": "execute_result"
    }
   ],
   "source": [
    "rf = RandomForestClassifier()\n",
    "rf = rf.fit(X_train_scaled, y_train)\n",
    "rf.score(X_test_scaled, y_test)"
   ]
  },
  {
   "cell_type": "code",
   "execution_count": 14,
   "metadata": {},
   "outputs": [
    {
     "name": "stdout",
     "output_type": "stream",
     "text": [
      "Training Data Score: 1.0\n",
      "Testing Data Score: 0.8901601830663616\n"
     ]
    }
   ],
   "source": [
    "# Output the training and testing score for the model\n",
    "print(f\"Training Data Score: {rf.score(X_train_scaled, y_train)}\")\n",
    "print(f\"Testing Data Score: {rf.score(X_test_scaled, y_test)}\")"
   ]
  },
  {
   "cell_type": "code",
   "execution_count": 15,
   "metadata": {},
   "outputs": [
    {
     "data": {
      "text/plain": [
       "RandomForestClassifier()"
      ]
     },
     "execution_count": 15,
     "metadata": {},
     "output_type": "execute_result"
    }
   ],
   "source": [
    "rf"
   ]
  },
  {
   "cell_type": "markdown",
   "metadata": {},
   "source": [
    "# Hyperparameter Tuning\n",
    "\n",
    "Use `GridSearchCV` to tune the model's parameters"
   ]
  },
  {
   "cell_type": "code",
   "execution_count": 16,
   "metadata": {},
   "outputs": [],
   "source": [
    "# Create the GridSearch estimator along with a parameter object containing the values to adjust\n",
    "\n",
    "param_grid = {'n_estimators': [50, 100, 150, 200, 250],\n",
    "              'max_depth': [10, 20, 30, 40],\n",
    "             'max_features': ['auto', 'sqrt','log2']}\n",
    "grid = GridSearchCV(rf, param_grid, verbose=3)"
   ]
  },
  {
   "cell_type": "code",
   "execution_count": 17,
   "metadata": {
    "scrolled": false
   },
   "outputs": [
    {
     "name": "stdout",
     "output_type": "stream",
     "text": [
      "Fitting 5 folds for each of 60 candidates, totalling 300 fits\n",
      "[CV] max_depth=10, max_features=auto, n_estimators=50 ................\n"
     ]
    },
    {
     "name": "stderr",
     "output_type": "stream",
     "text": [
      "[Parallel(n_jobs=1)]: Using backend SequentialBackend with 1 concurrent workers.\n"
     ]
    },
    {
     "name": "stdout",
     "output_type": "stream",
     "text": [
      "[CV]  max_depth=10, max_features=auto, n_estimators=50, score=0.898, total=   0.7s\n",
      "[CV] max_depth=10, max_features=auto, n_estimators=50 ................\n"
     ]
    },
    {
     "name": "stderr",
     "output_type": "stream",
     "text": [
      "[Parallel(n_jobs=1)]: Done   1 out of   1 | elapsed:    0.6s remaining:    0.0s\n"
     ]
    },
    {
     "name": "stdout",
     "output_type": "stream",
     "text": [
      "[CV]  max_depth=10, max_features=auto, n_estimators=50, score=0.900, total=   0.6s\n",
      "[CV] max_depth=10, max_features=auto, n_estimators=50 ................\n"
     ]
    },
    {
     "name": "stderr",
     "output_type": "stream",
     "text": [
      "[Parallel(n_jobs=1)]: Done   2 out of   2 | elapsed:    1.2s remaining:    0.0s\n"
     ]
    },
    {
     "name": "stdout",
     "output_type": "stream",
     "text": [
      "[CV]  max_depth=10, max_features=auto, n_estimators=50, score=0.897, total=   0.7s\n",
      "[CV] max_depth=10, max_features=auto, n_estimators=50 ................\n",
      "[CV]  max_depth=10, max_features=auto, n_estimators=50, score=0.870, total=   0.6s\n",
      "[CV] max_depth=10, max_features=auto, n_estimators=50 ................\n",
      "[CV]  max_depth=10, max_features=auto, n_estimators=50, score=0.884, total=   0.6s\n",
      "[CV] max_depth=10, max_features=auto, n_estimators=100 ...............\n",
      "[CV]  max_depth=10, max_features=auto, n_estimators=100, score=0.893, total=   1.2s\n",
      "[CV] max_depth=10, max_features=auto, n_estimators=100 ...............\n",
      "[CV]  max_depth=10, max_features=auto, n_estimators=100, score=0.890, total=   1.4s\n",
      "[CV] max_depth=10, max_features=auto, n_estimators=100 ...............\n",
      "[CV]  max_depth=10, max_features=auto, n_estimators=100, score=0.896, total=   1.3s\n",
      "[CV] max_depth=10, max_features=auto, n_estimators=100 ...............\n",
      "[CV]  max_depth=10, max_features=auto, n_estimators=100, score=0.875, total=   1.3s\n",
      "[CV] max_depth=10, max_features=auto, n_estimators=100 ...............\n",
      "[CV]  max_depth=10, max_features=auto, n_estimators=100, score=0.882, total=   1.3s\n",
      "[CV] max_depth=10, max_features=auto, n_estimators=150 ...............\n",
      "[CV]  max_depth=10, max_features=auto, n_estimators=150, score=0.897, total=   1.9s\n",
      "[CV] max_depth=10, max_features=auto, n_estimators=150 ...............\n",
      "[CV]  max_depth=10, max_features=auto, n_estimators=150, score=0.897, total=   1.9s\n",
      "[CV] max_depth=10, max_features=auto, n_estimators=150 ...............\n",
      "[CV]  max_depth=10, max_features=auto, n_estimators=150, score=0.895, total=   1.9s\n",
      "[CV] max_depth=10, max_features=auto, n_estimators=150 ...............\n",
      "[CV]  max_depth=10, max_features=auto, n_estimators=150, score=0.869, total=   1.8s\n",
      "[CV] max_depth=10, max_features=auto, n_estimators=150 ...............\n",
      "[CV]  max_depth=10, max_features=auto, n_estimators=150, score=0.885, total=   1.8s\n",
      "[CV] max_depth=10, max_features=auto, n_estimators=200 ...............\n",
      "[CV]  max_depth=10, max_features=auto, n_estimators=200, score=0.895, total=   2.7s\n",
      "[CV] max_depth=10, max_features=auto, n_estimators=200 ...............\n",
      "[CV]  max_depth=10, max_features=auto, n_estimators=200, score=0.899, total=   2.5s\n",
      "[CV] max_depth=10, max_features=auto, n_estimators=200 ...............\n",
      "[CV]  max_depth=10, max_features=auto, n_estimators=200, score=0.896, total=   2.6s\n",
      "[CV] max_depth=10, max_features=auto, n_estimators=200 ...............\n",
      "[CV]  max_depth=10, max_features=auto, n_estimators=200, score=0.869, total=   2.5s\n",
      "[CV] max_depth=10, max_features=auto, n_estimators=200 ...............\n",
      "[CV]  max_depth=10, max_features=auto, n_estimators=200, score=0.884, total=   2.5s\n",
      "[CV] max_depth=10, max_features=auto, n_estimators=250 ...............\n",
      "[CV]  max_depth=10, max_features=auto, n_estimators=250, score=0.896, total=   3.1s\n",
      "[CV] max_depth=10, max_features=auto, n_estimators=250 ...............\n",
      "[CV]  max_depth=10, max_features=auto, n_estimators=250, score=0.896, total=   3.1s\n",
      "[CV] max_depth=10, max_features=auto, n_estimators=250 ...............\n",
      "[CV]  max_depth=10, max_features=auto, n_estimators=250, score=0.896, total=   3.1s\n",
      "[CV] max_depth=10, max_features=auto, n_estimators=250 ...............\n",
      "[CV]  max_depth=10, max_features=auto, n_estimators=250, score=0.873, total=   3.1s\n",
      "[CV] max_depth=10, max_features=auto, n_estimators=250 ...............\n",
      "[CV]  max_depth=10, max_features=auto, n_estimators=250, score=0.883, total=   3.1s\n",
      "[CV] max_depth=10, max_features=sqrt, n_estimators=50 ................\n",
      "[CV]  max_depth=10, max_features=sqrt, n_estimators=50, score=0.899, total=   0.6s\n",
      "[CV] max_depth=10, max_features=sqrt, n_estimators=50 ................\n",
      "[CV]  max_depth=10, max_features=sqrt, n_estimators=50, score=0.889, total=   0.7s\n",
      "[CV] max_depth=10, max_features=sqrt, n_estimators=50 ................\n",
      "[CV]  max_depth=10, max_features=sqrt, n_estimators=50, score=0.890, total=   0.6s\n",
      "[CV] max_depth=10, max_features=sqrt, n_estimators=50 ................\n",
      "[CV]  max_depth=10, max_features=sqrt, n_estimators=50, score=0.870, total=   0.6s\n",
      "[CV] max_depth=10, max_features=sqrt, n_estimators=50 ................\n",
      "[CV]  max_depth=10, max_features=sqrt, n_estimators=50, score=0.885, total=   0.6s\n",
      "[CV] max_depth=10, max_features=sqrt, n_estimators=100 ...............\n",
      "[CV]  max_depth=10, max_features=sqrt, n_estimators=100, score=0.889, total=   1.2s\n",
      "[CV] max_depth=10, max_features=sqrt, n_estimators=100 ...............\n",
      "[CV]  max_depth=10, max_features=sqrt, n_estimators=100, score=0.898, total=   1.3s\n",
      "[CV] max_depth=10, max_features=sqrt, n_estimators=100 ...............\n",
      "[CV]  max_depth=10, max_features=sqrt, n_estimators=100, score=0.895, total=   1.3s\n",
      "[CV] max_depth=10, max_features=sqrt, n_estimators=100 ...............\n",
      "[CV]  max_depth=10, max_features=sqrt, n_estimators=100, score=0.875, total=   1.2s\n",
      "[CV] max_depth=10, max_features=sqrt, n_estimators=100 ...............\n",
      "[CV]  max_depth=10, max_features=sqrt, n_estimators=100, score=0.880, total=   1.2s\n",
      "[CV] max_depth=10, max_features=sqrt, n_estimators=150 ...............\n",
      "[CV]  max_depth=10, max_features=sqrt, n_estimators=150, score=0.894, total=   1.9s\n",
      "[CV] max_depth=10, max_features=sqrt, n_estimators=150 ...............\n",
      "[CV]  max_depth=10, max_features=sqrt, n_estimators=150, score=0.900, total=   1.9s\n",
      "[CV] max_depth=10, max_features=sqrt, n_estimators=150 ...............\n",
      "[CV]  max_depth=10, max_features=sqrt, n_estimators=150, score=0.893, total=   1.9s\n",
      "[CV] max_depth=10, max_features=sqrt, n_estimators=150 ...............\n",
      "[CV]  max_depth=10, max_features=sqrt, n_estimators=150, score=0.874, total=   1.8s\n",
      "[CV] max_depth=10, max_features=sqrt, n_estimators=150 ...............\n",
      "[CV]  max_depth=10, max_features=sqrt, n_estimators=150, score=0.882, total=   1.9s\n",
      "[CV] max_depth=10, max_features=sqrt, n_estimators=200 ...............\n",
      "[CV]  max_depth=10, max_features=sqrt, n_estimators=200, score=0.893, total=   2.6s\n",
      "[CV] max_depth=10, max_features=sqrt, n_estimators=200 ...............\n",
      "[CV]  max_depth=10, max_features=sqrt, n_estimators=200, score=0.897, total=   2.6s\n",
      "[CV] max_depth=10, max_features=sqrt, n_estimators=200 ...............\n",
      "[CV]  max_depth=10, max_features=sqrt, n_estimators=200, score=0.895, total=   2.4s\n",
      "[CV] max_depth=10, max_features=sqrt, n_estimators=200 ...............\n",
      "[CV]  max_depth=10, max_features=sqrt, n_estimators=200, score=0.869, total=   2.6s\n",
      "[CV] max_depth=10, max_features=sqrt, n_estimators=200 ...............\n",
      "[CV]  max_depth=10, max_features=sqrt, n_estimators=200, score=0.880, total=   2.6s\n",
      "[CV] max_depth=10, max_features=sqrt, n_estimators=250 ...............\n",
      "[CV]  max_depth=10, max_features=sqrt, n_estimators=250, score=0.892, total=   3.1s\n",
      "[CV] max_depth=10, max_features=sqrt, n_estimators=250 ...............\n",
      "[CV]  max_depth=10, max_features=sqrt, n_estimators=250, score=0.895, total=   3.1s\n",
      "[CV] max_depth=10, max_features=sqrt, n_estimators=250 ...............\n",
      "[CV]  max_depth=10, max_features=sqrt, n_estimators=250, score=0.897, total=   3.1s\n",
      "[CV] max_depth=10, max_features=sqrt, n_estimators=250 ...............\n",
      "[CV]  max_depth=10, max_features=sqrt, n_estimators=250, score=0.872, total=   3.1s\n",
      "[CV] max_depth=10, max_features=sqrt, n_estimators=250 ...............\n",
      "[CV]  max_depth=10, max_features=sqrt, n_estimators=250, score=0.885, total=   3.1s\n",
      "[CV] max_depth=10, max_features=log2, n_estimators=50 ................\n",
      "[CV]  max_depth=10, max_features=log2, n_estimators=50, score=0.895, total=   0.7s\n",
      "[CV] max_depth=10, max_features=log2, n_estimators=50 ................\n",
      "[CV]  max_depth=10, max_features=log2, n_estimators=50, score=0.902, total=   0.6s\n",
      "[CV] max_depth=10, max_features=log2, n_estimators=50 ................\n",
      "[CV]  max_depth=10, max_features=log2, n_estimators=50, score=0.897, total=   0.7s\n",
      "[CV] max_depth=10, max_features=log2, n_estimators=50 ................\n",
      "[CV]  max_depth=10, max_features=log2, n_estimators=50, score=0.871, total=   0.6s\n",
      "[CV] max_depth=10, max_features=log2, n_estimators=50 ................\n",
      "[CV]  max_depth=10, max_features=log2, n_estimators=50, score=0.883, total=   0.6s\n",
      "[CV] max_depth=10, max_features=log2, n_estimators=100 ...............\n"
     ]
    },
    {
     "name": "stdout",
     "output_type": "stream",
     "text": [
      "[CV]  max_depth=10, max_features=log2, n_estimators=100, score=0.894, total=   1.2s\n",
      "[CV] max_depth=10, max_features=log2, n_estimators=100 ...............\n",
      "[CV]  max_depth=10, max_features=log2, n_estimators=100, score=0.898, total=   1.2s\n",
      "[CV] max_depth=10, max_features=log2, n_estimators=100 ...............\n",
      "[CV]  max_depth=10, max_features=log2, n_estimators=100, score=0.896, total=   1.2s\n",
      "[CV] max_depth=10, max_features=log2, n_estimators=100 ...............\n",
      "[CV]  max_depth=10, max_features=log2, n_estimators=100, score=0.873, total=   1.3s\n",
      "[CV] max_depth=10, max_features=log2, n_estimators=100 ...............\n",
      "[CV]  max_depth=10, max_features=log2, n_estimators=100, score=0.888, total=   1.2s\n",
      "[CV] max_depth=10, max_features=log2, n_estimators=150 ...............\n",
      "[CV]  max_depth=10, max_features=log2, n_estimators=150, score=0.894, total=   1.9s\n",
      "[CV] max_depth=10, max_features=log2, n_estimators=150 ...............\n",
      "[CV]  max_depth=10, max_features=log2, n_estimators=150, score=0.897, total=   1.8s\n",
      "[CV] max_depth=10, max_features=log2, n_estimators=150 ...............\n",
      "[CV]  max_depth=10, max_features=log2, n_estimators=150, score=0.896, total=   1.9s\n",
      "[CV] max_depth=10, max_features=log2, n_estimators=150 ...............\n",
      "[CV]  max_depth=10, max_features=log2, n_estimators=150, score=0.874, total=   2.0s\n",
      "[CV] max_depth=10, max_features=log2, n_estimators=150 ...............\n",
      "[CV]  max_depth=10, max_features=log2, n_estimators=150, score=0.885, total=   1.9s\n",
      "[CV] max_depth=10, max_features=log2, n_estimators=200 ...............\n",
      "[CV]  max_depth=10, max_features=log2, n_estimators=200, score=0.891, total=   2.5s\n",
      "[CV] max_depth=10, max_features=log2, n_estimators=200 ...............\n",
      "[CV]  max_depth=10, max_features=log2, n_estimators=200, score=0.897, total=   2.5s\n",
      "[CV] max_depth=10, max_features=log2, n_estimators=200 ...............\n",
      "[CV]  max_depth=10, max_features=log2, n_estimators=200, score=0.894, total=   2.6s\n",
      "[CV] max_depth=10, max_features=log2, n_estimators=200 ...............\n",
      "[CV]  max_depth=10, max_features=log2, n_estimators=200, score=0.872, total=   2.6s\n",
      "[CV] max_depth=10, max_features=log2, n_estimators=200 ...............\n",
      "[CV]  max_depth=10, max_features=log2, n_estimators=200, score=0.885, total=   2.4s\n",
      "[CV] max_depth=10, max_features=log2, n_estimators=250 ...............\n",
      "[CV]  max_depth=10, max_features=log2, n_estimators=250, score=0.898, total=   3.2s\n",
      "[CV] max_depth=10, max_features=log2, n_estimators=250 ...............\n",
      "[CV]  max_depth=10, max_features=log2, n_estimators=250, score=0.898, total=   3.0s\n",
      "[CV] max_depth=10, max_features=log2, n_estimators=250 ...............\n",
      "[CV]  max_depth=10, max_features=log2, n_estimators=250, score=0.890, total=   3.1s\n",
      "[CV] max_depth=10, max_features=log2, n_estimators=250 ...............\n",
      "[CV]  max_depth=10, max_features=log2, n_estimators=250, score=0.871, total=   3.0s\n",
      "[CV] max_depth=10, max_features=log2, n_estimators=250 ...............\n",
      "[CV]  max_depth=10, max_features=log2, n_estimators=250, score=0.882, total=   3.0s\n",
      "[CV] max_depth=20, max_features=auto, n_estimators=50 ................\n",
      "[CV]  max_depth=20, max_features=auto, n_estimators=50, score=0.913, total=   0.7s\n",
      "[CV] max_depth=20, max_features=auto, n_estimators=50 ................\n",
      "[CV]  max_depth=20, max_features=auto, n_estimators=50, score=0.897, total=   0.8s\n",
      "[CV] max_depth=20, max_features=auto, n_estimators=50 ................\n",
      "[CV]  max_depth=20, max_features=auto, n_estimators=50, score=0.887, total=   0.8s\n",
      "[CV] max_depth=20, max_features=auto, n_estimators=50 ................\n",
      "[CV]  max_depth=20, max_features=auto, n_estimators=50, score=0.885, total=   0.8s\n",
      "[CV] max_depth=20, max_features=auto, n_estimators=50 ................\n",
      "[CV]  max_depth=20, max_features=auto, n_estimators=50, score=0.880, total=   0.7s\n",
      "[CV] max_depth=20, max_features=auto, n_estimators=100 ...............\n",
      "[CV]  max_depth=20, max_features=auto, n_estimators=100, score=0.909, total=   1.5s\n",
      "[CV] max_depth=20, max_features=auto, n_estimators=100 ...............\n",
      "[CV]  max_depth=20, max_features=auto, n_estimators=100, score=0.897, total=   1.5s\n",
      "[CV] max_depth=20, max_features=auto, n_estimators=100 ...............\n",
      "[CV]  max_depth=20, max_features=auto, n_estimators=100, score=0.891, total=   1.5s\n",
      "[CV] max_depth=20, max_features=auto, n_estimators=100 ...............\n",
      "[CV]  max_depth=20, max_features=auto, n_estimators=100, score=0.883, total=   1.3s\n",
      "[CV] max_depth=20, max_features=auto, n_estimators=100 ...............\n",
      "[CV]  max_depth=20, max_features=auto, n_estimators=100, score=0.886, total=   3.2s\n",
      "[CV] max_depth=20, max_features=auto, n_estimators=150 ...............\n",
      "[CV]  max_depth=20, max_features=auto, n_estimators=150, score=0.908, total=   2.3s\n",
      "[CV] max_depth=20, max_features=auto, n_estimators=150 ...............\n",
      "[CV]  max_depth=20, max_features=auto, n_estimators=150, score=0.898, total=   2.4s\n",
      "[CV] max_depth=20, max_features=auto, n_estimators=150 ...............\n",
      "[CV]  max_depth=20, max_features=auto, n_estimators=150, score=0.883, total=   2.2s\n",
      "[CV] max_depth=20, max_features=auto, n_estimators=150 ...............\n",
      "[CV]  max_depth=20, max_features=auto, n_estimators=150, score=0.884, total=   2.3s\n",
      "[CV] max_depth=20, max_features=auto, n_estimators=150 ...............\n",
      "[CV]  max_depth=20, max_features=auto, n_estimators=150, score=0.882, total=   2.3s\n",
      "[CV] max_depth=20, max_features=auto, n_estimators=200 ...............\n",
      "[CV]  max_depth=20, max_features=auto, n_estimators=200, score=0.906, total=   3.1s\n",
      "[CV] max_depth=20, max_features=auto, n_estimators=200 ...............\n",
      "[CV]  max_depth=20, max_features=auto, n_estimators=200, score=0.900, total=   2.9s\n",
      "[CV] max_depth=20, max_features=auto, n_estimators=200 ...............\n",
      "[CV]  max_depth=20, max_features=auto, n_estimators=200, score=0.891, total=   3.0s\n",
      "[CV] max_depth=20, max_features=auto, n_estimators=200 ...............\n",
      "[CV]  max_depth=20, max_features=auto, n_estimators=200, score=0.880, total=   3.0s\n",
      "[CV] max_depth=20, max_features=auto, n_estimators=200 ...............\n",
      "[CV]  max_depth=20, max_features=auto, n_estimators=200, score=0.881, total=   3.1s\n",
      "[CV] max_depth=20, max_features=auto, n_estimators=250 ...............\n",
      "[CV]  max_depth=20, max_features=auto, n_estimators=250, score=0.909, total=   3.8s\n",
      "[CV] max_depth=20, max_features=auto, n_estimators=250 ...............\n",
      "[CV]  max_depth=20, max_features=auto, n_estimators=250, score=0.894, total=   3.8s\n",
      "[CV] max_depth=20, max_features=auto, n_estimators=250 ...............\n",
      "[CV]  max_depth=20, max_features=auto, n_estimators=250, score=0.891, total=   3.8s\n",
      "[CV] max_depth=20, max_features=auto, n_estimators=250 ...............\n",
      "[CV]  max_depth=20, max_features=auto, n_estimators=250, score=0.887, total=   3.7s\n",
      "[CV] max_depth=20, max_features=auto, n_estimators=250 ...............\n",
      "[CV]  max_depth=20, max_features=auto, n_estimators=250, score=0.883, total=   3.8s\n",
      "[CV] max_depth=20, max_features=sqrt, n_estimators=50 ................\n",
      "[CV]  max_depth=20, max_features=sqrt, n_estimators=50, score=0.910, total=   0.8s\n",
      "[CV] max_depth=20, max_features=sqrt, n_estimators=50 ................\n",
      "[CV]  max_depth=20, max_features=sqrt, n_estimators=50, score=0.897, total=   0.8s\n",
      "[CV] max_depth=20, max_features=sqrt, n_estimators=50 ................\n",
      "[CV]  max_depth=20, max_features=sqrt, n_estimators=50, score=0.891, total=   0.7s\n",
      "[CV] max_depth=20, max_features=sqrt, n_estimators=50 ................\n",
      "[CV]  max_depth=20, max_features=sqrt, n_estimators=50, score=0.889, total=   0.8s\n",
      "[CV] max_depth=20, max_features=sqrt, n_estimators=50 ................\n",
      "[CV]  max_depth=20, max_features=sqrt, n_estimators=50, score=0.887, total=   0.8s\n",
      "[CV] max_depth=20, max_features=sqrt, n_estimators=100 ...............\n",
      "[CV]  max_depth=20, max_features=sqrt, n_estimators=100, score=0.907, total=   1.7s\n",
      "[CV] max_depth=20, max_features=sqrt, n_estimators=100 ...............\n",
      "[CV]  max_depth=20, max_features=sqrt, n_estimators=100, score=0.894, total=   1.5s\n",
      "[CV] max_depth=20, max_features=sqrt, n_estimators=100 ...............\n",
      "[CV]  max_depth=20, max_features=sqrt, n_estimators=100, score=0.895, total=   1.5s\n",
      "[CV] max_depth=20, max_features=sqrt, n_estimators=100 ...............\n"
     ]
    },
    {
     "name": "stdout",
     "output_type": "stream",
     "text": [
      "[CV]  max_depth=20, max_features=sqrt, n_estimators=100, score=0.886, total=   1.5s\n",
      "[CV] max_depth=20, max_features=sqrt, n_estimators=100 ...............\n",
      "[CV]  max_depth=20, max_features=sqrt, n_estimators=100, score=0.883, total=   2.0s\n",
      "[CV] max_depth=20, max_features=sqrt, n_estimators=150 ...............\n",
      "[CV]  max_depth=20, max_features=sqrt, n_estimators=150, score=0.909, total=   2.9s\n",
      "[CV] max_depth=20, max_features=sqrt, n_estimators=150 ...............\n",
      "[CV]  max_depth=20, max_features=sqrt, n_estimators=150, score=0.900, total=   2.8s\n",
      "[CV] max_depth=20, max_features=sqrt, n_estimators=150 ...............\n",
      "[CV]  max_depth=20, max_features=sqrt, n_estimators=150, score=0.892, total=   2.7s\n",
      "[CV] max_depth=20, max_features=sqrt, n_estimators=150 ...............\n",
      "[CV]  max_depth=20, max_features=sqrt, n_estimators=150, score=0.885, total=   2.7s\n",
      "[CV] max_depth=20, max_features=sqrt, n_estimators=150 ...............\n",
      "[CV]  max_depth=20, max_features=sqrt, n_estimators=150, score=0.881, total=   2.9s\n",
      "[CV] max_depth=20, max_features=sqrt, n_estimators=200 ...............\n",
      "[CV]  max_depth=20, max_features=sqrt, n_estimators=200, score=0.905, total=   3.7s\n",
      "[CV] max_depth=20, max_features=sqrt, n_estimators=200 ...............\n",
      "[CV]  max_depth=20, max_features=sqrt, n_estimators=200, score=0.897, total=   3.3s\n",
      "[CV] max_depth=20, max_features=sqrt, n_estimators=200 ...............\n",
      "[CV]  max_depth=20, max_features=sqrt, n_estimators=200, score=0.889, total=   3.0s\n",
      "[CV] max_depth=20, max_features=sqrt, n_estimators=200 ...............\n",
      "[CV]  max_depth=20, max_features=sqrt, n_estimators=200, score=0.886, total=   3.3s\n",
      "[CV] max_depth=20, max_features=sqrt, n_estimators=200 ...............\n",
      "[CV]  max_depth=20, max_features=sqrt, n_estimators=200, score=0.880, total=   3.0s\n",
      "[CV] max_depth=20, max_features=sqrt, n_estimators=250 ...............\n",
      "[CV]  max_depth=20, max_features=sqrt, n_estimators=250, score=0.910, total=   3.7s\n",
      "[CV] max_depth=20, max_features=sqrt, n_estimators=250 ...............\n",
      "[CV]  max_depth=20, max_features=sqrt, n_estimators=250, score=0.895, total=   3.9s\n",
      "[CV] max_depth=20, max_features=sqrt, n_estimators=250 ...............\n",
      "[CV]  max_depth=20, max_features=sqrt, n_estimators=250, score=0.892, total=   3.8s\n",
      "[CV] max_depth=20, max_features=sqrt, n_estimators=250 ...............\n",
      "[CV]  max_depth=20, max_features=sqrt, n_estimators=250, score=0.885, total=   3.7s\n",
      "[CV] max_depth=20, max_features=sqrt, n_estimators=250 ...............\n",
      "[CV]  max_depth=20, max_features=sqrt, n_estimators=250, score=0.885, total=   3.9s\n",
      "[CV] max_depth=20, max_features=log2, n_estimators=50 ................\n",
      "[CV]  max_depth=20, max_features=log2, n_estimators=50, score=0.901, total=   0.7s\n",
      "[CV] max_depth=20, max_features=log2, n_estimators=50 ................\n",
      "[CV]  max_depth=20, max_features=log2, n_estimators=50, score=0.899, total=   0.8s\n",
      "[CV] max_depth=20, max_features=log2, n_estimators=50 ................\n",
      "[CV]  max_depth=20, max_features=log2, n_estimators=50, score=0.889, total=   0.7s\n",
      "[CV] max_depth=20, max_features=log2, n_estimators=50 ................\n",
      "[CV]  max_depth=20, max_features=log2, n_estimators=50, score=0.889, total=   0.8s\n",
      "[CV] max_depth=20, max_features=log2, n_estimators=50 ................\n",
      "[CV]  max_depth=20, max_features=log2, n_estimators=50, score=0.884, total=   0.7s\n",
      "[CV] max_depth=20, max_features=log2, n_estimators=100 ...............\n",
      "[CV]  max_depth=20, max_features=log2, n_estimators=100, score=0.905, total=   1.5s\n",
      "[CV] max_depth=20, max_features=log2, n_estimators=100 ...............\n",
      "[CV]  max_depth=20, max_features=log2, n_estimators=100, score=0.899, total=   1.5s\n",
      "[CV] max_depth=20, max_features=log2, n_estimators=100 ...............\n",
      "[CV]  max_depth=20, max_features=log2, n_estimators=100, score=0.889, total=   1.5s\n",
      "[CV] max_depth=20, max_features=log2, n_estimators=100 ...............\n",
      "[CV]  max_depth=20, max_features=log2, n_estimators=100, score=0.882, total=   1.5s\n",
      "[CV] max_depth=20, max_features=log2, n_estimators=100 ...............\n",
      "[CV]  max_depth=20, max_features=log2, n_estimators=100, score=0.885, total=   1.5s\n",
      "[CV] max_depth=20, max_features=log2, n_estimators=150 ...............\n",
      "[CV]  max_depth=20, max_features=log2, n_estimators=150, score=0.911, total=   2.3s\n",
      "[CV] max_depth=20, max_features=log2, n_estimators=150 ...............\n",
      "[CV]  max_depth=20, max_features=log2, n_estimators=150, score=0.898, total=   2.2s\n",
      "[CV] max_depth=20, max_features=log2, n_estimators=150 ...............\n",
      "[CV]  max_depth=20, max_features=log2, n_estimators=150, score=0.891, total=   2.3s\n",
      "[CV] max_depth=20, max_features=log2, n_estimators=150 ...............\n",
      "[CV]  max_depth=20, max_features=log2, n_estimators=150, score=0.885, total=   2.2s\n",
      "[CV] max_depth=20, max_features=log2, n_estimators=150 ...............\n",
      "[CV]  max_depth=20, max_features=log2, n_estimators=150, score=0.880, total=   2.2s\n",
      "[CV] max_depth=20, max_features=log2, n_estimators=200 ...............\n",
      "[CV]  max_depth=20, max_features=log2, n_estimators=200, score=0.908, total=   3.0s\n",
      "[CV] max_depth=20, max_features=log2, n_estimators=200 ...............\n",
      "[CV]  max_depth=20, max_features=log2, n_estimators=200, score=0.901, total=   3.0s\n",
      "[CV] max_depth=20, max_features=log2, n_estimators=200 ...............\n",
      "[CV]  max_depth=20, max_features=log2, n_estimators=200, score=0.892, total=   2.9s\n",
      "[CV] max_depth=20, max_features=log2, n_estimators=200 ...............\n",
      "[CV]  max_depth=20, max_features=log2, n_estimators=200, score=0.891, total=   3.0s\n",
      "[CV] max_depth=20, max_features=log2, n_estimators=200 ...............\n",
      "[CV]  max_depth=20, max_features=log2, n_estimators=200, score=0.879, total=   3.0s\n",
      "[CV] max_depth=20, max_features=log2, n_estimators=250 ...............\n",
      "[CV]  max_depth=20, max_features=log2, n_estimators=250, score=0.909, total=   3.7s\n",
      "[CV] max_depth=20, max_features=log2, n_estimators=250 ...............\n",
      "[CV]  max_depth=20, max_features=log2, n_estimators=250, score=0.899, total=   3.7s\n",
      "[CV] max_depth=20, max_features=log2, n_estimators=250 ...............\n",
      "[CV]  max_depth=20, max_features=log2, n_estimators=250, score=0.895, total=   3.7s\n",
      "[CV] max_depth=20, max_features=log2, n_estimators=250 ...............\n",
      "[CV]  max_depth=20, max_features=log2, n_estimators=250, score=0.885, total=   3.7s\n",
      "[CV] max_depth=20, max_features=log2, n_estimators=250 ...............\n",
      "[CV]  max_depth=20, max_features=log2, n_estimators=250, score=0.883, total=   3.7s\n",
      "[CV] max_depth=30, max_features=auto, n_estimators=50 ................\n",
      "[CV]  max_depth=30, max_features=auto, n_estimators=50, score=0.908, total=   0.8s\n",
      "[CV] max_depth=30, max_features=auto, n_estimators=50 ................\n",
      "[CV]  max_depth=30, max_features=auto, n_estimators=50, score=0.890, total=   0.8s\n",
      "[CV] max_depth=30, max_features=auto, n_estimators=50 ................\n",
      "[CV]  max_depth=30, max_features=auto, n_estimators=50, score=0.897, total=   0.8s\n",
      "[CV] max_depth=30, max_features=auto, n_estimators=50 ................\n",
      "[CV]  max_depth=30, max_features=auto, n_estimators=50, score=0.878, total=   0.7s\n",
      "[CV] max_depth=30, max_features=auto, n_estimators=50 ................\n",
      "[CV]  max_depth=30, max_features=auto, n_estimators=50, score=0.876, total=   0.8s\n",
      "[CV] max_depth=30, max_features=auto, n_estimators=100 ...............\n",
      "[CV]  max_depth=30, max_features=auto, n_estimators=100, score=0.909, total=   1.5s\n",
      "[CV] max_depth=30, max_features=auto, n_estimators=100 ...............\n",
      "[CV]  max_depth=30, max_features=auto, n_estimators=100, score=0.903, total=   1.5s\n",
      "[CV] max_depth=30, max_features=auto, n_estimators=100 ...............\n",
      "[CV]  max_depth=30, max_features=auto, n_estimators=100, score=0.884, total=   1.5s\n",
      "[CV] max_depth=30, max_features=auto, n_estimators=100 ...............\n",
      "[CV]  max_depth=30, max_features=auto, n_estimators=100, score=0.884, total=   1.5s\n",
      "[CV] max_depth=30, max_features=auto, n_estimators=100 ...............\n",
      "[CV]  max_depth=30, max_features=auto, n_estimators=100, score=0.885, total=   1.5s\n",
      "[CV] max_depth=30, max_features=auto, n_estimators=150 ...............\n",
      "[CV]  max_depth=30, max_features=auto, n_estimators=150, score=0.909, total=   2.3s\n",
      "[CV] max_depth=30, max_features=auto, n_estimators=150 ...............\n"
     ]
    },
    {
     "name": "stdout",
     "output_type": "stream",
     "text": [
      "[CV]  max_depth=30, max_features=auto, n_estimators=150, score=0.894, total=   2.2s\n",
      "[CV] max_depth=30, max_features=auto, n_estimators=150 ...............\n",
      "[CV]  max_depth=30, max_features=auto, n_estimators=150, score=0.892, total=   2.3s\n",
      "[CV] max_depth=30, max_features=auto, n_estimators=150 ...............\n",
      "[CV]  max_depth=30, max_features=auto, n_estimators=150, score=0.887, total=   2.2s\n",
      "[CV] max_depth=30, max_features=auto, n_estimators=150 ...............\n",
      "[CV]  max_depth=30, max_features=auto, n_estimators=150, score=0.882, total=   2.3s\n",
      "[CV] max_depth=30, max_features=auto, n_estimators=200 ...............\n",
      "[CV]  max_depth=30, max_features=auto, n_estimators=200, score=0.905, total=   3.0s\n",
      "[CV] max_depth=30, max_features=auto, n_estimators=200 ...............\n",
      "[CV]  max_depth=30, max_features=auto, n_estimators=200, score=0.895, total=   3.0s\n",
      "[CV] max_depth=30, max_features=auto, n_estimators=200 ...............\n",
      "[CV]  max_depth=30, max_features=auto, n_estimators=200, score=0.888, total=   3.1s\n",
      "[CV] max_depth=30, max_features=auto, n_estimators=200 ...............\n",
      "[CV]  max_depth=30, max_features=auto, n_estimators=200, score=0.886, total=   3.0s\n",
      "[CV] max_depth=30, max_features=auto, n_estimators=200 ...............\n",
      "[CV]  max_depth=30, max_features=auto, n_estimators=200, score=0.878, total=   3.1s\n",
      "[CV] max_depth=30, max_features=auto, n_estimators=250 ...............\n",
      "[CV]  max_depth=30, max_features=auto, n_estimators=250, score=0.910, total=   4.1s\n",
      "[CV] max_depth=30, max_features=auto, n_estimators=250 ...............\n",
      "[CV]  max_depth=30, max_features=auto, n_estimators=250, score=0.894, total=   3.7s\n",
      "[CV] max_depth=30, max_features=auto, n_estimators=250 ...............\n",
      "[CV]  max_depth=30, max_features=auto, n_estimators=250, score=0.883, total=   3.8s\n",
      "[CV] max_depth=30, max_features=auto, n_estimators=250 ...............\n",
      "[CV]  max_depth=30, max_features=auto, n_estimators=250, score=0.887, total=   3.7s\n",
      "[CV] max_depth=30, max_features=auto, n_estimators=250 ...............\n",
      "[CV]  max_depth=30, max_features=auto, n_estimators=250, score=0.884, total=   3.8s\n",
      "[CV] max_depth=30, max_features=sqrt, n_estimators=50 ................\n",
      "[CV]  max_depth=30, max_features=sqrt, n_estimators=50, score=0.906, total=   0.7s\n",
      "[CV] max_depth=30, max_features=sqrt, n_estimators=50 ................\n",
      "[CV]  max_depth=30, max_features=sqrt, n_estimators=50, score=0.899, total=   0.8s\n",
      "[CV] max_depth=30, max_features=sqrt, n_estimators=50 ................\n",
      "[CV]  max_depth=30, max_features=sqrt, n_estimators=50, score=0.887, total=   0.8s\n",
      "[CV] max_depth=30, max_features=sqrt, n_estimators=50 ................\n",
      "[CV]  max_depth=30, max_features=sqrt, n_estimators=50, score=0.883, total=   0.9s\n",
      "[CV] max_depth=30, max_features=sqrt, n_estimators=50 ................\n",
      "[CV]  max_depth=30, max_features=sqrt, n_estimators=50, score=0.872, total=   0.9s\n",
      "[CV] max_depth=30, max_features=sqrt, n_estimators=100 ...............\n",
      "[CV]  max_depth=30, max_features=sqrt, n_estimators=100, score=0.905, total=   1.7s\n",
      "[CV] max_depth=30, max_features=sqrt, n_estimators=100 ...............\n",
      "[CV]  max_depth=30, max_features=sqrt, n_estimators=100, score=0.904, total=   1.6s\n",
      "[CV] max_depth=30, max_features=sqrt, n_estimators=100 ...............\n",
      "[CV]  max_depth=30, max_features=sqrt, n_estimators=100, score=0.889, total=   1.7s\n",
      "[CV] max_depth=30, max_features=sqrt, n_estimators=100 ...............\n",
      "[CV]  max_depth=30, max_features=sqrt, n_estimators=100, score=0.884, total=   1.6s\n",
      "[CV] max_depth=30, max_features=sqrt, n_estimators=100 ...............\n",
      "[CV]  max_depth=30, max_features=sqrt, n_estimators=100, score=0.885, total=   1.6s\n",
      "[CV] max_depth=30, max_features=sqrt, n_estimators=150 ...............\n",
      "[CV]  max_depth=30, max_features=sqrt, n_estimators=150, score=0.908, total=   2.3s\n",
      "[CV] max_depth=30, max_features=sqrt, n_estimators=150 ...............\n",
      "[CV]  max_depth=30, max_features=sqrt, n_estimators=150, score=0.894, total=   2.3s\n",
      "[CV] max_depth=30, max_features=sqrt, n_estimators=150 ...............\n",
      "[CV]  max_depth=30, max_features=sqrt, n_estimators=150, score=0.889, total=   2.2s\n",
      "[CV] max_depth=30, max_features=sqrt, n_estimators=150 ...............\n",
      "[CV]  max_depth=30, max_features=sqrt, n_estimators=150, score=0.887, total=   2.3s\n",
      "[CV] max_depth=30, max_features=sqrt, n_estimators=150 ...............\n",
      "[CV]  max_depth=30, max_features=sqrt, n_estimators=150, score=0.883, total=   2.2s\n",
      "[CV] max_depth=30, max_features=sqrt, n_estimators=200 ...............\n",
      "[CV]  max_depth=30, max_features=sqrt, n_estimators=200, score=0.905, total=   3.1s\n",
      "[CV] max_depth=30, max_features=sqrt, n_estimators=200 ...............\n",
      "[CV]  max_depth=30, max_features=sqrt, n_estimators=200, score=0.904, total=   3.0s\n",
      "[CV] max_depth=30, max_features=sqrt, n_estimators=200 ...............\n",
      "[CV]  max_depth=30, max_features=sqrt, n_estimators=200, score=0.890, total=   3.0s\n",
      "[CV] max_depth=30, max_features=sqrt, n_estimators=200 ...............\n",
      "[CV]  max_depth=30, max_features=sqrt, n_estimators=200, score=0.884, total=   3.0s\n",
      "[CV] max_depth=30, max_features=sqrt, n_estimators=200 ...............\n",
      "[CV]  max_depth=30, max_features=sqrt, n_estimators=200, score=0.883, total=   3.1s\n",
      "[CV] max_depth=30, max_features=sqrt, n_estimators=250 ...............\n",
      "[CV]  max_depth=30, max_features=sqrt, n_estimators=250, score=0.908, total=   3.8s\n",
      "[CV] max_depth=30, max_features=sqrt, n_estimators=250 ...............\n",
      "[CV]  max_depth=30, max_features=sqrt, n_estimators=250, score=0.899, total=   3.7s\n",
      "[CV] max_depth=30, max_features=sqrt, n_estimators=250 ...............\n",
      "[CV]  max_depth=30, max_features=sqrt, n_estimators=250, score=0.892, total=   3.7s\n",
      "[CV] max_depth=30, max_features=sqrt, n_estimators=250 ...............\n",
      "[CV]  max_depth=30, max_features=sqrt, n_estimators=250, score=0.882, total=   3.8s\n",
      "[CV] max_depth=30, max_features=sqrt, n_estimators=250 ...............\n",
      "[CV]  max_depth=30, max_features=sqrt, n_estimators=250, score=0.884, total=   3.7s\n",
      "[CV] max_depth=30, max_features=log2, n_estimators=50 ................\n",
      "[CV]  max_depth=30, max_features=log2, n_estimators=50, score=0.908, total=   0.8s\n",
      "[CV] max_depth=30, max_features=log2, n_estimators=50 ................\n",
      "[CV]  max_depth=30, max_features=log2, n_estimators=50, score=0.898, total=   0.7s\n",
      "[CV] max_depth=30, max_features=log2, n_estimators=50 ................\n",
      "[CV]  max_depth=30, max_features=log2, n_estimators=50, score=0.895, total=   0.8s\n",
      "[CV] max_depth=30, max_features=log2, n_estimators=50 ................\n",
      "[CV]  max_depth=30, max_features=log2, n_estimators=50, score=0.878, total=   0.7s\n",
      "[CV] max_depth=30, max_features=log2, n_estimators=50 ................\n",
      "[CV]  max_depth=30, max_features=log2, n_estimators=50, score=0.882, total=   0.8s\n",
      "[CV] max_depth=30, max_features=log2, n_estimators=100 ...............\n",
      "[CV]  max_depth=30, max_features=log2, n_estimators=100, score=0.908, total=   1.6s\n",
      "[CV] max_depth=30, max_features=log2, n_estimators=100 ...............\n",
      "[CV]  max_depth=30, max_features=log2, n_estimators=100, score=0.900, total=   1.5s\n",
      "[CV] max_depth=30, max_features=log2, n_estimators=100 ...............\n",
      "[CV]  max_depth=30, max_features=log2, n_estimators=100, score=0.891, total=   1.5s\n",
      "[CV] max_depth=30, max_features=log2, n_estimators=100 ...............\n",
      "[CV]  max_depth=30, max_features=log2, n_estimators=100, score=0.882, total=   1.5s\n",
      "[CV] max_depth=30, max_features=log2, n_estimators=100 ...............\n",
      "[CV]  max_depth=30, max_features=log2, n_estimators=100, score=0.879, total=   1.5s\n",
      "[CV] max_depth=30, max_features=log2, n_estimators=150 ...............\n",
      "[CV]  max_depth=30, max_features=log2, n_estimators=150, score=0.902, total=   2.4s\n",
      "[CV] max_depth=30, max_features=log2, n_estimators=150 ...............\n",
      "[CV]  max_depth=30, max_features=log2, n_estimators=150, score=0.895, total=   2.2s\n",
      "[CV] max_depth=30, max_features=log2, n_estimators=150 ...............\n",
      "[CV]  max_depth=30, max_features=log2, n_estimators=150, score=0.895, total=   2.4s\n",
      "[CV] max_depth=30, max_features=log2, n_estimators=150 ...............\n",
      "[CV]  max_depth=30, max_features=log2, n_estimators=150, score=0.885, total=   2.4s\n",
      "[CV] max_depth=30, max_features=log2, n_estimators=150 ...............\n"
     ]
    },
    {
     "name": "stdout",
     "output_type": "stream",
     "text": [
      "[CV]  max_depth=30, max_features=log2, n_estimators=150, score=0.882, total=   2.5s\n",
      "[CV] max_depth=30, max_features=log2, n_estimators=200 ...............\n",
      "[CV]  max_depth=30, max_features=log2, n_estimators=200, score=0.906, total=   3.8s\n",
      "[CV] max_depth=30, max_features=log2, n_estimators=200 ...............\n",
      "[CV]  max_depth=30, max_features=log2, n_estimators=200, score=0.897, total=   3.2s\n",
      "[CV] max_depth=30, max_features=log2, n_estimators=200 ...............\n",
      "[CV]  max_depth=30, max_features=log2, n_estimators=200, score=0.891, total=   3.3s\n",
      "[CV] max_depth=30, max_features=log2, n_estimators=200 ...............\n",
      "[CV]  max_depth=30, max_features=log2, n_estimators=200, score=0.884, total=   3.1s\n",
      "[CV] max_depth=30, max_features=log2, n_estimators=200 ...............\n",
      "[CV]  max_depth=30, max_features=log2, n_estimators=200, score=0.877, total=   3.3s\n",
      "[CV] max_depth=30, max_features=log2, n_estimators=250 ...............\n",
      "[CV]  max_depth=30, max_features=log2, n_estimators=250, score=0.907, total=   4.1s\n",
      "[CV] max_depth=30, max_features=log2, n_estimators=250 ...............\n",
      "[CV]  max_depth=30, max_features=log2, n_estimators=250, score=0.902, total=   4.5s\n",
      "[CV] max_depth=30, max_features=log2, n_estimators=250 ...............\n",
      "[CV]  max_depth=30, max_features=log2, n_estimators=250, score=0.889, total=   4.2s\n",
      "[CV] max_depth=30, max_features=log2, n_estimators=250 ...............\n",
      "[CV]  max_depth=30, max_features=log2, n_estimators=250, score=0.888, total=   4.1s\n",
      "[CV] max_depth=30, max_features=log2, n_estimators=250 ...............\n",
      "[CV]  max_depth=30, max_features=log2, n_estimators=250, score=0.883, total=   3.8s\n",
      "[CV] max_depth=40, max_features=auto, n_estimators=50 ................\n",
      "[CV]  max_depth=40, max_features=auto, n_estimators=50, score=0.906, total=   0.8s\n",
      "[CV] max_depth=40, max_features=auto, n_estimators=50 ................\n",
      "[CV]  max_depth=40, max_features=auto, n_estimators=50, score=0.895, total=   0.7s\n",
      "[CV] max_depth=40, max_features=auto, n_estimators=50 ................\n",
      "[CV]  max_depth=40, max_features=auto, n_estimators=50, score=0.880, total=   0.8s\n",
      "[CV] max_depth=40, max_features=auto, n_estimators=50 ................\n",
      "[CV]  max_depth=40, max_features=auto, n_estimators=50, score=0.882, total=   0.8s\n",
      "[CV] max_depth=40, max_features=auto, n_estimators=50 ................\n",
      "[CV]  max_depth=40, max_features=auto, n_estimators=50, score=0.879, total=   0.8s\n",
      "[CV] max_depth=40, max_features=auto, n_estimators=100 ...............\n",
      "[CV]  max_depth=40, max_features=auto, n_estimators=100, score=0.906, total=   1.5s\n",
      "[CV] max_depth=40, max_features=auto, n_estimators=100 ...............\n",
      "[CV]  max_depth=40, max_features=auto, n_estimators=100, score=0.897, total=   1.5s\n",
      "[CV] max_depth=40, max_features=auto, n_estimators=100 ...............\n",
      "[CV]  max_depth=40, max_features=auto, n_estimators=100, score=0.888, total=   1.5s\n",
      "[CV] max_depth=40, max_features=auto, n_estimators=100 ...............\n",
      "[CV]  max_depth=40, max_features=auto, n_estimators=100, score=0.888, total=   1.5s\n",
      "[CV] max_depth=40, max_features=auto, n_estimators=100 ...............\n",
      "[CV]  max_depth=40, max_features=auto, n_estimators=100, score=0.881, total=   1.6s\n",
      "[CV] max_depth=40, max_features=auto, n_estimators=150 ...............\n",
      "[CV]  max_depth=40, max_features=auto, n_estimators=150, score=0.910, total=   2.4s\n",
      "[CV] max_depth=40, max_features=auto, n_estimators=150 ...............\n",
      "[CV]  max_depth=40, max_features=auto, n_estimators=150, score=0.899, total=   2.2s\n",
      "[CV] max_depth=40, max_features=auto, n_estimators=150 ...............\n",
      "[CV]  max_depth=40, max_features=auto, n_estimators=150, score=0.891, total=   2.4s\n",
      "[CV] max_depth=40, max_features=auto, n_estimators=150 ...............\n",
      "[CV]  max_depth=40, max_features=auto, n_estimators=150, score=0.886, total=   2.3s\n",
      "[CV] max_depth=40, max_features=auto, n_estimators=150 ...............\n",
      "[CV]  max_depth=40, max_features=auto, n_estimators=150, score=0.881, total=   2.3s\n",
      "[CV] max_depth=40, max_features=auto, n_estimators=200 ...............\n",
      "[CV]  max_depth=40, max_features=auto, n_estimators=200, score=0.912, total=   3.2s\n",
      "[CV] max_depth=40, max_features=auto, n_estimators=200 ...............\n",
      "[CV]  max_depth=40, max_features=auto, n_estimators=200, score=0.902, total=   3.0s\n",
      "[CV] max_depth=40, max_features=auto, n_estimators=200 ...............\n",
      "[CV]  max_depth=40, max_features=auto, n_estimators=200, score=0.888, total=   3.2s\n",
      "[CV] max_depth=40, max_features=auto, n_estimators=200 ...............\n",
      "[CV]  max_depth=40, max_features=auto, n_estimators=200, score=0.885, total=   3.1s\n",
      "[CV] max_depth=40, max_features=auto, n_estimators=200 ...............\n",
      "[CV]  max_depth=40, max_features=auto, n_estimators=200, score=0.881, total=   3.6s\n",
      "[CV] max_depth=40, max_features=auto, n_estimators=250 ...............\n",
      "[CV]  max_depth=40, max_features=auto, n_estimators=250, score=0.903, total=   4.2s\n",
      "[CV] max_depth=40, max_features=auto, n_estimators=250 ...............\n",
      "[CV]  max_depth=40, max_features=auto, n_estimators=250, score=0.895, total=   4.2s\n",
      "[CV] max_depth=40, max_features=auto, n_estimators=250 ...............\n",
      "[CV]  max_depth=40, max_features=auto, n_estimators=250, score=0.893, total=   5.2s\n",
      "[CV] max_depth=40, max_features=auto, n_estimators=250 ...............\n",
      "[CV]  max_depth=40, max_features=auto, n_estimators=250, score=0.884, total=   5.2s\n",
      "[CV] max_depth=40, max_features=auto, n_estimators=250 ...............\n",
      "[CV]  max_depth=40, max_features=auto, n_estimators=250, score=0.882, total=   5.4s\n",
      "[CV] max_depth=40, max_features=sqrt, n_estimators=50 ................\n",
      "[CV]  max_depth=40, max_features=sqrt, n_estimators=50, score=0.908, total=   0.8s\n",
      "[CV] max_depth=40, max_features=sqrt, n_estimators=50 ................\n",
      "[CV]  max_depth=40, max_features=sqrt, n_estimators=50, score=0.900, total=   1.1s\n",
      "[CV] max_depth=40, max_features=sqrt, n_estimators=50 ................\n",
      "[CV]  max_depth=40, max_features=sqrt, n_estimators=50, score=0.885, total=   0.9s\n",
      "[CV] max_depth=40, max_features=sqrt, n_estimators=50 ................\n",
      "[CV]  max_depth=40, max_features=sqrt, n_estimators=50, score=0.887, total=   0.9s\n",
      "[CV] max_depth=40, max_features=sqrt, n_estimators=50 ................\n",
      "[CV]  max_depth=40, max_features=sqrt, n_estimators=50, score=0.885, total=   0.8s\n",
      "[CV] max_depth=40, max_features=sqrt, n_estimators=100 ...............\n",
      "[CV]  max_depth=40, max_features=sqrt, n_estimators=100, score=0.907, total=   1.7s\n",
      "[CV] max_depth=40, max_features=sqrt, n_estimators=100 ...............\n",
      "[CV]  max_depth=40, max_features=sqrt, n_estimators=100, score=0.900, total=   1.6s\n",
      "[CV] max_depth=40, max_features=sqrt, n_estimators=100 ...............\n",
      "[CV]  max_depth=40, max_features=sqrt, n_estimators=100, score=0.890, total=   1.5s\n",
      "[CV] max_depth=40, max_features=sqrt, n_estimators=100 ...............\n",
      "[CV]  max_depth=40, max_features=sqrt, n_estimators=100, score=0.883, total=   1.7s\n",
      "[CV] max_depth=40, max_features=sqrt, n_estimators=100 ...............\n",
      "[CV]  max_depth=40, max_features=sqrt, n_estimators=100, score=0.881, total=   1.5s\n",
      "[CV] max_depth=40, max_features=sqrt, n_estimators=150 ...............\n",
      "[CV]  max_depth=40, max_features=sqrt, n_estimators=150, score=0.906, total=   2.3s\n",
      "[CV] max_depth=40, max_features=sqrt, n_estimators=150 ...............\n",
      "[CV]  max_depth=40, max_features=sqrt, n_estimators=150, score=0.898, total=   2.4s\n",
      "[CV] max_depth=40, max_features=sqrt, n_estimators=150 ...............\n",
      "[CV]  max_depth=40, max_features=sqrt, n_estimators=150, score=0.888, total=   2.4s\n",
      "[CV] max_depth=40, max_features=sqrt, n_estimators=150 ...............\n",
      "[CV]  max_depth=40, max_features=sqrt, n_estimators=150, score=0.883, total=   2.3s\n",
      "[CV] max_depth=40, max_features=sqrt, n_estimators=150 ...............\n",
      "[CV]  max_depth=40, max_features=sqrt, n_estimators=150, score=0.883, total=   2.4s\n",
      "[CV] max_depth=40, max_features=sqrt, n_estimators=200 ...............\n",
      "[CV]  max_depth=40, max_features=sqrt, n_estimators=200, score=0.907, total=   3.4s\n",
      "[CV] max_depth=40, max_features=sqrt, n_estimators=200 ...............\n",
      "[CV]  max_depth=40, max_features=sqrt, n_estimators=200, score=0.894, total=   3.2s\n",
      "[CV] max_depth=40, max_features=sqrt, n_estimators=200 ...............\n"
     ]
    },
    {
     "name": "stdout",
     "output_type": "stream",
     "text": [
      "[CV]  max_depth=40, max_features=sqrt, n_estimators=200, score=0.886, total=   3.4s\n",
      "[CV] max_depth=40, max_features=sqrt, n_estimators=200 ...............\n",
      "[CV]  max_depth=40, max_features=sqrt, n_estimators=200, score=0.887, total=   3.2s\n",
      "[CV] max_depth=40, max_features=sqrt, n_estimators=200 ...............\n",
      "[CV]  max_depth=40, max_features=sqrt, n_estimators=200, score=0.884, total=   3.2s\n",
      "[CV] max_depth=40, max_features=sqrt, n_estimators=250 ...............\n",
      "[CV]  max_depth=40, max_features=sqrt, n_estimators=250, score=0.908, total=   4.1s\n",
      "[CV] max_depth=40, max_features=sqrt, n_estimators=250 ...............\n",
      "[CV]  max_depth=40, max_features=sqrt, n_estimators=250, score=0.896, total=   3.9s\n",
      "[CV] max_depth=40, max_features=sqrt, n_estimators=250 ...............\n",
      "[CV]  max_depth=40, max_features=sqrt, n_estimators=250, score=0.891, total=   4.0s\n",
      "[CV] max_depth=40, max_features=sqrt, n_estimators=250 ...............\n",
      "[CV]  max_depth=40, max_features=sqrt, n_estimators=250, score=0.887, total=   3.8s\n",
      "[CV] max_depth=40, max_features=sqrt, n_estimators=250 ...............\n",
      "[CV]  max_depth=40, max_features=sqrt, n_estimators=250, score=0.880, total=   4.0s\n",
      "[CV] max_depth=40, max_features=log2, n_estimators=50 ................\n",
      "[CV]  max_depth=40, max_features=log2, n_estimators=50, score=0.907, total=   0.8s\n",
      "[CV] max_depth=40, max_features=log2, n_estimators=50 ................\n",
      "[CV]  max_depth=40, max_features=log2, n_estimators=50, score=0.896, total=   0.8s\n",
      "[CV] max_depth=40, max_features=log2, n_estimators=50 ................\n",
      "[CV]  max_depth=40, max_features=log2, n_estimators=50, score=0.888, total=   0.7s\n",
      "[CV] max_depth=40, max_features=log2, n_estimators=50 ................\n",
      "[CV]  max_depth=40, max_features=log2, n_estimators=50, score=0.885, total=   0.8s\n",
      "[CV] max_depth=40, max_features=log2, n_estimators=50 ................\n",
      "[CV]  max_depth=40, max_features=log2, n_estimators=50, score=0.874, total=   0.8s\n",
      "[CV] max_depth=40, max_features=log2, n_estimators=100 ...............\n",
      "[CV]  max_depth=40, max_features=log2, n_estimators=100, score=0.906, total=   1.7s\n",
      "[CV] max_depth=40, max_features=log2, n_estimators=100 ...............\n",
      "[CV]  max_depth=40, max_features=log2, n_estimators=100, score=0.895, total=   1.6s\n",
      "[CV] max_depth=40, max_features=log2, n_estimators=100 ...............\n",
      "[CV]  max_depth=40, max_features=log2, n_estimators=100, score=0.883, total=   2.0s\n",
      "[CV] max_depth=40, max_features=log2, n_estimators=100 ...............\n",
      "[CV]  max_depth=40, max_features=log2, n_estimators=100, score=0.885, total=   1.7s\n",
      "[CV] max_depth=40, max_features=log2, n_estimators=100 ...............\n",
      "[CV]  max_depth=40, max_features=log2, n_estimators=100, score=0.880, total=   1.6s\n",
      "[CV] max_depth=40, max_features=log2, n_estimators=150 ...............\n",
      "[CV]  max_depth=40, max_features=log2, n_estimators=150, score=0.907, total=   2.5s\n",
      "[CV] max_depth=40, max_features=log2, n_estimators=150 ...............\n",
      "[CV]  max_depth=40, max_features=log2, n_estimators=150, score=0.895, total=   2.2s\n",
      "[CV] max_depth=40, max_features=log2, n_estimators=150 ...............\n",
      "[CV]  max_depth=40, max_features=log2, n_estimators=150, score=0.889, total=   2.3s\n",
      "[CV] max_depth=40, max_features=log2, n_estimators=150 ...............\n",
      "[CV]  max_depth=40, max_features=log2, n_estimators=150, score=0.885, total=   2.4s\n",
      "[CV] max_depth=40, max_features=log2, n_estimators=150 ...............\n",
      "[CV]  max_depth=40, max_features=log2, n_estimators=150, score=0.882, total=   2.4s\n",
      "[CV] max_depth=40, max_features=log2, n_estimators=200 ...............\n",
      "[CV]  max_depth=40, max_features=log2, n_estimators=200, score=0.908, total=   4.3s\n",
      "[CV] max_depth=40, max_features=log2, n_estimators=200 ...............\n",
      "[CV]  max_depth=40, max_features=log2, n_estimators=200, score=0.893, total=   3.2s\n",
      "[CV] max_depth=40, max_features=log2, n_estimators=200 ...............\n",
      "[CV]  max_depth=40, max_features=log2, n_estimators=200, score=0.888, total=   3.3s\n",
      "[CV] max_depth=40, max_features=log2, n_estimators=200 ...............\n",
      "[CV]  max_depth=40, max_features=log2, n_estimators=200, score=0.885, total=   3.3s\n",
      "[CV] max_depth=40, max_features=log2, n_estimators=200 ...............\n",
      "[CV]  max_depth=40, max_features=log2, n_estimators=200, score=0.885, total=   3.2s\n",
      "[CV] max_depth=40, max_features=log2, n_estimators=250 ...............\n",
      "[CV]  max_depth=40, max_features=log2, n_estimators=250, score=0.907, total=   4.1s\n",
      "[CV] max_depth=40, max_features=log2, n_estimators=250 ...............\n",
      "[CV]  max_depth=40, max_features=log2, n_estimators=250, score=0.897, total=   4.0s\n",
      "[CV] max_depth=40, max_features=log2, n_estimators=250 ...............\n",
      "[CV]  max_depth=40, max_features=log2, n_estimators=250, score=0.888, total=   4.0s\n",
      "[CV] max_depth=40, max_features=log2, n_estimators=250 ...............\n",
      "[CV]  max_depth=40, max_features=log2, n_estimators=250, score=0.889, total=   4.0s\n",
      "[CV] max_depth=40, max_features=log2, n_estimators=250 ...............\n",
      "[CV]  max_depth=40, max_features=log2, n_estimators=250, score=0.885, total=   4.1s\n"
     ]
    },
    {
     "name": "stderr",
     "output_type": "stream",
     "text": [
      "[Parallel(n_jobs=1)]: Done 300 out of 300 | elapsed: 11.3min finished\n"
     ]
    }
   ],
   "source": [
    "# Train the model with GridSearch\n",
    "grid_result = grid.fit(X_train_scaled, y_train)"
   ]
  },
  {
   "cell_type": "code",
   "execution_count": 18,
   "metadata": {},
   "outputs": [
    {
     "name": "stdout",
     "output_type": "stream",
     "text": [
      "{'max_depth': 20, 'max_features': 'sqrt', 'n_estimators': 50}\n",
      "0.8950956563502863\n"
     ]
    }
   ],
   "source": [
    "# Output the grid search best params and best score\n",
    "print(grid.best_params_)\n",
    "print(grid.best_score_)"
   ]
  },
  {
   "cell_type": "code",
   "execution_count": 19,
   "metadata": {},
   "outputs": [
    {
     "name": "stdout",
     "output_type": "stream",
     "text": [
      "Training Data Score: 0.9969483120350944\n",
      "Testing Data Score: 0.8947368421052632\n"
     ]
    }
   ],
   "source": [
    "# Output the grid training and test scores\n",
    "print(f\"Training Data Score: {grid.score(X_train_scaled, y_train)}\")\n",
    "print(f\"Testing Data Score: {grid.score(X_test_scaled, y_test)}\")"
   ]
  },
  {
   "cell_type": "code",
   "execution_count": 20,
   "metadata": {},
   "outputs": [
    {
     "data": {
      "text/plain": [
       "RandomForestClassifier(max_depth=20, max_features='sqrt', n_estimators=50)"
      ]
     },
     "execution_count": 20,
     "metadata": {},
     "output_type": "execute_result"
    }
   ],
   "source": [
    "# Found in article https://medium.com/datadriveninvestor/an-introduction-to-grid-search-ff57adcc0998\n",
    "best_params = grid_result.best_params_\n",
    "best_rf = RandomForestClassifier(max_depth=best_params[\"max_depth\"], max_features=best_params[\"max_features\"], n_estimators=best_params[\"n_estimators\"])\n",
    "best_rf.fit(X_train_scaled, y_train)"
   ]
  },
  {
   "cell_type": "code",
   "execution_count": 21,
   "metadata": {},
   "outputs": [
    {
     "name": "stdout",
     "output_type": "stream",
     "text": [
      "Best Random Forest Training Data Score: 0.9954224680526416\n",
      "Best Random Forest Testing Data Score: 0.8953089244851259\n"
     ]
    }
   ],
   "source": [
    "# Output the training and test scores for the best params model\n",
    "print(f\"Best Random Forest Training Data Score: {best_rf.score(X_train_scaled, y_train)}\")\n",
    "print(f\"Best Random Forest Testing Data Score: {best_rf.score(X_test_scaled, y_test)}\")"
   ]
  },
  {
   "cell_type": "code",
   "execution_count": 22,
   "metadata": {},
   "outputs": [
    {
     "name": "stdout",
     "output_type": "stream",
     "text": [
      "                precision    recall  f1-score   support\n",
      "\n",
      "      CANIDATE       0.81      0.76      0.79       411\n",
      "     CONFIRMED       0.82      0.83      0.83       484\n",
      "FALSE POSITIVE       0.98      0.99      0.98       853\n",
      "\n",
      "      accuracy                           0.90      1748\n",
      "     macro avg       0.87      0.86      0.87      1748\n",
      "  weighted avg       0.89      0.90      0.89      1748\n",
      "\n"
     ]
    }
   ],
   "source": [
    "# Make predictions and calculate classification report\n",
    "predictions = best_rf.predict(X_test_scaled)\n",
    "print(classification_report(y_test, predictions,\n",
    "                            target_names=target_names))"
   ]
  },
  {
   "cell_type": "code",
   "execution_count": 23,
   "metadata": {},
   "outputs": [
    {
     "data": {
      "image/png": "[encoded data removed]",
      "text/plain": [
       "<Figure size 432x288 with 1 Axes>"
      ]
     },
     "metadata": {
      "needs_background": "light"
     },
     "output_type": "display_data"
    }
   ],
   "source": [
    "# Create a preduction vs original chart\n",
    "x_ax = range(len(y_test[:30]))\n",
    "plt.scatter(x_ax, y_test[:30], s=5, color=\"blue\", label=\"original\")\n",
    "plt.plot(x_ax, predictions[:30], lw=0.8, color=\"red\", label=\"predicted\")\n",
    "plt.title('First 30 predictions')\n",
    "plt.legend()\n",
    "# Save the plot\n",
    "plt.tight_layout()\n",
    "plt.savefig(os.path.join(\"..\", \"Images\", \"random_forest_plot.png\"))\n",
    "# Show the figure\n",
    "plt.show()"
   ]
  },
  {
   "cell_type": "markdown",
   "metadata": {},
   "source": [
    "# Save the Model"
   ]
  },
  {
   "cell_type": "code",
   "execution_count": 24,
   "metadata": {},
   "outputs": [
    {
     "data": {
      "text/plain": [
       "['..\\\\models\\\\model_random_forest.sav']"
      ]
     },
     "execution_count": 24,
     "metadata": {},
     "output_type": "execute_result"
    }
   ],
   "source": [
    "# Save the model\n",
    "filename = os.path.join(\"..\", \"models\", \"model_random_forest.sav\")\n",
    "joblib.dump(best_rf, filename)"
   ]
  },
  {
   "cell_type": "markdown",
   "metadata": {},
   "source": [
    "# Save the Grid"
   ]
  },
  {
   "cell_type": "code",
   "execution_count": 25,
   "metadata": {},
   "outputs": [
    {
     "data": {
      "text/plain": [
       "['..\\\\models\\\\grid_random_forest.sav']"
      ]
     },
     "execution_count": 25,
     "metadata": {},
     "output_type": "execute_result"
    }
   ],
   "source": [
    "# Save the grid\n",
    "filename = os.path.join(\"..\", \"models\", \"grid_random_forest.sav\")\n",
    "joblib.dump(grid, filename)"
   ]
  }
 ],
 "metadata": {
  "kernel_info": {
   "name": "dev"
  },
  "kernelspec": {
   "display_name": "Python [conda env:PythonData]",
   "language": "python",
   "name": "conda-env-PythonData-py"
  },
  "language_info": {
   "codemirror_mode": {
    "name": "ipython",
    "version": 3
   },
   "file_extension": ".py",
   "mimetype": "text/x-python",
   "name": "python",
   "nbconvert_exporter": "python",
   "pygments_lexer": "ipython3",
   "version": "3.6.10"
  },
  "nteract": {
   "version": "0.12.3"
  }
 },
 "nbformat": 4,
 "nbformat_minor": 2
}
